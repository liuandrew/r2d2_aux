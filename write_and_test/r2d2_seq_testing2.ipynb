{
 "cells": [
  {
   "cell_type": "code",
   "execution_count": 1,
   "id": "31e49c43-0769-493a-b7a1-e0a659843274",
   "metadata": {},
   "outputs": [],
   "source": [
    "import sys\n",
    "sys.path.append('../r2d2_algo/')\n",
    "import numpy as np\n",
    "from gym import spaces\n",
    "import torch\n",
    "from torch import nn\n",
    "from segment_tree import SumSegmentTree, MinSegmentTree\n",
    "import random\n",
    "import torch\n",
    "from torch import nn\n",
    "import torch.nn.functional as F\n",
    "from model import RNNQNetwork, linear_schedule\n",
    "from storage import ContinuousSequenceReplayBuffer, SequenceReplayBuffer\n",
    "from envs import make_vec_envs\n",
    "import torch.optim as optim\n",
    "import random\n",
    "import numpy as np\n",
    "import gym\n",
    "import gym_nav\n",
    "import time\n",
    "%run ../r2d2_algo/r2d2_class.py\n",
    "\n",
    "    \n",
    "    \n",
    "    \n",
    "def get_action_dim(action_space):\n",
    "    \"\"\"\n",
    "    Get the dimension of the action space.\n",
    "    \"\"\"\n",
    "    if isinstance(action_space, spaces.Box):\n",
    "        return int(np.prod(action_space.shape))\n",
    "    elif isinstance(action_space, spaces.Discrete):\n",
    "        # Action is an int\n",
    "        return 1\n",
    "    elif isinstance(action_space, spaces.MultiDiscrete):\n",
    "        # Number of discrete actions\n",
    "        return int(len(action_space.nvec))\n",
    "    elif isinstance(action_space, spaces.MultiBinary):\n",
    "        # Number of binary actions\n",
    "        assert isinstance(\n",
    "            action_space.n, int\n",
    "        ), \"Multi-dimensional MultiBinary action space is not supported. You can flatten it instead.\"\n",
    "        return int(action_space.n)\n",
    "    else:\n",
    "        raise NotImplementedError(f\"{action_space} action space is not supported\")"
   ]
  },
  {
   "cell_type": "code",
   "execution_count": 38,
   "id": "2f217627-1c8d-494c-96b9-d990c236a172",
   "metadata": {},
   "outputs": [],
   "source": [
    "env_kwargs = {\n",
    "        'num_objects': 0, 'rew_structure': 'goal',\n",
    "        'task_structure': 2, 'wall_colors': 4,\n",
    "        'num_rays': 12, 'fov': 1\n",
    "}\n",
    "env = gym.make('NavEnv-v0', **env_kwargs)\n",
    "agent = R2D2Agent(env_id='NavEnv-v0', env_kwargs=env_kwargs,\n",
    "                 verbose=1, buffer_size=1000, batch_size=256,\n",
    "                 burn_in_length=4, n_envs=4, dummy_env=True,\n",
    "                 learning_starts=1000, train_frequency=8)"
   ]
  },
  {
   "cell_type": "code",
   "execution_count": null,
   "id": "8034dfa4-e907-4f92-b8e1-51dea1b0e119",
   "metadata": {},
   "outputs": [],
   "source": []
  },
  {
   "cell_type": "code",
   "execution_count": 39,
   "id": "ddf5280e-28dd-4fa1-bcda-b4ff89f62b72",
   "metadata": {},
   "outputs": [
    {
     "name": "stdout",
     "output_type": "stream",
     "text": [
      "Mean episode length 22.0, mean return 0.0\n",
      "Mean episode length 22.0, mean return 0.0\n"
     ]
    }
   ],
   "source": [
    "agent.train(1)"
   ]
  },
  {
   "cell_type": "code",
   "execution_count": 17,
   "id": "b7213006-1cc2-4b58-8a6a-a79b02deb331",
   "metadata": {},
   "outputs": [],
   "source": [
    "agent.collect(2)"
   ]
  },
  {
   "cell_type": "code",
   "execution_count": 25,
   "id": "63bd3f11-e402-4b22-a031-5292bb8ce0e0",
   "metadata": {},
   "outputs": [],
   "source": [
    "sample = agent.rb.sample(256)"
   ]
  },
  {
   "cell_type": "code",
   "execution_count": 29,
   "id": "131be819-d777-4302-9dc8-65560aca0038",
   "metadata": {},
   "outputs": [
    {
     "data": {
      "text/plain": [
       "3"
      ]
     },
     "execution_count": 29,
     "metadata": {},
     "output_type": "execute_result"
    }
   ],
   "source": [
    "agent.rb.pos"
   ]
  },
  {
   "cell_type": "code",
   "execution_count": 28,
   "id": "062114c0-0b83-45e4-88a6-411d12955bcd",
   "metadata": {},
   "outputs": [
    {
     "data": {
      "text/plain": [
       "False"
      ]
     },
     "execution_count": 28,
     "metadata": {},
     "output_type": "execute_result"
    }
   ],
   "source": [
    "agent.rb.full"
   ]
  },
  {
   "cell_type": "code",
   "execution_count": 27,
   "id": "62504bca-fade-4add-9390-a335f7b1e8e3",
   "metadata": {},
   "outputs": [
    {
     "data": {
      "text/plain": [
       "3"
      ]
     },
     "execution_count": 27,
     "metadata": {},
     "output_type": "execute_result"
    }
   ],
   "source": [
    "len(agent.rb)"
   ]
  },
  {
   "cell_type": "code",
   "execution_count": 19,
   "id": "26844a06-683c-4462-9406-7d0730c2a8bc",
   "metadata": {},
   "outputs": [
    {
     "data": {
      "text/plain": [
       "56024"
      ]
     },
     "execution_count": 19,
     "metadata": {},
     "output_type": "execute_result"
    }
   ],
   "source": [
    "agent.global_step"
   ]
  },
  {
   "cell_type": "code",
   "execution_count": 286,
   "id": "86c99ff5-040b-4523-80cf-7bc58c8437d2",
   "metadata": {},
   "outputs": [],
   "source": [
    "sample = agent.rb.sample(256)"
   ]
  },
  {
   "cell_type": "code",
   "execution_count": 287,
   "id": "a90d4066-1c8c-471d-a7b4-23aa8bd6f9a3",
   "metadata": {},
   "outputs": [
    {
     "data": {
      "text/plain": [
       "torch.Size([37, 16, 24])"
      ]
     },
     "execution_count": 287,
     "metadata": {},
     "output_type": "execute_result"
    }
   ],
   "source": [
    "sample['observations'].shape"
   ]
  },
  {
   "cell_type": "code",
   "execution_count": 144,
   "id": "dd0af12b-9f33-4abb-bfae-1afc4c545727",
   "metadata": {},
   "outputs": [],
   "source": [
    "\n",
    "action, q_values, next_rnn_hxs = agent.act(agent.obs, agent.rnn_hxs, masks=agent.masks)\n",
    "env = agent.env\n",
    "next_obs, reward, done, info = env.step(action)\n"
   ]
  },
  {
   "cell_type": "code",
   "execution_count": 46,
   "id": "b4320456-da8b-4205-90e8-b4c43dea354d",
   "metadata": {},
   "outputs": [
    {
     "data": {
      "text/plain": [
       "256"
      ]
     },
     "execution_count": 46,
     "metadata": {},
     "output_type": "execute_result"
    }
   ],
   "source": [
    "agent.batch_size"
   ]
  },
  {
   "cell_type": "code",
   "execution_count": 89,
   "id": "04c414a1-1c5a-48d6-9a2b-5d0eaf8b98e5",
   "metadata": {},
   "outputs": [],
   "source": [
    "sample = agent.rb.sample(256)\n",
    "states = sample['observations']\n",
    "next_states = sample['next_observations']\n",
    "hidden_states = sample['hidden_states']\n",
    "next_hidden_states = sample['next_hidden_states']\n",
    "actions = sample['actions']\n",
    "rewards = sample['rewards']\n",
    "dones = sample['dones']\n",
    "next_dones = sample['next_dones']\n",
    "#training_masks are given by SequenceReplayBuffer\n",
    "training_masks = sample['training_masks']\n",
    "\n",
    "with torch.no_grad():\n",
    "    target_q, _, _ = agent.target_network(next_states, next_hidden_states, next_dones)\n",
    "    target_max, _ = target_q.max(dim=2)\n",
    "    td_target = rewards + agent.gamma * target_max * (1 - dones)\n",
    "old_q, _, _ = agent.q_network(states, hidden_states, dones)\n",
    "old_val = old_q.gather(2, actions.long()).squeeze(2)\n",
    "\n",
    "# loss = F.mse_loss(td_target[:, agent.burn_in_length:], old_val[:, agent.burn_in_length:])\n",
    "weights = sample['weights']\n",
    "elementwise_loss = F.smooth_l1_loss(td_target[:, agent.burn_in_length:],\n",
    "                                    old_val[:, agent.burn_in_length:], reduction='none')\n",
    "# loss = torch.mean(elementwise_loss * weights)\n",
    "loss = torch.mean(elementwise_loss * weights * training_masks)\n",
    "\n",
    "if agent.writer is not None and agent.global_update_step % 10 == 0:\n",
    "    agent.writer.add_scalar('losses/td_loss', loss, agent.global_step)\n",
    "    agent.writer.add_scalar('losses/q_values', old_val.mean().item(), agent.global_step)\n",
    "    sps = int(agent.global_step / (time.time() - agent.start_time))\n",
    "    # print('SPS:', int(sps))\n",
    "    agent.writer.add_scalar('charts/SPS', sps, agent.global_step)\n",
    "\n",
    "agent.optimizer.zero_grad()\n",
    "loss.backward()\n",
    "agent.optimizer.step()\n",
    "\n",
    "# PER: update priorities\n",
    "td_priorities = elementwise_loss.mean(dim=1).detach().cpu().numpy() + 1e-6\n",
    "agent.rb.update_priorities(sample['idxs'], td_priorities)"
   ]
  },
  {
   "cell_type": "code",
   "execution_count": 82,
   "id": "8482a854-95da-4dd8-8a58-5451e5ebba13",
   "metadata": {},
   "outputs": [
    {
     "data": {
      "text/plain": [
       "tensor([[0.1175]])"
      ]
     },
     "execution_count": 82,
     "metadata": {},
     "output_type": "execute_result"
    }
   ],
   "source": [
    "sample['weights']"
   ]
  },
  {
   "cell_type": "code",
   "execution_count": 83,
   "id": "07589b80-45b6-4393-81f8-80fcdb3197c6",
   "metadata": {},
   "outputs": [
    {
     "data": {
      "text/plain": [
       "torch.Size([1, 12])"
      ]
     },
     "execution_count": 83,
     "metadata": {},
     "output_type": "execute_result"
    }
   ],
   "source": [
    "old_val.shape"
   ]
  },
  {
   "cell_type": "code",
   "execution_count": 57,
   "id": "0f2dfb41-3698-40e3-8463-fd242c800f05",
   "metadata": {},
   "outputs": [
    {
     "data": {
      "text/plain": [
       "array([1., 1., 0., 0., 0., 0., 0., 0.], dtype=float32)"
      ]
     },
     "execution_count": 57,
     "metadata": {},
     "output_type": "execute_result"
    }
   ],
   "source": [
    "agent.rb.training_masks[152]"
   ]
  },
  {
   "cell_type": "code",
   "execution_count": 56,
   "id": "0371a558-fe5b-4ac2-9c23-42b71e57dae1",
   "metadata": {},
   "outputs": [
    {
     "data": {
      "text/plain": [
       "array([0., 0., 0., 0., 0., 1., 0., 0., 0., 0., 0., 0.], dtype=float32)"
      ]
     },
     "execution_count": 56,
     "metadata": {},
     "output_type": "execute_result"
    }
   ],
   "source": [
    "agent.rb.dones[152]"
   ]
  },
  {
   "cell_type": "code",
   "execution_count": 54,
   "id": "261d8885-9f2b-4964-b2ef-446e8b7db74a",
   "metadata": {},
   "outputs": [
    {
     "data": {
      "text/plain": [
       "152"
      ]
     },
     "execution_count": 54,
     "metadata": {},
     "output_type": "execute_result"
    }
   ],
   "source": [
    "sample['idxs'][5]"
   ]
  },
  {
   "cell_type": "code",
   "execution_count": 51,
   "id": "55c8f0bf-56e2-4167-b42a-6809a49a721f",
   "metadata": {},
   "outputs": [
    {
     "data": {
      "text/plain": [
       "tensor([[1., 1., 1., 1., 1., 1., 1., 1.],\n",
       "        [1., 1., 1., 1., 1., 1., 1., 1.],\n",
       "        [1., 1., 1., 1., 1., 1., 1., 1.],\n",
       "        [1., 1., 1., 1., 1., 1., 1., 1.],\n",
       "        [1., 1., 1., 1., 1., 1., 1., 1.],\n",
       "        [1., 1., 0., 0., 0., 0., 0., 0.],\n",
       "        [1., 1., 1., 1., 1., 1., 1., 1.],\n",
       "        [1., 1., 1., 1., 1., 1., 1., 1.],\n",
       "        [1., 1., 0., 0., 0., 0., 0., 0.],\n",
       "        [1., 1., 1., 1., 1., 1., 1., 1.],\n",
       "        [1., 1., 1., 1., 1., 1., 1., 1.],\n",
       "        [1., 1., 1., 1., 1., 1., 1., 1.],\n",
       "        [1., 1., 1., 1., 1., 1., 1., 1.],\n",
       "        [1., 1., 1., 1., 1., 1., 1., 1.],\n",
       "        [1., 1., 1., 1., 1., 1., 1., 1.],\n",
       "        [1., 1., 1., 1., 1., 1., 1., 1.],\n",
       "        [1., 1., 1., 1., 1., 1., 1., 1.],\n",
       "        [1., 1., 1., 1., 1., 1., 1., 1.],\n",
       "        [1., 1., 1., 1., 1., 1., 1., 1.],\n",
       "        [1., 1., 1., 1., 1., 1., 1., 1.],\n",
       "        [1., 1., 1., 1., 1., 1., 1., 1.],\n",
       "        [1., 1., 0., 0., 0., 0., 0., 0.],\n",
       "        [1., 1., 1., 1., 1., 1., 1., 1.],\n",
       "        [1., 1., 0., 0., 0., 0., 0., 0.],\n",
       "        [1., 1., 1., 1., 1., 1., 1., 1.],\n",
       "        [1., 1., 0., 0., 0., 0., 0., 0.],\n",
       "        [1., 1., 0., 0., 0., 0., 0., 0.],\n",
       "        [1., 1., 0., 0., 0., 0., 0., 0.],\n",
       "        [1., 1., 0., 0., 0., 0., 0., 0.],\n",
       "        [1., 1., 1., 1., 1., 1., 1., 1.],\n",
       "        [1., 1., 1., 1., 1., 1., 1., 1.],\n",
       "        [1., 1., 0., 0., 0., 0., 0., 0.],\n",
       "        [1., 1., 0., 0., 0., 0., 0., 0.],\n",
       "        [1., 1., 0., 0., 0., 0., 0., 0.],\n",
       "        [1., 1., 1., 1., 1., 1., 1., 1.],\n",
       "        [1., 1., 0., 0., 0., 0., 0., 0.],\n",
       "        [1., 1., 1., 1., 1., 1., 1., 1.],\n",
       "        [1., 1., 1., 1., 1., 1., 1., 1.],\n",
       "        [1., 1., 1., 1., 1., 1., 1., 1.],\n",
       "        [1., 1., 1., 1., 1., 1., 1., 1.],\n",
       "        [1., 1., 0., 0., 0., 0., 0., 0.],\n",
       "        [1., 1., 1., 1., 1., 1., 1., 1.]])"
      ]
     },
     "execution_count": 51,
     "metadata": {},
     "output_type": "execute_result"
    }
   ],
   "source": [
    "training_masks"
   ]
  },
  {
   "cell_type": "code",
   "execution_count": 50,
   "id": "ff5ecf74-d342-4205-9c00-01422970aa67",
   "metadata": {},
   "outputs": [
    {
     "data": {
      "text/plain": [
       "tensor([[0., 0., 0., 0., 0., 0., 0., 0., 0., 0., 0., 0.],\n",
       "        [0., 0., 0., 0., 0., 0., 0., 0., 0., 0., 0., 0.],\n",
       "        [0., 0., 0., 0., 0., 0., 0., 0., 0., 0., 0., 0.],\n",
       "        [0., 0., 0., 0., 0., 0., 0., 0., 0., 0., 0., 0.],\n",
       "        [0., 0., 0., 0., 0., 0., 0., 0., 0., 0., 0., 0.],\n",
       "        [0., 0., 0., 0., 0., 1., 0., 0., 0., 0., 0., 0.],\n",
       "        [0., 0., 0., 0., 0., 0., 0., 0., 0., 0., 0., 0.],\n",
       "        [0., 0., 0., 0., 0., 0., 0., 0., 0., 0., 0., 0.],\n",
       "        [0., 0., 0., 0., 0., 1., 0., 0., 0., 0., 0., 0.],\n",
       "        [0., 0., 0., 0., 0., 0., 0., 0., 0., 0., 0., 0.],\n",
       "        [0., 0., 0., 0., 0., 0., 0., 0., 0., 0., 0., 0.],\n",
       "        [0., 0., 0., 0., 0., 0., 0., 0., 0., 0., 0., 0.],\n",
       "        [0., 0., 0., 0., 0., 0., 0., 0., 0., 0., 0., 0.],\n",
       "        [0., 0., 0., 0., 0., 0., 0., 0., 0., 0., 0., 0.],\n",
       "        [0., 0., 0., 0., 0., 0., 0., 0., 0., 0., 0., 0.],\n",
       "        [0., 0., 0., 0., 0., 0., 0., 0., 0., 0., 0., 0.],\n",
       "        [0., 0., 0., 0., 0., 0., 0., 0., 0., 0., 0., 0.],\n",
       "        [0., 0., 0., 0., 0., 0., 0., 0., 0., 0., 0., 0.],\n",
       "        [0., 0., 0., 0., 0., 0., 0., 0., 0., 0., 0., 0.],\n",
       "        [0., 0., 0., 0., 0., 0., 0., 0., 0., 0., 0., 0.],\n",
       "        [0., 0., 0., 0., 0., 0., 0., 0., 0., 0., 0., 0.],\n",
       "        [0., 0., 0., 0., 0., 1., 0., 0., 0., 0., 0., 0.],\n",
       "        [0., 0., 0., 0., 0., 0., 0., 0., 0., 0., 0., 0.],\n",
       "        [0., 0., 0., 0., 0., 1., 0., 0., 0., 0., 0., 0.],\n",
       "        [0., 0., 0., 0., 0., 0., 0., 0., 0., 0., 0., 0.],\n",
       "        [0., 0., 0., 0., 0., 1., 0., 0., 0., 0., 0., 0.],\n",
       "        [0., 0., 0., 0., 0., 1., 0., 0., 0., 0., 0., 0.],\n",
       "        [0., 0., 0., 0., 0., 1., 0., 0., 0., 0., 0., 0.],\n",
       "        [0., 0., 0., 0., 0., 1., 0., 0., 0., 0., 0., 0.],\n",
       "        [0., 0., 0., 0., 0., 0., 0., 0., 0., 0., 0., 0.],\n",
       "        [0., 0., 0., 0., 0., 0., 0., 0., 0., 0., 0., 0.],\n",
       "        [0., 0., 0., 0., 0., 1., 0., 0., 0., 0., 0., 0.],\n",
       "        [0., 0., 0., 0., 0., 1., 0., 0., 0., 0., 0., 0.],\n",
       "        [0., 0., 0., 0., 0., 1., 0., 0., 0., 0., 0., 0.],\n",
       "        [0., 0., 0., 0., 0., 0., 0., 0., 0., 0., 0., 0.],\n",
       "        [0., 0., 0., 0., 0., 1., 0., 0., 0., 0., 0., 0.],\n",
       "        [0., 0., 0., 0., 0., 0., 0., 0., 0., 0., 0., 0.],\n",
       "        [0., 0., 0., 0., 0., 0., 0., 0., 0., 0., 0., 0.],\n",
       "        [0., 0., 0., 0., 0., 0., 0., 0., 0., 0., 0., 0.],\n",
       "        [0., 0., 0., 0., 0., 0., 0., 0., 0., 0., 0., 0.],\n",
       "        [0., 0., 0., 0., 0., 1., 0., 0., 0., 0., 0., 0.],\n",
       "        [0., 0., 0., 0., 0., 0., 0., 0., 0., 0., 0., 0.]])"
      ]
     },
     "execution_count": 50,
     "metadata": {},
     "output_type": "execute_result"
    }
   ],
   "source": [
    "dones"
   ]
  },
  {
   "cell_type": "code",
   "execution_count": 45,
   "id": "7db0dd2a-003d-4169-9ffa-0c375a1f56d4",
   "metadata": {},
   "outputs": [
    {
     "data": {
      "text/plain": [
       "tensor(36.)"
      ]
     },
     "execution_count": 45,
     "metadata": {},
     "output_type": "execute_result"
    }
   ],
   "source": [
    "training_masks.sum()"
   ]
  },
  {
   "cell_type": "code",
   "execution_count": 42,
   "id": "233e3550-a729-4a0f-a58a-a5d15a4c9a94",
   "metadata": {},
   "outputs": [
    {
     "data": {
      "text/plain": [
       "torch.Size([6, 12, 24])"
      ]
     },
     "execution_count": 42,
     "metadata": {},
     "output_type": "execute_result"
    }
   ],
   "source": [
    "states.shape"
   ]
  },
  {
   "cell_type": "code",
   "execution_count": 25,
   "id": "80654930-d824-4a43-8de6-19dfa8c7c828",
   "metadata": {},
   "outputs": [
    {
     "data": {
      "text/plain": [
       "torch.Size([1, 4, 64])"
      ]
     },
     "execution_count": 25,
     "metadata": {},
     "output_type": "execute_result"
    }
   ],
   "source": [
    "hidden_states.shape"
   ]
  },
  {
   "cell_type": "code",
   "execution_count": 26,
   "id": "b29f58d3-6537-4170-97c9-925ffb0dca03",
   "metadata": {},
   "outputs": [
    {
     "data": {
      "text/plain": [
       "torch.Size([1, 4, 64])"
      ]
     },
     "execution_count": 26,
     "metadata": {},
     "output_type": "execute_result"
    }
   ],
   "source": [
    "next_hidden_states.shape"
   ]
  },
  {
   "cell_type": "code",
   "execution_count": 21,
   "id": "ab6f990d-7273-4435-8a32-a184458e7d7f",
   "metadata": {},
   "outputs": [
    {
     "data": {
      "text/plain": [
       "tensor([[1.4553e-07, 1.4515e-07, 1.3384e-02, 5.2076e-02, 1.4448e-07, 1.3384e-02,\n",
       "         1.3384e-02, 1.4449e-07],\n",
       "        [3.6777e-03, 4.0718e-09, 4.7054e-02, 1.3871e-07, 3.8636e-03, 4.7342e-02,\n",
       "         3.9526e-03, 4.7866e-02],\n",
       "        [1.1588e-07, 1.1506e-07, 1.1452e-07, 1.1419e-07, 1.1399e-07, 1.1389e-07,\n",
       "         1.1383e-07, 1.1381e-07],\n",
       "        [4.9114e-02, 2.0491e-07, 2.0749e-07, 2.0899e-07, 2.0985e-07, 2.1033e-07,\n",
       "         2.1063e-07, 2.1083e-07]], grad_fn=<SmoothL1LossBackward0>)"
      ]
     },
     "execution_count": 21,
     "metadata": {},
     "output_type": "execute_result"
    }
   ],
   "source": [
    "elementwise_loss"
   ]
  },
  {
   "cell_type": "code",
   "execution_count": 13,
   "id": "e321a906-46f1-4355-8ff2-9cecf7338381",
   "metadata": {},
   "outputs": [
    {
     "data": {
      "text/plain": [
       "tensor([7.2243e-04, 9.7215e-04, 1.3732e-05, 2.8302e-06])"
      ]
     },
     "execution_count": 13,
     "metadata": {},
     "output_type": "execute_result"
    }
   ],
   "source": [
    "elementwise_loss.max(dim=1)[0].detach()"
   ]
  },
  {
   "cell_type": "code",
   "execution_count": 357,
   "id": "6a0c9ab5-9936-4d13-b9fa-7bcb06528867",
   "metadata": {},
   "outputs": [
    {
     "data": {
      "text/plain": [
       "array([[0., 0., 0., 0., 0., 0., 0., 0., 0., 0., 0., 0., 0., 0., 0., 0.],\n",
       "       [0., 0., 0., 0., 0., 0., 0., 0., 0., 0., 0., 0., 0., 0., 0., 0.],\n",
       "       [0., 0., 0., 0., 0., 0., 0., 0., 0., 0., 0., 0., 0., 0., 0., 0.],\n",
       "       [0., 0., 0., 0., 0., 0., 0., 0., 0., 0., 0., 0., 0., 0., 0., 0.]],\n",
       "      dtype=float32)"
      ]
     },
     "execution_count": 357,
     "metadata": {},
     "output_type": "execute_result"
    }
   ],
   "source": [
    "agent.rb.cur_dones"
   ]
  },
  {
   "cell_type": "code",
   "execution_count": 358,
   "id": "07ed2497-cd9a-45d7-92e5-71c740c29b10",
   "metadata": {},
   "outputs": [
    {
     "data": {
      "text/plain": [
       "array([[[0.        , 0.        , 0.        , 0.        , 0.        ],\n",
       "        [0.        , 0.        , 0.        , 0.        , 0.        ],\n",
       "        [0.        , 0.        , 0.        , 0.        , 0.        ],\n",
       "        [0.        , 0.        , 0.        , 0.        , 0.        ],\n",
       "        [0.        , 0.        , 0.        , 0.        , 0.        ],\n",
       "        [0.        , 0.        , 0.        , 0.        , 0.        ],\n",
       "        [0.        , 0.        , 0.        , 0.        , 0.        ],\n",
       "        [0.        , 0.        , 0.        , 0.        , 0.        ],\n",
       "        [0.        , 0.        , 0.        , 0.        , 0.        ],\n",
       "        [0.        , 0.        , 0.        , 0.        , 0.        ],\n",
       "        [0.        , 0.        , 0.        , 0.        , 0.        ],\n",
       "        [0.        , 0.        , 0.        , 0.        , 0.        ],\n",
       "        [0.        , 0.        , 0.        , 0.        , 0.        ],\n",
       "        [0.        , 0.        , 0.        , 0.        , 0.        ],\n",
       "        [0.        , 0.        , 0.        , 0.        , 0.        ],\n",
       "        [0.        , 0.        , 0.        , 0.        , 0.        ]],\n",
       "\n",
       "       [[0.33333334, 0.33333334, 0.33333334, 0.33333334, 0.33333334],\n",
       "        [0.33333334, 0.33333334, 0.33333334, 0.33333334, 0.33333334],\n",
       "        [0.33333334, 0.33333334, 0.33333334, 0.33333334, 0.33333334],\n",
       "        [0.33333334, 0.33333334, 0.33333334, 0.33333334, 0.33333334],\n",
       "        [0.33333334, 0.33333334, 0.33333334, 0.33333334, 0.33333334],\n",
       "        [0.33333334, 0.33333334, 0.33333334, 0.33333334, 0.33333334],\n",
       "        [0.33333334, 0.33333334, 0.33333334, 0.33333334, 0.33333334],\n",
       "        [0.33333334, 0.33333334, 0.33333334, 0.33333334, 0.33333334],\n",
       "        [0.        , 0.        , 0.        , 0.        , 0.        ],\n",
       "        [0.        , 0.        , 0.        , 0.        , 0.        ],\n",
       "        [0.        , 0.        , 0.        , 0.        , 0.        ],\n",
       "        [0.        , 0.        , 0.        , 0.        , 0.        ],\n",
       "        [0.        , 0.        , 0.        , 0.        , 0.        ],\n",
       "        [0.        , 0.        , 0.        , 0.        , 0.        ],\n",
       "        [0.        , 0.        , 0.        , 0.        , 0.        ],\n",
       "        [0.        , 0.        , 0.        , 0.        , 0.        ]],\n",
       "\n",
       "       [[0.33333334, 0.33333334, 0.33333334, 0.33333334, 0.33333334],\n",
       "        [0.33333334, 0.33333334, 0.33333334, 0.33333334, 0.33333334],\n",
       "        [0.33333334, 0.33333334, 0.33333334, 0.33333334, 0.33333334],\n",
       "        [0.33333334, 0.33333334, 0.33333334, 0.33333334, 0.33333334],\n",
       "        [0.33333334, 0.33333334, 0.33333334, 0.33333334, 0.33333334],\n",
       "        [0.33333334, 0.33333334, 0.33333334, 0.33333334, 0.33333334],\n",
       "        [0.33333334, 0.33333334, 0.33333334, 0.33333334, 0.33333334],\n",
       "        [0.33333334, 0.33333334, 0.33333334, 0.33333334, 0.33333334],\n",
       "        [0.33333334, 0.33333334, 0.33333334, 0.33333334, 0.33333334],\n",
       "        [0.33333334, 0.33333334, 0.33333334, 0.33333334, 0.33333334],\n",
       "        [0.33333334, 0.33333334, 0.33333334, 0.33333334, 0.33333334],\n",
       "        [0.33333334, 0.33333334, 0.33333334, 0.33333334, 0.33333334],\n",
       "        [0.        , 0.        , 0.        , 0.        , 0.        ],\n",
       "        [0.        , 0.        , 0.        , 0.        , 0.        ],\n",
       "        [0.        , 0.        , 0.        , 0.        , 0.        ],\n",
       "        [0.        , 0.        , 0.        , 0.        , 0.        ]],\n",
       "\n",
       "       [[0.16666667, 0.16666667, 0.33333334, 0.33333334, 0.33333334],\n",
       "        [0.16666667, 0.16666667, 0.33333334, 0.33333334, 0.33333334],\n",
       "        [0.33333334, 0.33333334, 0.33333334, 0.33333334, 0.33333334],\n",
       "        [0.33333334, 0.33333334, 0.33333334, 0.33333334, 0.33333334],\n",
       "        [0.33333334, 0.33333334, 0.33333334, 0.33333334, 0.33333334],\n",
       "        [0.33333334, 0.33333334, 0.33333334, 0.33333334, 0.33333334],\n",
       "        [0.33333334, 0.33333334, 0.33333334, 0.33333334, 0.33333334],\n",
       "        [0.33333334, 0.33333334, 0.33333334, 0.33333334, 0.33333334],\n",
       "        [0.33333334, 0.33333334, 0.33333334, 0.33333334, 0.33333334],\n",
       "        [0.33333334, 0.33333334, 0.33333334, 0.33333334, 0.33333334],\n",
       "        [0.33333334, 0.33333334, 0.33333334, 0.33333334, 0.33333334],\n",
       "        [0.33333334, 0.33333334, 0.33333334, 0.33333334, 0.33333334],\n",
       "        [0.        , 0.        , 0.        , 0.        , 0.        ],\n",
       "        [0.        , 0.        , 0.        , 0.        , 0.        ],\n",
       "        [0.        , 0.        , 0.        , 0.        , 0.        ],\n",
       "        [0.        , 0.        , 0.        , 0.        , 0.        ]]],\n",
       "      dtype=float32)"
      ]
     },
     "execution_count": 358,
     "metadata": {},
     "output_type": "execute_result"
    }
   ],
   "source": [
    "agent.rb.cur_observations[:, :, 5:10]"
   ]
  },
  {
   "cell_type": "markdown",
   "id": "504ac773-c710-456c-b17e-12114057b32b",
   "metadata": {},
   "source": [
    "# Setup specific environment and step collection tests"
   ]
  },
  {
   "cell_type": "code",
   "execution_count": 2,
   "id": "a85fd79d-977f-4fc4-9191-ac6e7f30fd6d",
   "metadata": {},
   "outputs": [],
   "source": [
    "env_kwargs = {\n",
    "    'num_objects': 0, 'rew_structure': 'goal',\n",
    "    'task_structure': 2, 'wall_colors': 4,\n",
    "    'num_rays': 12, 'fov': 1, 'fixed_reset': [np.array([50, 50]), np.pi/2]\n",
    "}\n",
    "env = gym.make('NavEnv-v0', **env_kwargs)\n",
    "\n",
    "agent = R2D2Agent(env_id='NavEnv-v0', env_kwargs=env_kwargs,\n",
    "                 verbose=1, buffer_size=1000, batch_size=256,\n",
    "                 burn_in_length=4, n_envs=2, dummy_env=True,\n",
    "                 learning_starts=1000, train_frequency=8)"
   ]
  },
  {
   "cell_type": "code",
   "execution_count": 3,
   "id": "94285b3a-0866-49e4-a2fb-5b9afa7de1dd",
   "metadata": {},
   "outputs": [],
   "source": [
    "fixed_actions = [[1, 1, 0, 0, 0, 0, 0, 0, 0, 0, 1, 1, 1, 1, 1, 1, 1, 1, 2, 1, 1, 1, 1, 1, 1, 1, 1, 0, 1, 1, 1, 1, 1, 1, #reaches goal here at 34 steps\n",
    "                  1, 1, 1, 0, 0, 0],\n",
    "           [1, 1, 0, 0, 0, 0, 0, 0, 0, 0, 1, 1, 1, 1, 1, 1, 1, 1, 2, 1, 1, 1, 1, 1, 1, 1, 1, 0, 0, 0, 0, 0, 0, 0, \n",
    "           1, 1, 1, 0, 0, 0]]\n",
    "\n",
    "env = agent.env\n",
    "rb = agent.rb\n",
    "num_steps = 40\n",
    "for t in range(num_steps):\n",
    "    outputs = agent.act(agent.obs, agent.rnn_hxs, masks=agent.masks)\n",
    "    # action = outputs['action']\n",
    "    action = np.array([[fixed_actions[0][t]], [fixed_actions[1][t]]], dtype='int64')\n",
    "    next_rnn_hxs = outputs['next_rnn_hxs']\n",
    "    next_obs, reward, done, info = env.step(action)\n",
    "\n",
    "    agent.cur_episode_r += reward\n",
    "    agent.cur_episode_t += 1\n",
    "\n",
    "    # Masks are used to reset hidden state when vectorized environmnts give dones\n",
    "    agent.masks = torch.FloatTensor(\n",
    "        [[0.0] if done_ else [1.0] for done_ in done])\n",
    "\n",
    "    for i, done_ in enumerate(done):\n",
    "        if done_:\n",
    "            agent.lengths.append(agent.cur_episode_t[i])\n",
    "            agent.returns.append(agent.cur_episode_r[i])\n",
    "\n",
    "            agent.cur_episode_r[i] = 0\n",
    "            agent.cur_episode_t[i] = 0\n",
    "\n",
    "\n",
    "    agent.rb.add(agent.obs, next_obs, action, reward, done, agent.rnn_hxs.detach())\n",
    "\n",
    "    agent.obs = next_obs\n",
    "    agent.rnn_hxs = next_rnn_hxs\n"
   ]
  },
  {
   "cell_type": "code",
   "execution_count": 4,
   "id": "45836eec-1b4f-4985-8c2c-e7fe514e4f3e",
   "metadata": {},
   "outputs": [
    {
     "data": {
      "image/png": "[encoded data removed]",
      "text/plain": [
       "<Figure size 432x432 with 1 Axes>"
      ]
     },
     "metadata": {
      "needs_background": "dark"
     },
     "output_type": "display_data"
    }
   ],
   "source": [
    "env.envs[0].render()"
   ]
  },
  {
   "cell_type": "code",
   "execution_count": 5,
   "id": "452a3e07-fd89-42a3-8e3b-417f10c4912c",
   "metadata": {},
   "outputs": [],
   "source": [
    "random.seed(1)\n",
    "np.random.seed(1)\n",
    "\n",
    "sample = rb.sample(4)"
   ]
  },
  {
   "cell_type": "code",
   "execution_count": 6,
   "id": "d7bc3ac4-dc4f-4ae3-851f-dad781d43bb6",
   "metadata": {},
   "outputs": [
    {
     "data": {
      "text/plain": [
       "tensor([[0., 0., 0., 0., 0., 0., 0., 0., 0., 0., 0., 0.],\n",
       "        [0., 0., 0., 0., 0., 0., 0., 0., 1., 0., 0., 0.],\n",
       "        [0., 0., 0., 0., 0., 0., 0., 0., 0., 0., 0., 0.],\n",
       "        [0., 0., 0., 0., 0., 0., 0., 0., 0., 0., 0., 0.]])"
      ]
     },
     "execution_count": 6,
     "metadata": {},
     "output_type": "execute_result"
    }
   ],
   "source": [
    "sample['dones']"
   ]
  },
  {
   "cell_type": "code",
   "execution_count": 9,
   "id": "f3c34627-9801-4e9f-a9a9-63c97ec7e9b3",
   "metadata": {},
   "outputs": [
    {
     "data": {
      "text/plain": [
       "tensor([[0., 0., 0., 0., 0., 0., 0., 0., 0., 0., 0., 0.],\n",
       "        [0., 0., 0., 0., 0., 0., 0., 0., 1., 0., 0., 0.],\n",
       "        [0., 0., 0., 0., 0., 0., 0., 0., 0., 0., 0., 0.],\n",
       "        [0., 0., 0., 0., 0., 0., 0., 0., 0., 0., 0., 0.]])"
      ]
     },
     "execution_count": 9,
     "metadata": {},
     "output_type": "execute_result"
    }
   ],
   "source": [
    "sample['rewards']"
   ]
  },
  {
   "cell_type": "code",
   "execution_count": 25,
   "id": "8d32535c-761a-49b1-8e04-78ebdd909e14",
   "metadata": {},
   "outputs": [],
   "source": [
    "final_q, _, _ = agent.target_network(next_states[:, -1:], all_next_hidden_states[:, -1].unsqueeze(0), next_dones[:, -1:])\n"
   ]
  },
  {
   "cell_type": "code",
   "execution_count": 26,
   "id": "d3c0def2-d7f9-420d-a12e-bf3c4ef91734",
   "metadata": {},
   "outputs": [
    {
     "data": {
      "text/plain": [
       "tensor([[[-0.1029, -0.0561, -0.0476, -0.0222]],\n",
       "\n",
       "        [[-0.1041, -0.0559, -0.0486, -0.0281]],\n",
       "\n",
       "        [[-0.1022, -0.0569, -0.0512, -0.0269]],\n",
       "\n",
       "        [[-0.0996, -0.0576, -0.0494, -0.0339]]], grad_fn=<ViewBackward0>)"
      ]
     },
     "execution_count": 26,
     "metadata": {},
     "output_type": "execute_result"
    }
   ],
   "source": [
    "q"
   ]
  },
  {
   "cell_type": "code",
   "execution_count": 28,
   "id": "01c3d05a-ae57-4355-9353-857bfc4ff5c6",
   "metadata": {},
   "outputs": [
    {
     "data": {
      "text/plain": [
       "tensor([[-0.1029, -0.0561, -0.0476, -0.0222],\n",
       "        [-0.1041, -0.0559, -0.0486, -0.0279],\n",
       "        [-0.1022, -0.0569, -0.0512, -0.0269],\n",
       "        [-0.0996, -0.0576, -0.0494, -0.0339]])"
      ]
     },
     "execution_count": 28,
     "metadata": {},
     "output_type": "execute_result"
    }
   ],
   "source": [
    "target_q[:, -1, :]"
   ]
  },
  {
   "cell_type": "code",
   "execution_count": null,
   "id": "220c666e-5ceb-4724-bf37-b2b97438e1d6",
   "metadata": {},
   "outputs": [],
   "source": []
  },
  {
   "cell_type": "code",
   "execution_count": null,
   "id": "28e6ba8b-03ab-4f0a-89f9-ae512ca3d35a",
   "metadata": {},
   "outputs": [
    {
     "ename": "IndexError",
     "evalue": "shape mismatch: indexing arrays could not be broadcast together with shapes (4,12) (4,) ",
     "output_type": "error",
     "traceback": [
      "\u001b[1;31m---------------------------------------------------------------------------\u001b[0m",
      "\u001b[1;31mIndexError\u001b[0m                                Traceback (most recent call last)",
      "Input \u001b[1;32mIn [40]\u001b[0m, in \u001b[0;36m<cell line: 1>\u001b[1;34m()\u001b[0m\n\u001b[1;32m----> 1\u001b[0m \u001b[43mrb\u001b[49m\u001b[38;5;241;43m.\u001b[39;49m\u001b[43mhidden_states\u001b[49m\u001b[43m[\u001b[49m\u001b[43msample\u001b[49m\u001b[43m[\u001b[49m\u001b[38;5;124;43m'\u001b[39;49m\u001b[38;5;124;43mseq_idxs\u001b[39;49m\u001b[38;5;124;43m'\u001b[39;49m\u001b[43m]\u001b[49m\u001b[38;5;241;43m+\u001b[39;49m\u001b[38;5;241;43m1\u001b[39;49m\u001b[43m,\u001b[49m\u001b[43m \u001b[49m\u001b[43msample\u001b[49m\u001b[43m[\u001b[49m\u001b[38;5;124;43m'\u001b[39;49m\u001b[38;5;124;43menv_idxs\u001b[39;49m\u001b[38;5;124;43m'\u001b[39;49m\u001b[43m]\u001b[49m\u001b[43m]\u001b[49m\n",
      "\u001b[1;31mIndexError\u001b[0m: shape mismatch: indexing arrays could not be broadcast together with shapes (4,12) (4,) "
     ]
    }
   ],
   "source": [
    "rb.hidden_states[sample['seq_idxs']+1, sample['env_idxs']]"
   ]
  },
  {
   "cell_type": "code",
   "execution_count": null,
   "id": "188a0adf-4d14-464a-ae91-3014f2dcfc26",
   "metadata": {},
   "outputs": [],
   "source": [
    "rb"
   ]
  },
  {
   "cell_type": "code",
   "execution_count": null,
   "id": "a248d41e-0419-4c0b-8b45-ec1ec94cb803",
   "metadata": {},
   "outputs": [],
   "source": []
  },
  {
   "cell_type": "code",
   "execution_count": 29,
   "id": "f9568cc7-809e-4feb-b217-62b9282421f2",
   "metadata": {},
   "outputs": [],
   "source": []
  },
  {
   "cell_type": "code",
   "execution_count": 43,
   "id": "2d11bb28-d850-45ee-a78a-2fe15e54a9f9",
   "metadata": {},
   "outputs": [
    {
     "data": {
      "text/plain": [
       "tensor([-0.0222, -0.0279, -0.0269, -0.0339])"
      ]
     },
     "execution_count": 43,
     "metadata": {},
     "output_type": "execute_result"
    }
   ],
   "source": [
    "target_max[:, -1]"
   ]
  },
  {
   "cell_type": "code",
   "execution_count": 41,
   "id": "91383b10-36a5-4a46-b62c-2506e0abae8c",
   "metadata": {},
   "outputs": [
    {
     "data": {
      "text/plain": [
       "tensor([-0.0222, -0.0281, -0.0269, -0.0339])"
      ]
     },
     "execution_count": 41,
     "metadata": {},
     "output_type": "execute_result"
    }
   ],
   "source": [
    "q_max.squeeze()"
   ]
  },
  {
   "cell_type": "code",
   "execution_count": 39,
   "id": "ff301b37-2adb-4de3-827e-9e6654283d71",
   "metadata": {},
   "outputs": [
    {
     "data": {
      "text/plain": [
       "torch.Size([4])"
      ]
     },
     "execution_count": 39,
     "metadata": {},
     "output_type": "execute_result"
    }
   ],
   "source": [
    "returns[:, -1].shape"
   ]
  },
  {
   "cell_type": "code",
   "execution_count": 46,
   "id": "b0105d6d-1fa6-4643-8555-d20a7f4534c1",
   "metadata": {},
   "outputs": [
    {
     "data": {
      "text/plain": [
       "tensor([[ 0.0000,  0.0000,  0.0000,  0.0000,  0.0000,  0.0000,  0.0000,  0.0000,\n",
       "          0.0000,  0.0000,  0.0000,  0.0000, -0.0222],\n",
       "        [ 0.0000,  0.0000,  0.0000,  0.0000,  0.0000,  0.0000,  0.0000,  0.0000,\n",
       "          0.0000,  0.0000,  0.0000,  0.0000, -0.0281],\n",
       "        [ 0.0000,  0.0000,  0.0000,  0.0000,  0.0000,  0.0000,  0.0000,  0.0000,\n",
       "          0.0000,  0.0000,  0.0000,  0.0000, -0.0269],\n",
       "        [ 0.0000,  0.0000,  0.0000,  0.0000,  0.0000,  0.0000,  0.0000,  0.0000,\n",
       "          0.0000,  0.0000,  0.0000,  0.0000, -0.0339]])"
      ]
     },
     "execution_count": 46,
     "metadata": {},
     "output_type": "execute_result"
    }
   ],
   "source": [
    "returns"
   ]
  },
  {
   "cell_type": "code",
   "execution_count": 48,
   "id": "8292344f-1452-49c7-b24d-38d855fc2c5d",
   "metadata": {},
   "outputs": [],
   "source": []
  },
  {
   "cell_type": "code",
   "execution_count": null,
   "id": "34e59b1c-215a-4b83-ab79-e40ea378de51",
   "metadata": {},
   "outputs": [],
   "source": [
    "retu"
   ]
  },
  {
   "cell_type": "code",
   "execution_count": 55,
   "id": "ea779734-5333-4f51-a6bf-c2a2f9d32ebc",
   "metadata": {},
   "outputs": [],
   "source": [
    "gamma = 0.99\n",
    "states = sample['observations']\n",
    "next_states = sample['next_observations']\n",
    "hidden_states = sample['hidden_states']\n",
    "next_hidden_states = sample['next_hidden_states']\n",
    "all_next_hidden_states = sample['all_next_hidden_states']\n",
    "actions = sample['actions']\n",
    "rewards = sample['rewards']\n",
    "dones = sample['dones']\n",
    "next_dones = sample['next_dones']\n",
    "\n",
    "# Compute returns\n",
    "with torch.no_grad():\n",
    "    returns = torch.zeros((rewards.shape[0], rewards.shape[1]+1))\n",
    "    final_q, _, _ = agent.target_network(next_states[:, -1:], all_next_hidden_states[:, -1].unsqueeze(0), next_dones[:, -1:])\n",
    "    q_max, _ = final_q.max(dim=2)\n",
    "    returns[:, -1] = q_max.squeeze()\n",
    "    \n",
    "    for step in reversed(range(rewards.shape[1])):\n",
    "        returns[:, step] = returns[:, step+1] * gamma * (1 - dones[:, step]) + rewards[:, step]\n",
    "    td_target = returns[:, :-1]\n",
    "# with torch.no_grad():\n",
    "#     target_q, _, _ = agent.target_network(next_states, next_hidden_states, next_dones)\n",
    "#     target_max, _ = target_q.max(dim=2)\n",
    "#     td_target = rewards + agent.gamma * target_max * (1 - dones)\n",
    "    \n",
    "    \n",
    "old_q, _, _ = agent.q_network(states, hidden_states, dones)\n",
    "old_val = old_q.gather(2, actions.long()).squeeze()\n",
    "\n",
    "weights = sample['weights']\n",
    "elementwise_loss = F.smooth_l1_loss(td_target[:, agent.burn_in_length:],\n",
    "                                    old_val[:, agent.burn_in_length:], reduction='none')\n",
    "loss = torch.mean(elementwise_loss * weights)\n",
    "\n",
    "# agent.optimizer.zero_grad()\n",
    "# loss.backward()\n",
    "# agent.optimizer.step()"
   ]
  },
  {
   "cell_type": "code",
   "execution_count": 56,
   "id": "c1c185ed-22e2-4d07-a2a9-f4c32e23d1bc",
   "metadata": {},
   "outputs": [
    {
     "data": {
      "text/plain": [
       "torch.Size([4, 12])"
      ]
     },
     "execution_count": 56,
     "metadata": {},
     "output_type": "execute_result"
    }
   ],
   "source": [
    "td_target.shape"
   ]
  },
  {
   "cell_type": "code",
   "execution_count": 52,
   "id": "9cc39cdb-7233-4481-a7ef-eb5bddadad14",
   "metadata": {},
   "outputs": [
    {
     "data": {
      "text/plain": [
       "tensor([[-0.0289, -0.0250, -0.0216, -0.0195, -0.0179, -0.0163, -0.0150, -0.0147,\n",
       "         -0.0178, -0.0195, -0.0208, -0.0220],\n",
       "        [-0.0305, -0.0314, -0.0318, -0.0325, -0.0332, -0.0340, -0.0349, -0.0316,\n",
       "          1.0000, -0.0300, -0.0284, -0.0276],\n",
       "        [-0.0195, -0.0208, -0.0220, -0.0233, -0.0244, -0.0254, -0.0265, -0.0275,\n",
       "         -0.0245, -0.0246, -0.0255, -0.0266],\n",
       "        [-0.0275, -0.0245, -0.0246, -0.0255, -0.0266, -0.0277, -0.0287, -0.0296,\n",
       "         -0.0305, -0.0314, -0.0318, -0.0336]])"
      ]
     },
     "execution_count": 52,
     "metadata": {},
     "output_type": "execute_result"
    }
   ],
   "source": [
    "td_target"
   ]
  },
  {
   "cell_type": "code",
   "execution_count": 66,
   "id": "d9c76929-24d8-47be-b660-1bff7e340cf9",
   "metadata": {},
   "outputs": [
    {
     "data": {
      "image/png": "[encoded data removed]",
      "text/plain": [
       "<Figure size 432x432 with 1 Axes>"
      ]
     },
     "metadata": {},
     "output_type": "display_data"
    }
   ],
   "source": [
    "# env.step(1)\n",
    "actions = [1, 1, 0, 0, 0, 0, 0, 0, 0, 0, 1, 1, 1, 1, 1, 1, 1, 1, 2, 1, 1, 1, 1, 1, 1, 1, 1, 0, 1, 1, 1, 1, 1, 1]\n",
    "for action in actions:\n",
    "    env.step(action)\n",
    "env.render()"
   ]
  },
  {
   "cell_type": "code",
   "execution_count": null,
   "id": "08f8f15d-711d-4046-b946-968649dbd0a0",
   "metadata": {},
   "outputs": [],
   "source": [
    "actions = [[1, 1, 0, 0, 0, 0, 0, 0, 0, 0, 1, 1, 1, 1, 1, 1, 1, 1, 2, 1, 1, 1, 1, 1, 1, 1, 1, 0, 1, 1, 1, 1, 1, 1],\n",
    "           [1, 1, 0, 0, 0, 0, 0, 0, 0, 0, 1, 1, 1, 1, 1, 1, 1, 1, 2, 1, 1, 1, 1, 1, 1, 1, 1, 0, 0, 0, 0, 0, 0, 0]]"
   ]
  }
 ],
 "metadata": {
  "kernelspec": {
   "display_name": "Python 3 (ipykernel)",
   "language": "python",
   "name": "python3"
  },
  "language_info": {
   "codemirror_mode": {
    "name": "ipython",
    "version": 3
   },
   "file_extension": ".py",
   "mimetype": "text/x-python",
   "name": "python",
   "nbconvert_exporter": "python",
   "pygments_lexer": "ipython3",
   "version": "3.9.12"
  }
 },
 "nbformat": 4,
 "nbformat_minor": 5
}
