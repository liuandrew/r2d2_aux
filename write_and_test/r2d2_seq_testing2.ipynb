{
 "cells": [
  {
   "cell_type": "code",
   "execution_count": 14,
   "id": "31e49c43-0769-493a-b7a1-e0a659843274",
   "metadata": {},
   "outputs": [],
   "source": [
    "import sys\n",
    "sys.path.append('../r2d2_algo/')\n",
    "import numpy as np\n",
    "from gym import spaces\n",
    "import torch\n",
    "from torch import nn\n",
    "from segment_tree import SumSegmentTree, MinSegmentTree\n",
    "import random\n",
    "import torch\n",
    "from torch import nn\n",
    "import torch.nn.functional as F\n",
    "from model import RNNQNetwork, linear_schedule\n",
    "from storage import ContinuousSequenceReplayBuffer, SequenceReplayBuffer\n",
    "from envs import make_vec_envs\n",
    "import torch.optim as optim\n",
    "import random\n",
    "import numpy as np\n",
    "import gym\n",
    "import gym_nav\n",
    "import time\n",
    "%run ../r2d2_algo/r2d2_class.py\n",
    "\n",
    "    \n",
    "    \n",
    "    \n",
    "def get_action_dim(action_space):\n",
    "    \"\"\"\n",
    "    Get the dimension of the action space.\n",
    "    \"\"\"\n",
    "    if isinstance(action_space, spaces.Box):\n",
    "        return int(np.prod(action_space.shape))\n",
    "    elif isinstance(action_space, spaces.Discrete):\n",
    "        # Action is an int\n",
    "        return 1\n",
    "    elif isinstance(action_space, spaces.MultiDiscrete):\n",
    "        # Number of discrete actions\n",
    "        return int(len(action_space.nvec))\n",
    "    elif isinstance(action_space, spaces.MultiBinary):\n",
    "        # Number of binary actions\n",
    "        assert isinstance(\n",
    "            action_space.n, int\n",
    "        ), \"Multi-dimensional MultiBinary action space is not supported. You can flatten it instead.\"\n",
    "        return int(action_space.n)\n",
    "    else:\n",
    "        raise NotImplementedError(f\"{action_space} action space is not supported\")"
   ]
  },
  {
   "cell_type": "code",
   "execution_count": 38,
   "id": "2f217627-1c8d-494c-96b9-d990c236a172",
   "metadata": {},
   "outputs": [],
   "source": [
    "env_kwargs = {\n",
    "        'num_objects': 0, 'rew_structure': 'goal',\n",
    "        'task_structure': 2, 'wall_colors': 4,\n",
    "        'num_rays': 12, 'fov': 1, 'max_steps': 20\n",
    "}\n",
    "env = gym.make('NavEnv-v0', **env_kwargs)\n",
    "agent = R2D2Agent(env_id='NavEnv-v0', env_kwargs=env_kwargs,\n",
    "                 verbose=1, buffer_size=1000, batch_size=256,\n",
    "                 burn_in_length=4, n_envs=4, dummy_env=True,\n",
    "                 learning_starts=1000, train_frequency=8)"
   ]
  },
  {
   "cell_type": "code",
   "execution_count": null,
   "id": "8034dfa4-e907-4f92-b8e1-51dea1b0e119",
   "metadata": {},
   "outputs": [],
   "source": []
  },
  {
   "cell_type": "code",
   "execution_count": 39,
   "id": "ddf5280e-28dd-4fa1-bcda-b4ff89f62b72",
   "metadata": {},
   "outputs": [
    {
     "name": "stdout",
     "output_type": "stream",
     "text": [
      "Mean episode length 22.0, mean return 0.0\n",
      "Mean episode length 22.0, mean return 0.0\n"
     ]
    }
   ],
   "source": [
    "agent.train(1)"
   ]
  },
  {
   "cell_type": "code",
   "execution_count": 17,
   "id": "b7213006-1cc2-4b58-8a6a-a79b02deb331",
   "metadata": {},
   "outputs": [],
   "source": [
    "agent.collect(2)"
   ]
  },
  {
   "cell_type": "code",
   "execution_count": 25,
   "id": "63bd3f11-e402-4b22-a031-5292bb8ce0e0",
   "metadata": {},
   "outputs": [],
   "source": [
    "sample = agent.rb.sample(256)"
   ]
  },
  {
   "cell_type": "code",
   "execution_count": 29,
   "id": "131be819-d777-4302-9dc8-65560aca0038",
   "metadata": {},
   "outputs": [
    {
     "data": {
      "text/plain": [
       "3"
      ]
     },
     "execution_count": 29,
     "metadata": {},
     "output_type": "execute_result"
    }
   ],
   "source": [
    "agent.rb.pos"
   ]
  },
  {
   "cell_type": "code",
   "execution_count": 28,
   "id": "062114c0-0b83-45e4-88a6-411d12955bcd",
   "metadata": {},
   "outputs": [
    {
     "data": {
      "text/plain": [
       "False"
      ]
     },
     "execution_count": 28,
     "metadata": {},
     "output_type": "execute_result"
    }
   ],
   "source": [
    "agent.rb.full"
   ]
  },
  {
   "cell_type": "code",
   "execution_count": 27,
   "id": "62504bca-fade-4add-9390-a335f7b1e8e3",
   "metadata": {},
   "outputs": [
    {
     "data": {
      "text/plain": [
       "3"
      ]
     },
     "execution_count": 27,
     "metadata": {},
     "output_type": "execute_result"
    }
   ],
   "source": [
    "len(agent.rb)"
   ]
  },
  {
   "cell_type": "code",
   "execution_count": 19,
   "id": "26844a06-683c-4462-9406-7d0730c2a8bc",
   "metadata": {},
   "outputs": [
    {
     "data": {
      "text/plain": [
       "56024"
      ]
     },
     "execution_count": 19,
     "metadata": {},
     "output_type": "execute_result"
    }
   ],
   "source": [
    "agent.global_step"
   ]
  },
  {
   "cell_type": "code",
   "execution_count": 286,
   "id": "86c99ff5-040b-4523-80cf-7bc58c8437d2",
   "metadata": {},
   "outputs": [],
   "source": [
    "sample = agent.rb.sample(256)"
   ]
  },
  {
   "cell_type": "code",
   "execution_count": 287,
   "id": "a90d4066-1c8c-471d-a7b4-23aa8bd6f9a3",
   "metadata": {},
   "outputs": [
    {
     "data": {
      "text/plain": [
       "torch.Size([37, 16, 24])"
      ]
     },
     "execution_count": 287,
     "metadata": {},
     "output_type": "execute_result"
    }
   ],
   "source": [
    "sample['observations'].shape"
   ]
  },
  {
   "cell_type": "code",
   "execution_count": 144,
   "id": "dd0af12b-9f33-4abb-bfae-1afc4c545727",
   "metadata": {},
   "outputs": [],
   "source": [
    "\n",
    "action, q_values, next_rnn_hxs = agent.act(agent.obs, agent.rnn_hxs, masks=agent.masks)\n",
    "env = agent.env\n",
    "next_obs, reward, done, info = env.step(action)\n"
   ]
  },
  {
   "cell_type": "code",
   "execution_count": 46,
   "id": "b4320456-da8b-4205-90e8-b4c43dea354d",
   "metadata": {},
   "outputs": [
    {
     "data": {
      "text/plain": [
       "256"
      ]
     },
     "execution_count": 46,
     "metadata": {},
     "output_type": "execute_result"
    }
   ],
   "source": [
    "agent.batch_size"
   ]
  },
  {
   "cell_type": "code",
   "execution_count": 40,
   "id": "04c414a1-1c5a-48d6-9a2b-5d0eaf8b98e5",
   "metadata": {},
   "outputs": [],
   "source": [
    "sample = agent.rb.sample()\n",
    "states = sample['observations']\n",
    "next_states = sample['next_observations']\n",
    "hidden_states = sample['hidden_states']\n",
    "next_hidden_states = sample['next_hidden_states']\n",
    "actions = sample['actions']\n",
    "rewards = sample['rewards']\n",
    "dones = sample['dones']\n",
    "next_dones = sample['next_dones']\n",
    "#training_masks are given by SequenceReplayBuffer\n",
    "training_masks = sample['training_masks']\n",
    "\n",
    "with torch.no_grad():\n",
    "    target_q, _, _ = agent.target_network(next_states, next_hidden_states, next_dones)\n",
    "    target_max, _ = target_q.max(dim=2)\n",
    "    td_target = rewards + agent.gamma * target_max * (1 - dones)\n",
    "old_q, _, _ = agent.q_network(states, hidden_states, dones)\n",
    "old_val = old_q.gather(2, actions.long()).squeeze()\n",
    "\n",
    "# loss = F.mse_loss(td_target[:, agent.burn_in_length:], old_val[:, agent.burn_in_length:])\n",
    "weights = sample['weights']\n",
    "elementwise_loss = F.smooth_l1_loss(td_target[:, agent.burn_in_length:],\n",
    "                                    old_val[:, agent.burn_in_length:], reduction='none')\n",
    "# loss = torch.mean(elementwise_loss * weights)\n",
    "loss = torch.mean(elementwise_loss * weights * training_masks)\n",
    "\n",
    "if agent.writer is not None and agent.global_update_step % 10 == 0:\n",
    "    agent.writer.add_scalar('losses/td_loss', loss, agent.global_step)\n",
    "    agent.writer.add_scalar('losses/q_values', old_val.mean().item(), agent.global_step)\n",
    "    sps = int(agent.global_step / (time.time() - agent.start_time))\n",
    "    # print('SPS:', int(sps))\n",
    "    agent.writer.add_scalar('charts/SPS', sps, agent.global_step)\n",
    "\n",
    "agent.optimizer.zero_grad()\n",
    "loss.backward()\n",
    "agent.optimizer.step()\n",
    "\n",
    "# PER: update priorities\n",
    "td_priorities = elementwise_loss.mean(dim=1).detach().cpu().numpy() + 1e-6\n",
    "agent.rb.update_priorities(sample['idxs'], td_priorities)"
   ]
  },
  {
   "cell_type": "code",
   "execution_count": 41,
   "id": "ff5ecf74-d342-4205-9c00-01422970aa67",
   "metadata": {},
   "outputs": [
    {
     "data": {
      "text/plain": [
       "tensor([[1., 1., 0., 0., 0., 0., 0., 0.],\n",
       "        [1., 1., 0., 0., 0., 0., 0., 0.],\n",
       "        [1., 1., 1., 1., 1., 1., 1., 1.],\n",
       "        [1., 1., 1., 1., 1., 1., 1., 1.],\n",
       "        [1., 1., 1., 1., 1., 1., 1., 1.],\n",
       "        [1., 1., 1., 1., 1., 1., 1., 1.]])"
      ]
     },
     "execution_count": 41,
     "metadata": {},
     "output_type": "execute_result"
    }
   ],
   "source": [
    "training_masks"
   ]
  },
  {
   "cell_type": "code",
   "execution_count": 45,
   "id": "7db0dd2a-003d-4169-9ffa-0c375a1f56d4",
   "metadata": {},
   "outputs": [
    {
     "data": {
      "text/plain": [
       "tensor(36.)"
      ]
     },
     "execution_count": 45,
     "metadata": {},
     "output_type": "execute_result"
    }
   ],
   "source": [
    "training_masks.sum()"
   ]
  },
  {
   "cell_type": "code",
   "execution_count": 42,
   "id": "233e3550-a729-4a0f-a58a-a5d15a4c9a94",
   "metadata": {},
   "outputs": [
    {
     "data": {
      "text/plain": [
       "torch.Size([6, 12, 24])"
      ]
     },
     "execution_count": 42,
     "metadata": {},
     "output_type": "execute_result"
    }
   ],
   "source": [
    "states.shape"
   ]
  },
  {
   "cell_type": "code",
   "execution_count": 25,
   "id": "80654930-d824-4a43-8de6-19dfa8c7c828",
   "metadata": {},
   "outputs": [
    {
     "data": {
      "text/plain": [
       "torch.Size([1, 4, 64])"
      ]
     },
     "execution_count": 25,
     "metadata": {},
     "output_type": "execute_result"
    }
   ],
   "source": [
    "hidden_states.shape"
   ]
  },
  {
   "cell_type": "code",
   "execution_count": 26,
   "id": "b29f58d3-6537-4170-97c9-925ffb0dca03",
   "metadata": {},
   "outputs": [
    {
     "data": {
      "text/plain": [
       "torch.Size([1, 4, 64])"
      ]
     },
     "execution_count": 26,
     "metadata": {},
     "output_type": "execute_result"
    }
   ],
   "source": [
    "next_hidden_states.shape"
   ]
  },
  {
   "cell_type": "code",
   "execution_count": 21,
   "id": "ab6f990d-7273-4435-8a32-a184458e7d7f",
   "metadata": {},
   "outputs": [
    {
     "data": {
      "text/plain": [
       "tensor([[1.4553e-07, 1.4515e-07, 1.3384e-02, 5.2076e-02, 1.4448e-07, 1.3384e-02,\n",
       "         1.3384e-02, 1.4449e-07],\n",
       "        [3.6777e-03, 4.0718e-09, 4.7054e-02, 1.3871e-07, 3.8636e-03, 4.7342e-02,\n",
       "         3.9526e-03, 4.7866e-02],\n",
       "        [1.1588e-07, 1.1506e-07, 1.1452e-07, 1.1419e-07, 1.1399e-07, 1.1389e-07,\n",
       "         1.1383e-07, 1.1381e-07],\n",
       "        [4.9114e-02, 2.0491e-07, 2.0749e-07, 2.0899e-07, 2.0985e-07, 2.1033e-07,\n",
       "         2.1063e-07, 2.1083e-07]], grad_fn=<SmoothL1LossBackward0>)"
      ]
     },
     "execution_count": 21,
     "metadata": {},
     "output_type": "execute_result"
    }
   ],
   "source": [
    "elementwise_loss"
   ]
  },
  {
   "cell_type": "code",
   "execution_count": 13,
   "id": "e321a906-46f1-4355-8ff2-9cecf7338381",
   "metadata": {},
   "outputs": [
    {
     "data": {
      "text/plain": [
       "tensor([7.2243e-04, 9.7215e-04, 1.3732e-05, 2.8302e-06])"
      ]
     },
     "execution_count": 13,
     "metadata": {},
     "output_type": "execute_result"
    }
   ],
   "source": [
    "elementwise_loss.max(dim=1)[0].detach()"
   ]
  },
  {
   "cell_type": "code",
   "execution_count": 357,
   "id": "6a0c9ab5-9936-4d13-b9fa-7bcb06528867",
   "metadata": {},
   "outputs": [
    {
     "data": {
      "text/plain": [
       "array([[0., 0., 0., 0., 0., 0., 0., 0., 0., 0., 0., 0., 0., 0., 0., 0.],\n",
       "       [0., 0., 0., 0., 0., 0., 0., 0., 0., 0., 0., 0., 0., 0., 0., 0.],\n",
       "       [0., 0., 0., 0., 0., 0., 0., 0., 0., 0., 0., 0., 0., 0., 0., 0.],\n",
       "       [0., 0., 0., 0., 0., 0., 0., 0., 0., 0., 0., 0., 0., 0., 0., 0.]],\n",
       "      dtype=float32)"
      ]
     },
     "execution_count": 357,
     "metadata": {},
     "output_type": "execute_result"
    }
   ],
   "source": [
    "agent.rb.cur_dones"
   ]
  },
  {
   "cell_type": "code",
   "execution_count": 358,
   "id": "07ed2497-cd9a-45d7-92e5-71c740c29b10",
   "metadata": {},
   "outputs": [
    {
     "data": {
      "text/plain": [
       "array([[[0.        , 0.        , 0.        , 0.        , 0.        ],\n",
       "        [0.        , 0.        , 0.        , 0.        , 0.        ],\n",
       "        [0.        , 0.        , 0.        , 0.        , 0.        ],\n",
       "        [0.        , 0.        , 0.        , 0.        , 0.        ],\n",
       "        [0.        , 0.        , 0.        , 0.        , 0.        ],\n",
       "        [0.        , 0.        , 0.        , 0.        , 0.        ],\n",
       "        [0.        , 0.        , 0.        , 0.        , 0.        ],\n",
       "        [0.        , 0.        , 0.        , 0.        , 0.        ],\n",
       "        [0.        , 0.        , 0.        , 0.        , 0.        ],\n",
       "        [0.        , 0.        , 0.        , 0.        , 0.        ],\n",
       "        [0.        , 0.        , 0.        , 0.        , 0.        ],\n",
       "        [0.        , 0.        , 0.        , 0.        , 0.        ],\n",
       "        [0.        , 0.        , 0.        , 0.        , 0.        ],\n",
       "        [0.        , 0.        , 0.        , 0.        , 0.        ],\n",
       "        [0.        , 0.        , 0.        , 0.        , 0.        ],\n",
       "        [0.        , 0.        , 0.        , 0.        , 0.        ]],\n",
       "\n",
       "       [[0.33333334, 0.33333334, 0.33333334, 0.33333334, 0.33333334],\n",
       "        [0.33333334, 0.33333334, 0.33333334, 0.33333334, 0.33333334],\n",
       "        [0.33333334, 0.33333334, 0.33333334, 0.33333334, 0.33333334],\n",
       "        [0.33333334, 0.33333334, 0.33333334, 0.33333334, 0.33333334],\n",
       "        [0.33333334, 0.33333334, 0.33333334, 0.33333334, 0.33333334],\n",
       "        [0.33333334, 0.33333334, 0.33333334, 0.33333334, 0.33333334],\n",
       "        [0.33333334, 0.33333334, 0.33333334, 0.33333334, 0.33333334],\n",
       "        [0.33333334, 0.33333334, 0.33333334, 0.33333334, 0.33333334],\n",
       "        [0.        , 0.        , 0.        , 0.        , 0.        ],\n",
       "        [0.        , 0.        , 0.        , 0.        , 0.        ],\n",
       "        [0.        , 0.        , 0.        , 0.        , 0.        ],\n",
       "        [0.        , 0.        , 0.        , 0.        , 0.        ],\n",
       "        [0.        , 0.        , 0.        , 0.        , 0.        ],\n",
       "        [0.        , 0.        , 0.        , 0.        , 0.        ],\n",
       "        [0.        , 0.        , 0.        , 0.        , 0.        ],\n",
       "        [0.        , 0.        , 0.        , 0.        , 0.        ]],\n",
       "\n",
       "       [[0.33333334, 0.33333334, 0.33333334, 0.33333334, 0.33333334],\n",
       "        [0.33333334, 0.33333334, 0.33333334, 0.33333334, 0.33333334],\n",
       "        [0.33333334, 0.33333334, 0.33333334, 0.33333334, 0.33333334],\n",
       "        [0.33333334, 0.33333334, 0.33333334, 0.33333334, 0.33333334],\n",
       "        [0.33333334, 0.33333334, 0.33333334, 0.33333334, 0.33333334],\n",
       "        [0.33333334, 0.33333334, 0.33333334, 0.33333334, 0.33333334],\n",
       "        [0.33333334, 0.33333334, 0.33333334, 0.33333334, 0.33333334],\n",
       "        [0.33333334, 0.33333334, 0.33333334, 0.33333334, 0.33333334],\n",
       "        [0.33333334, 0.33333334, 0.33333334, 0.33333334, 0.33333334],\n",
       "        [0.33333334, 0.33333334, 0.33333334, 0.33333334, 0.33333334],\n",
       "        [0.33333334, 0.33333334, 0.33333334, 0.33333334, 0.33333334],\n",
       "        [0.33333334, 0.33333334, 0.33333334, 0.33333334, 0.33333334],\n",
       "        [0.        , 0.        , 0.        , 0.        , 0.        ],\n",
       "        [0.        , 0.        , 0.        , 0.        , 0.        ],\n",
       "        [0.        , 0.        , 0.        , 0.        , 0.        ],\n",
       "        [0.        , 0.        , 0.        , 0.        , 0.        ]],\n",
       "\n",
       "       [[0.16666667, 0.16666667, 0.33333334, 0.33333334, 0.33333334],\n",
       "        [0.16666667, 0.16666667, 0.33333334, 0.33333334, 0.33333334],\n",
       "        [0.33333334, 0.33333334, 0.33333334, 0.33333334, 0.33333334],\n",
       "        [0.33333334, 0.33333334, 0.33333334, 0.33333334, 0.33333334],\n",
       "        [0.33333334, 0.33333334, 0.33333334, 0.33333334, 0.33333334],\n",
       "        [0.33333334, 0.33333334, 0.33333334, 0.33333334, 0.33333334],\n",
       "        [0.33333334, 0.33333334, 0.33333334, 0.33333334, 0.33333334],\n",
       "        [0.33333334, 0.33333334, 0.33333334, 0.33333334, 0.33333334],\n",
       "        [0.33333334, 0.33333334, 0.33333334, 0.33333334, 0.33333334],\n",
       "        [0.33333334, 0.33333334, 0.33333334, 0.33333334, 0.33333334],\n",
       "        [0.33333334, 0.33333334, 0.33333334, 0.33333334, 0.33333334],\n",
       "        [0.33333334, 0.33333334, 0.33333334, 0.33333334, 0.33333334],\n",
       "        [0.        , 0.        , 0.        , 0.        , 0.        ],\n",
       "        [0.        , 0.        , 0.        , 0.        , 0.        ],\n",
       "        [0.        , 0.        , 0.        , 0.        , 0.        ],\n",
       "        [0.        , 0.        , 0.        , 0.        , 0.        ]]],\n",
       "      dtype=float32)"
      ]
     },
     "execution_count": 358,
     "metadata": {},
     "output_type": "execute_result"
    }
   ],
   "source": [
    "agent.rb.cur_observations[:, :, 5:10]"
   ]
  }
 ],
 "metadata": {
  "kernelspec": {
   "display_name": "Python 3 (ipykernel)",
   "language": "python",
   "name": "python3"
  },
  "language_info": {
   "codemirror_mode": {
    "name": "ipython",
    "version": 3
   },
   "file_extension": ".py",
   "mimetype": "text/x-python",
   "name": "python",
   "nbconvert_exporter": "python",
   "pygments_lexer": "ipython3",
   "version": "3.9.12"
  }
 },
 "nbformat": 4,
 "nbformat_minor": 5
}
