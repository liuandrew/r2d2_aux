{
 "cells": [
  {
   "cell_type": "code",
   "execution_count": 1,
   "id": "31e49c43-0769-493a-b7a1-e0a659843274",
   "metadata": {},
   "outputs": [],
   "source": [
    "import sys\n",
    "sys.path.append('../r2d2_algo/')\n",
    "import numpy as np\n",
    "from gym import spaces\n",
    "import torch\n",
    "from torch import nn\n",
    "from segment_tree import SumSegmentTree, MinSegmentTree\n",
    "import random\n",
    "import torch\n",
    "from torch import nn\n",
    "import torch.nn.functional as F\n",
    "from model import RNNQNetwork, linear_schedule\n",
    "from storage import ContinuousSequenceReplayBuffer, SequenceReplayBuffer\n",
    "from envs import make_vec_envs\n",
    "import torch.optim as optim\n",
    "import random\n",
    "import numpy as np\n",
    "import gym\n",
    "import gym_nav\n",
    "import time\n",
    "%run ../r2d2_algo/r2d2_class.py\n",
    "\n",
    "    \n",
    "    \n",
    "    \n",
    "def get_action_dim(action_space):\n",
    "    \"\"\"\n",
    "    Get the dimension of the action space.\n",
    "    \"\"\"\n",
    "    if isinstance(action_space, spaces.Box):\n",
    "        return int(np.prod(action_space.shape))\n",
    "    elif isinstance(action_space, spaces.Discrete):\n",
    "        # Action is an int\n",
    "        return 1\n",
    "    elif isinstance(action_space, spaces.MultiDiscrete):\n",
    "        # Number of discrete actions\n",
    "        return int(len(action_space.nvec))\n",
    "    elif isinstance(action_space, spaces.MultiBinary):\n",
    "        # Number of binary actions\n",
    "        assert isinstance(\n",
    "            action_space.n, int\n",
    "        ), \"Multi-dimensional MultiBinary action space is not supported. You can flatten it instead.\"\n",
    "        return int(action_space.n)\n",
    "    else:\n",
    "        raise NotImplementedError(f\"{action_space} action space is not supported\")"
   ]
  },
  {
   "cell_type": "code",
   "execution_count": 2,
   "id": "2f217627-1c8d-494c-96b9-d990c236a172",
   "metadata": {},
   "outputs": [],
   "source": [
    "env_kwargs = {\n",
    "        'num_objects': 0, 'rew_structure': 'goal',\n",
    "        'task_structure': 2, 'wall_colors': 4,\n",
    "        'num_rays': 12, 'fov': 1\n",
    "}\n",
    "env = gym.make('NavEnv-v0', **env_kwargs)\n",
    "agent = R2D2Agent(env_id='NavEnv-v0', env_kwargs=env_kwargs,\n",
    "                 verbose=1, buffer_size=10000, batch_size=256,\n",
    "                 burn_in_length=4, n_envs=4, dummy_env=True,\n",
    "                 learning_starts=4000, train_frequency=8)"
   ]
  },
  {
   "cell_type": "code",
   "execution_count": null,
   "id": "8034dfa4-e907-4f92-b8e1-51dea1b0e119",
   "metadata": {},
   "outputs": [],
   "source": []
  },
  {
   "cell_type": "code",
   "execution_count": 3,
   "id": "ddf5280e-28dd-4fa1-bcda-b4ff89f62b72",
   "metadata": {},
   "outputs": [
    {
     "name": "stdout",
     "output_type": "stream",
     "text": [
      "Mean episode length 202.0, mean return 0.0\n",
      "Mean episode length 202.0, mean return 0.0\n",
      "Mean episode length 189.46153846153845, mean return 0.15384615384615385\n",
      "Mean episode length 199.125, mean return 0.125\n",
      "Mean episode length 202.0, mean return 0.0\n",
      "Mean episode length 202.0, mean return 0.0\n",
      "Mean episode length 202.0, mean return 0.0\n",
      "Mean episode length 202.0, mean return 0.0\n",
      "Mean episode length 202.0, mean return 0.0\n",
      "Mean episode length 202.0, mean return 0.0\n",
      "Mean episode length 179.84615384615384, mean return 0.15384615384615385\n",
      "Mean episode length 187.4, mean return 0.1\n",
      "Mean episode length 202.0, mean return 0.0\n",
      "Mean episode length 202.0, mean return 0.0\n",
      "Mean episode length 202.0, mean return 0.0\n",
      "Mean episode length 202.0, mean return 0.0\n",
      "Mean episode length 176.45454545454547, mean return 0.18181818181818182\n",
      "Mean episode length 202.0, mean return 0.0\n",
      "Mean episode length 202.0, mean return 0.0\n",
      "Mean episode length 191.83333333333334, mean return 0.16666666666666666\n",
      "Mean episode length 202.0, mean return 0.0\n",
      "Mean episode length 184.45454545454547, mean return 0.09090909090909091\n",
      "Mean episode length 202.0, mean return 0.0\n",
      "Mean episode length 202.0, mean return 0.0\n",
      "Mean episode length 202.0, mean return 0.0\n",
      "Mean episode length 185.91666666666666, mean return 0.08333333333333333\n",
      "Mean episode length 202.0, mean return 0.0\n",
      "Mean episode length 202.0, mean return 0.0\n",
      "Mean episode length 202.0, mean return 0.0\n",
      "Mean episode length 202.0, mean return 0.0\n",
      "Mean episode length 202.0, mean return 0.0\n",
      "Mean episode length 189.25, mean return 0.25\n",
      "Mean episode length 201.9, mean return 0.1\n",
      "Mean episode length 202.0, mean return 0.0\n",
      "Mean episode length 189.66666666666666, mean return 0.16666666666666666\n",
      "Mean episode length 187.7, mean return 0.2\n",
      "Mean episode length 200.55555555555554, mean return 0.1111111111111111\n",
      "Mean episode length 186.41666666666666, mean return 0.16666666666666666\n",
      "Mean episode length 202.0, mean return 0.0\n",
      "Mean episode length 192.83333333333334, mean return 0.08333333333333333\n",
      "Mean episode length 186.2, mean return 0.1\n",
      "Mean episode length 202.0, mean return 0.0\n",
      "Mean episode length 202.0, mean return 0.0\n",
      "Mean episode length 202.0, mean return 0.0\n",
      "Mean episode length 202.0, mean return 0.0\n",
      "Mean episode length 202.0, mean return 0.0\n",
      "Mean episode length 187.0909090909091, mean return 0.18181818181818182\n",
      "Mean episode length 202.0, mean return 0.0\n",
      "Mean episode length 176.0, mean return 0.23076923076923078\n",
      "Mean episode length 202.0, mean return 0.0\n",
      "Mean episode length 192.33333333333334, mean return 0.08333333333333333\n",
      "Mean episode length 202.0, mean return 0.0\n",
      "Mean episode length 202.0, mean return 0.0\n",
      "Mean episode length 186.4, mean return 0.1\n",
      "Mean episode length 193.63636363636363, mean return 0.09090909090909091\n",
      "Mean episode length 202.0, mean return 0.0\n",
      "Mean episode length 202.0, mean return 0.0\n",
      "Mean episode length 202.0, mean return 0.0\n",
      "Mean episode length 202.0, mean return 0.0\n",
      "Mean episode length 167.45454545454547, mean return 0.2727272727272727\n",
      "Mean episode length 189.72727272727272, mean return 0.2727272727272727\n",
      "Mean episode length 190.0, mean return 0.1\n",
      "Mean episode length 202.0, mean return 0.0\n",
      "Mean episode length 202.0, mean return 0.0\n",
      "Mean episode length 202.0, mean return 0.0\n",
      "Mean episode length 179.8181818181818, mean return 0.18181818181818182\n",
      "Mean episode length 176.41666666666666, mean return 0.16666666666666666\n",
      "Mean episode length 186.1, mean return 0.1\n",
      "Mean episode length 163.15384615384616, mean return 0.23076923076923078\n",
      "Mean episode length 202.0, mean return 0.0\n",
      "Mean episode length 202.0, mean return 0.0\n",
      "Mean episode length 201.3, mean return 0.1\n",
      "Mean episode length 199.4, mean return 0.1\n",
      "Mean episode length 202.0, mean return 0.0\n",
      "Mean episode length 202.0, mean return 0.0\n",
      "Mean episode length 202.0, mean return 0.0\n",
      "Mean episode length 202.0, mean return 0.0\n",
      "Mean episode length 186.75, mean return 0.08333333333333333\n",
      "Mean episode length 193.1, mean return 0.1\n",
      "Mean episode length 184.27272727272728, mean return 0.09090909090909091\n",
      "Mean episode length 182.45454545454547, mean return 0.18181818181818182\n",
      "Mean episode length 201.77777777777777, mean return 0.1111111111111111\n",
      "Mean episode length 197.36363636363637, mean return 0.18181818181818182\n",
      "Mean episode length 202.0, mean return 0.0\n",
      "Mean episode length 188.33333333333334, mean return 0.08333333333333333\n",
      "Mean episode length 196.55555555555554, mean return 0.1111111111111111\n",
      "Mean episode length 202.0, mean return 0.0\n",
      "Mean episode length 187.0, mean return 0.1\n"
     ]
    }
   ],
   "source": [
    "agent.train(5000)"
   ]
  },
  {
   "cell_type": "code",
   "execution_count": 15,
   "id": "e5d69d23-728f-466b-a187-045b1b7ee90d",
   "metadata": {},
   "outputs": [],
   "source": [
    "agent.train(1)"
   ]
  },
  {
   "cell_type": "code",
   "execution_count": 17,
   "id": "b7213006-1cc2-4b58-8a6a-a79b02deb331",
   "metadata": {},
   "outputs": [],
   "source": [
    "agent.collect(2)"
   ]
  },
  {
   "cell_type": "code",
   "execution_count": 25,
   "id": "63bd3f11-e402-4b22-a031-5292bb8ce0e0",
   "metadata": {},
   "outputs": [],
   "source": [
    "sample = agent.rb.sample(256)"
   ]
  },
  {
   "cell_type": "code",
   "execution_count": 29,
   "id": "131be819-d777-4302-9dc8-65560aca0038",
   "metadata": {},
   "outputs": [
    {
     "data": {
      "text/plain": [
       "3"
      ]
     },
     "execution_count": 29,
     "metadata": {},
     "output_type": "execute_result"
    }
   ],
   "source": [
    "agent.rb.pos"
   ]
  },
  {
   "cell_type": "code",
   "execution_count": 28,
   "id": "062114c0-0b83-45e4-88a6-411d12955bcd",
   "metadata": {},
   "outputs": [
    {
     "data": {
      "text/plain": [
       "False"
      ]
     },
     "execution_count": 28,
     "metadata": {},
     "output_type": "execute_result"
    }
   ],
   "source": [
    "agent.rb.full"
   ]
  },
  {
   "cell_type": "code",
   "execution_count": 27,
   "id": "62504bca-fade-4add-9390-a335f7b1e8e3",
   "metadata": {},
   "outputs": [
    {
     "data": {
      "text/plain": [
       "3"
      ]
     },
     "execution_count": 27,
     "metadata": {},
     "output_type": "execute_result"
    }
   ],
   "source": [
    "len(agent.rb)"
   ]
  },
  {
   "cell_type": "code",
   "execution_count": 26,
   "id": "b80782e4-6f06-4bf5-b7aa-bc70e4969845",
   "metadata": {},
   "outputs": [
    {
     "data": {
      "text/plain": [
       "[8619,\n",
       " 8837,\n",
       " 9730,\n",
       " 9465,\n",
       " 7739,\n",
       " 9809,\n",
       " 7818,\n",
       " 6982,\n",
       " 782,\n",
       " 8333,\n",
       " 7687,\n",
       " 3212,\n",
       " 7921,\n",
       " 8253,\n",
       " 9431,\n",
       " 5387,\n",
       " 9520,\n",
       " 9680,\n",
       " 9946,\n",
       " 8096,\n",
       " 5387,\n",
       " 9293,\n",
       " 8898,\n",
       " 8577,\n",
       " 9494,\n",
       " 8298,\n",
       " 8472,\n",
       " 9660,\n",
       " 6005,\n",
       " 9636,\n",
       " 8188,\n",
       " 5207,\n",
       " 6526]"
      ]
     },
     "execution_count": 26,
     "metadata": {},
     "output_type": "execute_result"
    }
   ],
   "source": [
    "sample['idxs']"
   ]
  },
  {
   "cell_type": "code",
   "execution_count": 19,
   "id": "26844a06-683c-4462-9406-7d0730c2a8bc",
   "metadata": {},
   "outputs": [
    {
     "data": {
      "text/plain": [
       "56024"
      ]
     },
     "execution_count": 19,
     "metadata": {},
     "output_type": "execute_result"
    }
   ],
   "source": [
    "agent.global_step"
   ]
  },
  {
   "cell_type": "code",
   "execution_count": 286,
   "id": "86c99ff5-040b-4523-80cf-7bc58c8437d2",
   "metadata": {},
   "outputs": [],
   "source": [
    "sample = agent.rb.sample(256)"
   ]
  },
  {
   "cell_type": "code",
   "execution_count": 287,
   "id": "a90d4066-1c8c-471d-a7b4-23aa8bd6f9a3",
   "metadata": {},
   "outputs": [
    {
     "data": {
      "text/plain": [
       "torch.Size([37, 16, 24])"
      ]
     },
     "execution_count": 287,
     "metadata": {},
     "output_type": "execute_result"
    }
   ],
   "source": [
    "sample['observations'].shape"
   ]
  },
  {
   "cell_type": "code",
   "execution_count": 144,
   "id": "dd0af12b-9f33-4abb-bfae-1afc4c545727",
   "metadata": {},
   "outputs": [],
   "source": [
    "\n",
    "action, q_values, next_rnn_hxs = agent.act(agent.obs, agent.rnn_hxs, masks=agent.masks)\n",
    "env = agent.env\n",
    "next_obs, reward, done, info = env.step(action)\n"
   ]
  },
  {
   "cell_type": "code",
   "execution_count": 280,
   "id": "04c414a1-1c5a-48d6-9a2b-5d0eaf8b98e5",
   "metadata": {},
   "outputs": [],
   "source": [
    "sample = agent.rb.sample(agent.batch_size//agent.sequence_length)\n",
    "states = sample['observations']\n",
    "next_states = sample['next_observations']\n",
    "hidden_states = sample['hidden_states']\n",
    "next_hidden_states = sample['next_hidden_states']\n",
    "actions = sample['actions']\n",
    "rewards = sample['rewards']\n",
    "dones = sample['dones']\n",
    "next_dones = sample['next_dones']\n",
    "#training_masks are given by SequenceReplayBuffer\n",
    "training_masks = sample['training_masks']\n",
    "\n",
    "with torch.no_grad():\n",
    "    target_q, _, _ = agent.target_network(next_states, next_hidden_states, next_dones)\n",
    "    target_max, _ = target_q.max(dim=2)\n",
    "    td_target = rewards + agent.gamma * target_max * (1 - dones)\n",
    "old_q, _, _ = agent.q_network(states, hidden_states, dones)\n",
    "old_val = old_q.gather(2, actions.long()).squeeze()\n",
    "\n",
    "# loss = F.mse_loss(td_target[:, agent.burn_in_length:], old_val[:, agent.burn_in_length:])\n",
    "weights = sample['weights']\n",
    "elementwise_loss = F.smooth_l1_loss(td_target[:, agent.burn_in_length:],\n",
    "                                    old_val[:, agent.burn_in_length:], reduction='none')\n",
    "# loss = torch.mean(elementwise_loss * weights)\n",
    "loss = torch.mean(elementwise_loss * weights * training_masks)\n",
    "\n",
    "if agent.writer is not None and agent.global_update_step % 10 == 0:\n",
    "    agent.writer.add_scalar('losses/td_loss', loss, agent.global_step)\n",
    "    agent.writer.add_scalar('losses/q_values', old_val.mean().item(), agent.global_step)\n",
    "    sps = int(agent.global_step / (time.time() - agent.start_time))\n",
    "    # print('SPS:', int(sps))\n",
    "    agent.writer.add_scalar('charts/SPS', sps, agent.global_step)\n",
    "\n",
    "agent.optimizer.zero_grad()\n",
    "loss.backward()\n",
    "agent.optimizer.step()\n",
    "\n",
    "# PER: update priorities\n",
    "td_priorities = elementwise_loss.mean(dim=1).detach().cpu().numpy() + 1e-6\n",
    "agent.rb.update_priorities(sample['idxs'], td_priorities)"
   ]
  },
  {
   "cell_type": "code",
   "execution_count": 357,
   "id": "6a0c9ab5-9936-4d13-b9fa-7bcb06528867",
   "metadata": {},
   "outputs": [
    {
     "data": {
      "text/plain": [
       "array([[0., 0., 0., 0., 0., 0., 0., 0., 0., 0., 0., 0., 0., 0., 0., 0.],\n",
       "       [0., 0., 0., 0., 0., 0., 0., 0., 0., 0., 0., 0., 0., 0., 0., 0.],\n",
       "       [0., 0., 0., 0., 0., 0., 0., 0., 0., 0., 0., 0., 0., 0., 0., 0.],\n",
       "       [0., 0., 0., 0., 0., 0., 0., 0., 0., 0., 0., 0., 0., 0., 0., 0.]],\n",
       "      dtype=float32)"
      ]
     },
     "execution_count": 357,
     "metadata": {},
     "output_type": "execute_result"
    }
   ],
   "source": [
    "agent.rb.cur_dones"
   ]
  },
  {
   "cell_type": "code",
   "execution_count": 358,
   "id": "07ed2497-cd9a-45d7-92e5-71c740c29b10",
   "metadata": {},
   "outputs": [
    {
     "data": {
      "text/plain": [
       "array([[[0.        , 0.        , 0.        , 0.        , 0.        ],\n",
       "        [0.        , 0.        , 0.        , 0.        , 0.        ],\n",
       "        [0.        , 0.        , 0.        , 0.        , 0.        ],\n",
       "        [0.        , 0.        , 0.        , 0.        , 0.        ],\n",
       "        [0.        , 0.        , 0.        , 0.        , 0.        ],\n",
       "        [0.        , 0.        , 0.        , 0.        , 0.        ],\n",
       "        [0.        , 0.        , 0.        , 0.        , 0.        ],\n",
       "        [0.        , 0.        , 0.        , 0.        , 0.        ],\n",
       "        [0.        , 0.        , 0.        , 0.        , 0.        ],\n",
       "        [0.        , 0.        , 0.        , 0.        , 0.        ],\n",
       "        [0.        , 0.        , 0.        , 0.        , 0.        ],\n",
       "        [0.        , 0.        , 0.        , 0.        , 0.        ],\n",
       "        [0.        , 0.        , 0.        , 0.        , 0.        ],\n",
       "        [0.        , 0.        , 0.        , 0.        , 0.        ],\n",
       "        [0.        , 0.        , 0.        , 0.        , 0.        ],\n",
       "        [0.        , 0.        , 0.        , 0.        , 0.        ]],\n",
       "\n",
       "       [[0.33333334, 0.33333334, 0.33333334, 0.33333334, 0.33333334],\n",
       "        [0.33333334, 0.33333334, 0.33333334, 0.33333334, 0.33333334],\n",
       "        [0.33333334, 0.33333334, 0.33333334, 0.33333334, 0.33333334],\n",
       "        [0.33333334, 0.33333334, 0.33333334, 0.33333334, 0.33333334],\n",
       "        [0.33333334, 0.33333334, 0.33333334, 0.33333334, 0.33333334],\n",
       "        [0.33333334, 0.33333334, 0.33333334, 0.33333334, 0.33333334],\n",
       "        [0.33333334, 0.33333334, 0.33333334, 0.33333334, 0.33333334],\n",
       "        [0.33333334, 0.33333334, 0.33333334, 0.33333334, 0.33333334],\n",
       "        [0.        , 0.        , 0.        , 0.        , 0.        ],\n",
       "        [0.        , 0.        , 0.        , 0.        , 0.        ],\n",
       "        [0.        , 0.        , 0.        , 0.        , 0.        ],\n",
       "        [0.        , 0.        , 0.        , 0.        , 0.        ],\n",
       "        [0.        , 0.        , 0.        , 0.        , 0.        ],\n",
       "        [0.        , 0.        , 0.        , 0.        , 0.        ],\n",
       "        [0.        , 0.        , 0.        , 0.        , 0.        ],\n",
       "        [0.        , 0.        , 0.        , 0.        , 0.        ]],\n",
       "\n",
       "       [[0.33333334, 0.33333334, 0.33333334, 0.33333334, 0.33333334],\n",
       "        [0.33333334, 0.33333334, 0.33333334, 0.33333334, 0.33333334],\n",
       "        [0.33333334, 0.33333334, 0.33333334, 0.33333334, 0.33333334],\n",
       "        [0.33333334, 0.33333334, 0.33333334, 0.33333334, 0.33333334],\n",
       "        [0.33333334, 0.33333334, 0.33333334, 0.33333334, 0.33333334],\n",
       "        [0.33333334, 0.33333334, 0.33333334, 0.33333334, 0.33333334],\n",
       "        [0.33333334, 0.33333334, 0.33333334, 0.33333334, 0.33333334],\n",
       "        [0.33333334, 0.33333334, 0.33333334, 0.33333334, 0.33333334],\n",
       "        [0.33333334, 0.33333334, 0.33333334, 0.33333334, 0.33333334],\n",
       "        [0.33333334, 0.33333334, 0.33333334, 0.33333334, 0.33333334],\n",
       "        [0.33333334, 0.33333334, 0.33333334, 0.33333334, 0.33333334],\n",
       "        [0.33333334, 0.33333334, 0.33333334, 0.33333334, 0.33333334],\n",
       "        [0.        , 0.        , 0.        , 0.        , 0.        ],\n",
       "        [0.        , 0.        , 0.        , 0.        , 0.        ],\n",
       "        [0.        , 0.        , 0.        , 0.        , 0.        ],\n",
       "        [0.        , 0.        , 0.        , 0.        , 0.        ]],\n",
       "\n",
       "       [[0.16666667, 0.16666667, 0.33333334, 0.33333334, 0.33333334],\n",
       "        [0.16666667, 0.16666667, 0.33333334, 0.33333334, 0.33333334],\n",
       "        [0.33333334, 0.33333334, 0.33333334, 0.33333334, 0.33333334],\n",
       "        [0.33333334, 0.33333334, 0.33333334, 0.33333334, 0.33333334],\n",
       "        [0.33333334, 0.33333334, 0.33333334, 0.33333334, 0.33333334],\n",
       "        [0.33333334, 0.33333334, 0.33333334, 0.33333334, 0.33333334],\n",
       "        [0.33333334, 0.33333334, 0.33333334, 0.33333334, 0.33333334],\n",
       "        [0.33333334, 0.33333334, 0.33333334, 0.33333334, 0.33333334],\n",
       "        [0.33333334, 0.33333334, 0.33333334, 0.33333334, 0.33333334],\n",
       "        [0.33333334, 0.33333334, 0.33333334, 0.33333334, 0.33333334],\n",
       "        [0.33333334, 0.33333334, 0.33333334, 0.33333334, 0.33333334],\n",
       "        [0.33333334, 0.33333334, 0.33333334, 0.33333334, 0.33333334],\n",
       "        [0.        , 0.        , 0.        , 0.        , 0.        ],\n",
       "        [0.        , 0.        , 0.        , 0.        , 0.        ],\n",
       "        [0.        , 0.        , 0.        , 0.        , 0.        ],\n",
       "        [0.        , 0.        , 0.        , 0.        , 0.        ]]],\n",
       "      dtype=float32)"
      ]
     },
     "execution_count": 358,
     "metadata": {},
     "output_type": "execute_result"
    }
   ],
   "source": [
    "agent.rb.cur_observations[:, :, 5:10]"
   ]
  }
 ],
 "metadata": {
  "kernelspec": {
   "display_name": "Python 3 (ipykernel)",
   "language": "python",
   "name": "python3"
  },
  "language_info": {
   "codemirror_mode": {
    "name": "ipython",
    "version": 3
   },
   "file_extension": ".py",
   "mimetype": "text/x-python",
   "name": "python",
   "nbconvert_exporter": "python",
   "pygments_lexer": "ipython3",
   "version": "3.9.12"
  }
 },
 "nbformat": 4,
 "nbformat_minor": 5
}
