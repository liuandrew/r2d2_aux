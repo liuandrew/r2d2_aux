{
 "cells": [
  {
   "cell_type": "code",
   "execution_count": 1,
   "id": "16f024cc-c360-4336-890e-37a9fadbbba3",
   "metadata": {},
   "outputs": [],
   "source": [
    "import matplotlib.pyplot as plt\n",
    "import proplot\n",
    "import torch\n",
    "import random\n",
    "%run ../r2d2_algo/r2d2_class.py"
   ]
  },
  {
   "cell_type": "code",
   "execution_count": 2,
   "id": "02debcf3-e33b-439e-af07-642fff9bd771",
   "metadata": {},
   "outputs": [],
   "source": [
    "env_kwargs = {\n",
    "        'num_objects': 0, 'rew_structure': 'goal',\n",
    "        'task_structure': 2, 'wall_colors': 4,\n",
    "        'num_rays': 12, 'fov': 1\n",
    "}\n",
    "\n",
    "agent = R2D2Agent(env_id='NavEnv-v0', env_kwargs=env_kwargs,\n",
    "                 verbose=1, batch_size=256, buffer_size=20000,\n",
    "                 burn_in_length=8)"
   ]
  },
  {
   "cell_type": "code",
   "execution_count": 3,
   "id": "f369752d-5810-45af-a90e-afd4b0be00db",
   "metadata": {},
   "outputs": [
    {
     "name": "stdout",
     "output_type": "stream",
     "text": [
      "Mean episode length 193.8, mean return 0.2\n",
      "Mean episode length 202.0, mean return 0.0\n",
      "Mean episode length 202.0, mean return 0.0\n",
      "Mean episode length 202.0, mean return 0.0\n",
      "Mean episode length 202.0, mean return 0.0\n"
     ]
    }
   ],
   "source": [
    "agent.collect(10000)"
   ]
  },
  {
   "cell_type": "code",
   "execution_count": 20,
   "id": "cd46a2c2-c241-4b09-ab43-c9f25872f86c",
   "metadata": {},
   "outputs": [],
   "source": [
    "agent.update()"
   ]
  },
  {
   "cell_type": "code",
   "execution_count": 41,
   "id": "4c7c4a93-f413-4e84-85f6-18646f15198c",
   "metadata": {
    "collapsed": true,
    "jupyter": {
     "outputs_hidden": true
    },
    "tags": []
   },
   "outputs": [
    {
     "name": "stdout",
     "output_type": "stream",
     "text": [
      "0 False\n",
      "0 False\n",
      "0 False\n",
      "0 False\n",
      "0 False\n",
      "0 False\n",
      "0 False\n",
      "0 False\n",
      "0 False\n",
      "0 False\n",
      "0 False\n",
      "0 False\n",
      "0 False\n",
      "0 False\n",
      "0 False\n",
      "0 False\n",
      "0 False\n",
      "0 False\n",
      "0 False\n",
      "0 False\n",
      "0 False\n",
      "0 False\n",
      "0 False\n",
      "0 False\n",
      "0 False\n",
      "0 False\n",
      "0 False\n",
      "0 False\n",
      "0 False\n",
      "0 False\n",
      "0 False\n",
      "0 False\n",
      "0 False\n",
      "0 False\n",
      "0 False\n",
      "0 False\n",
      "0 False\n",
      "0 False\n",
      "0 False\n",
      "0 False\n",
      "0 False\n",
      "0 False\n",
      "0 False\n",
      "0 False\n",
      "0 False\n",
      "0 False\n",
      "0 False\n",
      "0 False\n",
      "0 False\n",
      "0 False\n",
      "0 False\n",
      "0 False\n",
      "0 False\n",
      "0 False\n",
      "0 False\n",
      "0 False\n",
      "0 False\n",
      "0 False\n",
      "0 False\n",
      "0 False\n",
      "0 False\n",
      "0 False\n",
      "0 False\n",
      "0 False\n",
      "0 False\n",
      "0 False\n",
      "0 False\n",
      "0 False\n",
      "0 False\n",
      "0 False\n",
      "0 False\n",
      "0 False\n",
      "0 False\n",
      "0 False\n",
      "0 False\n",
      "0 False\n",
      "0 False\n",
      "0 False\n",
      "0 False\n",
      "0 False\n",
      "0 False\n",
      "0 False\n",
      "0 False\n",
      "0.0 False\n",
      "0 False\n",
      "0 False\n",
      "0.0 False\n",
      "0 False\n",
      "0.0 False\n",
      "0.0 False\n",
      "0 False\n",
      "0.0 False\n",
      "0 False\n",
      "0 False\n",
      "0 False\n",
      "0 False\n",
      "0.0 False\n",
      "0 False\n",
      "0 False\n",
      "0 False\n",
      "0 False\n",
      "0.0 False\n",
      "0 False\n",
      "0.0 False\n",
      "0 False\n",
      "0 False\n",
      "0 False\n",
      "0.0 False\n",
      "0 False\n",
      "0.0 False\n",
      "0.0 False\n",
      "0 False\n",
      "0 False\n",
      "0.0 False\n",
      "0 False\n",
      "0 False\n",
      "0 False\n",
      "0.0 False\n",
      "0 False\n",
      "0 False\n",
      "0 False\n",
      "0 False\n",
      "0 False\n",
      "0 False\n",
      "0 False\n",
      "0 False\n",
      "0.0 False\n",
      "0 False\n",
      "0.0 False\n",
      "0 False\n",
      "0 False\n",
      "0 False\n",
      "0 False\n",
      "0 False\n",
      "0 False\n",
      "0 False\n",
      "0 False\n",
      "0 False\n",
      "0 False\n",
      "0.0 False\n",
      "0 False\n",
      "0 False\n",
      "0 False\n",
      "0 False\n",
      "0.0 False\n",
      "0 False\n",
      "0 False\n",
      "0 False\n",
      "0.0 False\n",
      "0.0 False\n",
      "0 False\n",
      "0 False\n",
      "0 False\n",
      "0 False\n",
      "0 False\n",
      "0 False\n",
      "0.0 False\n",
      "0.0 False\n",
      "0 False\n",
      "0 False\n",
      "0 False\n",
      "0 False\n",
      "0 False\n",
      "0 False\n",
      "0 False\n",
      "0 False\n",
      "0 False\n",
      "0 False\n",
      "0.0 False\n",
      "0 False\n",
      "0 False\n",
      "0 False\n",
      "0 False\n",
      "0 False\n",
      "0.0 False\n",
      "0 False\n",
      "0 False\n",
      "0 False\n",
      "0 False\n",
      "0 False\n",
      "0 False\n",
      "0 False\n",
      "0 False\n",
      "0.0 False\n",
      "0.0 False\n",
      "0 False\n",
      "0 False\n",
      "0 False\n",
      "0.0 False\n",
      "0 False\n",
      "0 False\n",
      "0 False\n",
      "0 False\n",
      "0.0 False\n",
      "0.0 False\n",
      "0 False\n",
      "0 False\n",
      "0.0 False\n",
      "0 False\n",
      "0.0 False\n",
      "0 False\n",
      "0 True\n",
      "0 False\n",
      "0 False\n",
      "0 False\n",
      "0 False\n",
      "0 False\n",
      "0 False\n",
      "0 False\n",
      "0 False\n",
      "0 False\n",
      "0 False\n",
      "0 False\n",
      "0 False\n",
      "0 False\n",
      "0 False\n",
      "0 False\n",
      "0 False\n",
      "0 False\n",
      "0 False\n",
      "0 False\n",
      "0 False\n",
      "0 False\n",
      "0 False\n",
      "0 False\n",
      "0 False\n",
      "0 False\n",
      "0 False\n",
      "0 False\n",
      "0 False\n",
      "0 False\n",
      "0 False\n",
      "0 False\n",
      "0 False\n",
      "0 False\n",
      "0 False\n",
      "0 False\n",
      "0 False\n",
      "0 False\n",
      "0 False\n",
      "0 False\n",
      "0 False\n",
      "0 False\n",
      "0 False\n",
      "0 False\n",
      "0 False\n",
      "0 False\n",
      "0 False\n",
      "0 False\n",
      "0 False\n",
      "0 False\n",
      "0 False\n",
      "0 False\n",
      "0 False\n",
      "0 False\n",
      "0 False\n",
      "0 False\n",
      "0 False\n",
      "0 False\n",
      "0 False\n",
      "0 False\n",
      "0 False\n",
      "0 False\n",
      "0 False\n",
      "0 False\n",
      "0 False\n",
      "0 False\n",
      "0 False\n",
      "0 False\n",
      "0.0 False\n",
      "0.0 False\n",
      "0 False\n",
      "0 False\n",
      "0 False\n",
      "0 False\n",
      "0.0 False\n",
      "0.0 False\n",
      "0 False\n",
      "0 False\n",
      "0.0 False\n",
      "0 False\n",
      "0 False\n",
      "0 False\n",
      "0 False\n",
      "0 False\n",
      "0 False\n",
      "0 False\n",
      "0 False\n",
      "0.0 False\n",
      "0 False\n",
      "0 False\n",
      "0.0 False\n",
      "0 False\n",
      "0.0 False\n",
      "0 False\n",
      "0.0 False\n",
      "0 False\n",
      "0 False\n",
      "0.0 False\n",
      "0 False\n",
      "0 False\n",
      "0.0 False\n",
      "0 False\n",
      "0 False\n",
      "0 False\n",
      "0 False\n",
      "0 False\n",
      "0.0 False\n",
      "0 False\n",
      "0.0 False\n",
      "0 False\n",
      "0 False\n",
      "0 False\n",
      "0.0 False\n",
      "0.0 False\n",
      "0 False\n",
      "0.0 False\n",
      "0 False\n",
      "0.0 False\n",
      "0 False\n",
      "0 False\n",
      "0.0 False\n",
      "0 False\n",
      "0 False\n",
      "0.0 False\n",
      "0 False\n",
      "0 False\n",
      "0 False\n",
      "0 False\n",
      "0 False\n",
      "0 False\n",
      "0.0 False\n",
      "0.0 False\n",
      "0 False\n",
      "0 False\n",
      "0 False\n",
      "0 False\n",
      "0 False\n",
      "0 False\n",
      "0 False\n",
      "0 False\n",
      "0 False\n",
      "0 False\n",
      "0 False\n",
      "0 False\n",
      "0 False\n",
      "0 False\n",
      "0 False\n",
      "0 False\n",
      "0 False\n",
      "0.0 False\n",
      "0 False\n",
      "0 False\n",
      "0.0 False\n",
      "0 False\n",
      "0 False\n",
      "0 False\n",
      "0 False\n",
      "0 False\n",
      "0 False\n",
      "0.0 False\n",
      "0 False\n",
      "0.0 False\n",
      "0.0 False\n",
      "0.0 False\n",
      "0.0 False\n",
      "0 False\n",
      "0 False\n",
      "0 False\n",
      "0 False\n",
      "0 False\n",
      "0 False\n",
      "0 False\n",
      "0 False\n",
      "0.0 False\n",
      "0 False\n",
      "0 False\n",
      "0 False\n",
      "0 False\n",
      "0 False\n",
      "0.0 False\n",
      "0 False\n",
      "0 False\n",
      "0 False\n",
      "0 False\n",
      "0 False\n",
      "0 False\n",
      "0 False\n",
      "0 False\n",
      "0 False\n",
      "0 False\n",
      "0 False\n",
      "0 False\n",
      "0.0 False\n",
      "0 False\n",
      "0 False\n",
      "0 False\n",
      "0 False\n",
      "0 False\n",
      "0 False\n",
      "0.0 False\n",
      "0 False\n",
      "0 False\n",
      "0 True\n",
      "0 False\n",
      "0 False\n",
      "0 False\n",
      "0 False\n",
      "0 False\n",
      "0 False\n",
      "0 False\n",
      "0 False\n",
      "0 False\n",
      "0 False\n",
      "0 False\n",
      "0 False\n",
      "0 False\n",
      "0 False\n",
      "0 False\n",
      "0 False\n",
      "0 False\n",
      "0 False\n",
      "0 False\n",
      "0 False\n",
      "0 False\n",
      "0 False\n",
      "0 False\n",
      "0 False\n",
      "0 False\n",
      "0 False\n",
      "0 False\n",
      "0 False\n",
      "0 False\n",
      "0 False\n",
      "0 False\n",
      "0 False\n",
      "0 False\n",
      "0 False\n",
      "0 False\n",
      "0 False\n",
      "0 False\n",
      "0 False\n",
      "0 False\n",
      "0 False\n",
      "0 False\n",
      "0 False\n",
      "0 False\n",
      "0 False\n",
      "0 False\n",
      "0 False\n",
      "0 False\n",
      "0 False\n",
      "0 False\n",
      "0 False\n",
      "0 False\n",
      "0 False\n",
      "0 False\n",
      "0 False\n",
      "0 False\n",
      "0 False\n",
      "0 False\n",
      "0 False\n",
      "0 False\n",
      "0 False\n",
      "0 False\n",
      "0 False\n",
      "0 False\n",
      "0 False\n",
      "0 False\n",
      "0 False\n",
      "0 False\n",
      "0 False\n",
      "0 False\n",
      "0 False\n",
      "0 False\n",
      "0 False\n",
      "0 False\n",
      "0 False\n",
      "0 False\n",
      "0 False\n",
      "0 False\n",
      "0 False\n",
      "0 False\n",
      "0 False\n",
      "0 False\n",
      "0 False\n",
      "0 False\n",
      "0 False\n",
      "0 False\n",
      "0 False\n",
      "0 False\n",
      "0 False\n",
      "0 False\n",
      "0 False\n",
      "0 False\n",
      "0 False\n",
      "0 False\n",
      "0 False\n",
      "0 False\n",
      "0 False\n"
     ]
    }
   ],
   "source": [
    "'''Run steps manually'''\n",
    "\n",
    "obs = agent.env.reset()\n",
    "rnn_hxs = agent.q_network.get_rnn_hxs()\n",
    "for i in range(500):\n",
    "    action, q_values, next_rnn_hxs = agent.act(obs, rnn_hxs)\n",
    "    next_obs, reward, done, info = agent.env.step(action.item())\n",
    "    \n",
    "    if reward == 1:\n",
    "        break\n",
    "        \n",
    "    if done:\n",
    "        next_obs = agent.env.reset()\n",
    "        next_rnn_hxs = agent.q_network.get_rnn_hxs()\n",
    "    \n",
    "    obs = next_obs\n",
    "    rnn_hxs = next_rnn_hxs"
   ]
  },
  {
   "cell_type": "markdown",
   "id": "308d1ce7-4394-40e9-a41a-53c4f151f023",
   "metadata": {
    "tags": []
   },
   "source": [
    "# Optimizing batch calls for ResettingGRU\n",
    "\n",
    "Running three 1 row GRU calls takes about as much time as 1 batched 64 GRU call. \n",
    "\n",
    "Padding adds linearly more time as well. To optimize then, it makes sense to batch"
   ]
  },
  {
   "cell_type": "markdown",
   "id": "7ddbf829-b94f-4c70-b7af-6e9b64a456b3",
   "metadata": {
    "jp-MarkdownHeadingCollapsed": true,
    "tags": []
   },
   "source": [
    "## Testing times to finish forward calls adding rows or sequence length steps"
   ]
  },
  {
   "cell_type": "code",
   "execution_count": 64,
   "id": "522eb73b-e32c-46a1-98b5-5640da7a76c1",
   "metadata": {},
   "outputs": [],
   "source": [
    "agent = R2D2Agent()\n",
    "agent.train(1)\n",
    "data = agent.rb.sample(64)\n",
    "\n",
    "obs = data['observations']\n",
    "dones = data['dones']\n",
    "rnn_hxs = data['hidden_states']"
   ]
  },
  {
   "cell_type": "code",
   "execution_count": 82,
   "id": "b85ac120-2485-45a1-ae41-a63eb991d8b1",
   "metadata": {},
   "outputs": [
    {
     "data": {
      "text/plain": [
       "tensor(40.)"
      ]
     },
     "execution_count": 82,
     "metadata": {},
     "output_type": "execute_result"
    }
   ],
   "source": [
    "dones.sum()"
   ]
  },
  {
   "cell_type": "code",
   "execution_count": 65,
   "id": "fd5e3eae-ef35-4eb9-8426-0b0868b4dfdc",
   "metadata": {},
   "outputs": [
    {
     "name": "stdout",
     "output_type": "stream",
     "text": [
      "2.94 ms ± 28.2 µs per loop (mean ± std. dev. of 7 runs, 100 loops each)\n"
     ]
    }
   ],
   "source": [
    "%%timeit\n",
    "agent.q_network.gru(obs, rnn_hxs)"
   ]
  },
  {
   "cell_type": "code",
   "execution_count": 87,
   "id": "944285e7-6b54-4de7-8d81-7f3d356d641a",
   "metadata": {},
   "outputs": [
    {
     "name": "stdout",
     "output_type": "stream",
     "text": [
      "2.9 ms ± 59.1 µs per loop (mean ± std. dev. of 7 runs, 100 loops each)\n"
     ]
    }
   ],
   "source": [
    "%%timeit\n",
    "agent.q_network.gru(obs[:-1], rnn_hxs[:, :-1, :])"
   ]
  },
  {
   "cell_type": "code",
   "execution_count": 80,
   "id": "2b2b2a3d-aedd-4b29-a7d9-69b07eefd87f",
   "metadata": {},
   "outputs": [
    {
     "name": "stdout",
     "output_type": "stream",
     "text": [
      "2.64 ms ± 74.1 µs per loop (mean ± std. dev. of 7 runs, 100 loops each)\n"
     ]
    }
   ],
   "source": [
    "%%timeit\n",
    "agent.q_network.gru(obs[:, :-1, :], rnn_hxs)"
   ]
  },
  {
   "cell_type": "code",
   "execution_count": 74,
   "id": "f6f598f9-ac1b-4df7-be94-bd590b9bbb18",
   "metadata": {},
   "outputs": [
    {
     "name": "stdout",
     "output_type": "stream",
     "text": [
      "6.11 ms ± 140 µs per loop (mean ± std. dev. of 7 runs, 100 loops each)\n"
     ]
    }
   ],
   "source": [
    "%%timeit\n",
    "agent.q_network.gru(torch.concat([obs, obs], dim=1), rnn_hxs)"
   ]
  },
  {
   "cell_type": "code",
   "execution_count": 97,
   "id": "e792ab07-ecfc-4121-b5e1-5671a68af258",
   "metadata": {},
   "outputs": [
    {
     "name": "stdout",
     "output_type": "stream",
     "text": [
      "6.16 ms ± 109 µs per loop (mean ± std. dev. of 7 runs, 100 loops each)\n"
     ]
    }
   ],
   "source": [
    "%%timeit\n",
    "agent.q_network.gru(torch.concat([obs[:-1], obs[:-1]], dim=1), rnn_hxs[:, :-1, :])"
   ]
  },
  {
   "cell_type": "code",
   "execution_count": 102,
   "id": "e58a2db6-e543-41b2-b489-3be16e34bc9d",
   "metadata": {},
   "outputs": [
    {
     "name": "stdout",
     "output_type": "stream",
     "text": [
      "11.9 ms ± 231 µs per loop (mean ± std. dev. of 7 runs, 100 loops each)\n"
     ]
    }
   ],
   "source": [
    "%%timeit\n",
    "agent.q_network.gru(torch.concat([obs]*4, dim=1), rnn_hxs)"
   ]
  },
  {
   "cell_type": "code",
   "execution_count": 101,
   "id": "f53de2da-8511-4bb0-872f-761cac42eeb2",
   "metadata": {},
   "outputs": [
    {
     "name": "stdout",
     "output_type": "stream",
     "text": [
      "11.8 ms ± 187 µs per loop (mean ± std. dev. of 7 runs, 100 loops each)\n"
     ]
    }
   ],
   "source": [
    "%%timeit\n",
    "agent.q_network.gru(torch.concat([obs[:-1]]*4, dim=1), rnn_hxs[:, :-1, :])"
   ]
  },
  {
   "cell_type": "code",
   "execution_count": 75,
   "id": "1bab2c58-99aa-43c0-97a6-0de27da324a3",
   "metadata": {},
   "outputs": [
    {
     "data": {
      "text/plain": [
       "torch.Size([64, 12, 4])"
      ]
     },
     "execution_count": 75,
     "metadata": {},
     "output_type": "execute_result"
    }
   ],
   "source": [
    "obs.shape"
   ]
  },
  {
   "cell_type": "code",
   "execution_count": 84,
   "id": "00b191f7-f97c-4f42-a3dd-438a97f4057e",
   "metadata": {},
   "outputs": [
    {
     "name": "stdout",
     "output_type": "stream",
     "text": [
      "374 µs ± 8.53 µs per loop (mean ± std. dev. of 7 runs, 1,000 loops each)\n"
     ]
    }
   ],
   "source": [
    "%%timeit\n",
    "agent.q_network.gru(obs[:1, :4, :], rnn_hxs[:, :1, :])"
   ]
  },
  {
   "cell_type": "code",
   "execution_count": 83,
   "id": "1c5fe90f-4873-49c7-a413-744c2678eb7b",
   "metadata": {},
   "outputs": [
    {
     "name": "stdout",
     "output_type": "stream",
     "text": [
      "131 µs ± 916 ns per loop (mean ± std. dev. of 7 runs, 10,000 loops each)\n"
     ]
    }
   ],
   "source": [
    "%%timeit\n",
    "agent.q_network.gru(obs[:1, :1, :], rnn_hxs[:, :1, :])"
   ]
  },
  {
   "cell_type": "code",
   "execution_count": null,
   "id": "6927be1a-692e-4318-9988-f05e52338faf",
   "metadata": {},
   "outputs": [],
   "source": []
  },
  {
   "cell_type": "code",
   "execution_count": 103,
   "id": "d336a663-118f-4f02-afa6-21c83dd32021",
   "metadata": {},
   "outputs": [],
   "source": [
    "empty = torch.zeros((64, 12, 4))"
   ]
  },
  {
   "cell_type": "code",
   "execution_count": 104,
   "id": "18dc5e8d-5e74-45e3-887a-98105dd004a2",
   "metadata": {},
   "outputs": [
    {
     "name": "stdout",
     "output_type": "stream",
     "text": [
      "10.5 µs ± 191 ns per loop (mean ± std. dev. of 7 runs, 100,000 loops each)\n"
     ]
    }
   ],
   "source": [
    "%%timeit\n",
    "empty[:, 4:8, :] = obs[:, 4:8, :]"
   ]
  },
  {
   "cell_type": "code",
   "execution_count": 106,
   "id": "da120e40-d0e1-454f-bf4b-73701b47260d",
   "metadata": {},
   "outputs": [
    {
     "data": {
      "text/plain": [
       "tensor(40.)"
      ]
     },
     "execution_count": 106,
     "metadata": {},
     "output_type": "execute_result"
    }
   ],
   "source": [
    "dones.sum()"
   ]
  },
  {
   "cell_type": "markdown",
   "id": "8178a6bd-ef2a-4286-92e5-f235b97674f7",
   "metadata": {
    "tags": []
   },
   "source": [
    "## Testing rebatched ResettingGRU, "
   ]
  },
  {
   "cell_type": "code",
   "execution_count": 488,
   "id": "b722f1a2-aacd-4e38-9f2f-25f54255e2a8",
   "metadata": {},
   "outputs": [],
   "source": [
    "class ResettingGRU2(nn.Module):\n",
    "    '''\n",
    "    Modification to GRU that can take dones on the forward call to tell when\n",
    "    state in the middle of a batched sequence forward call should be reset\n",
    "    '''\n",
    "    def __init__(self, **kwargs):\n",
    "        super().__init__()\n",
    "        self.gru = nn.GRU(**kwargs)\n",
    "        \n",
    "        self.hidden_size = self.gru.hidden_size\n",
    "        self.batch_first = self.gru.batch_first\n",
    "        \n",
    "    def get_rnn_hxs(self, num_batches=1):\n",
    "        '''\n",
    "        Get torch.zeros hidden states to start off with\n",
    "        '''\n",
    "        if num_batches == 1:\n",
    "            return torch.zeros(1, self.hidden_size)\n",
    "        else:\n",
    "            return torch.zeros(1, num_batches, self.hidden_size)\n",
    "        \n",
    "    \n",
    "    def forward(self, x, hidden_state, dones=None):\n",
    "        if dones == None:\n",
    "            return self.gru(x, hidden_state)\n",
    "        \n",
    "        #Unfortunately need to split up the batch here\n",
    "        if self.batch_first == False:\n",
    "            raise NotImplementedError\n",
    "        \n",
    "        if hidden_state.dim() == 2:\n",
    "            hidden_state = hidden_state.unsqueeze(0)\n",
    "            x = x.unsqueeze(0)\n",
    "            dones = dones.unsqueeze(0)\n",
    "\n",
    "        num_batches = hidden_state.shape[1]\n",
    "\n",
    "        #Generate a new padded x and rnn_hxs vector to batch forward pass\n",
    "        padded_x = torch.zeros((num_batches + extra_rows, x.shape[1], x.shape[2]))\n",
    "        padded_rnn_hxs = torch.zeros((hidden_state.shape[0], num_batches + extra_rows, hidden_state.shape[2]))\n",
    "\n",
    "        batchable_rows = (dones == 0).all(dim=1)\n",
    "        num_batchable_rows = batchable_rows.sum().item()\n",
    "        individual_rows = (~batchable_rows).argwhere().reshape(-1)\n",
    "\n",
    "        #First N rows will be taken from rows with no dones\n",
    "        padded_x[:num_batchable_rows] = x[batchable_rows]\n",
    "        padded_rnn_hxs[:, :num_batchable_rows, :] = hidden_state[:, batchable_rows, :]\n",
    "\n",
    "        #Remaining rows will be filled out in order of rows with dones\n",
    "        cur_row_idx = num_batchable_rows\n",
    "        for i in individual_rows:\n",
    "            breakpoints = (dones[i] == 1).argwhere()\n",
    "            cur_idx = 0\n",
    "            rnn_hx = hidden_state[:, i, :]\n",
    "\n",
    "            for breakpoint in breakpoints:\n",
    "                if breakpoint == 0:\n",
    "                    rnn_hx = get_rnn_hxs()\n",
    "                    continue\n",
    "                padded_x[cur_row_idx, :breakpoint-cur_idx, :] = x[i, cur_idx:breakpoint, :]\n",
    "                padded_rnn_hxs[:, cur_row_idx, :] = rnn_hx\n",
    "\n",
    "                rnn_hx = get_rnn_hxs()\n",
    "                cur_idx = breakpoint\n",
    "                cur_row_idx += 1\n",
    "\n",
    "            if cur_idx < len(dones[i]):\n",
    "                padded_x[cur_row_idx, :len(dones[i])-cur_idx, :] = x[i, cur_idx:, :]\n",
    "                padded_rnn_hxs[:, cur_row_idx, :] = rnn_hx\n",
    "                cur_row_idx += 1\n",
    "\n",
    "        #Perform forward pass on new batched\n",
    "        output, output_hx = self.gru(padded_x, padded_rnn_hxs)\n",
    "\n",
    "        #Fill out the expected output by reversing the whole process\n",
    "        full_out = torch.zeros((x.shape[0], x.shape[1], self.hidden_size))\n",
    "        full_hx_out = torch.zeros((1, x.shape[0], self.hidden_size))\n",
    "\n",
    "        full_out[batchable_rows] = output[:num_batchable_rows]\n",
    "        full_hx_out[:, batchable_rows, :] = output_hx[:, :num_batchable_rows, :]\n",
    "\n",
    "        cur_row_idx = num_batchable_rows\n",
    "        for i in individual_rows:\n",
    "            breakpoints = (dones[i] == 1).argwhere()\n",
    "            cur_idx = 0\n",
    "\n",
    "            for breakpoint in breakpoints:\n",
    "                if breakpoint == 0:\n",
    "                    continue\n",
    "                full_out[i, cur_idx:breakpoint, :] = output[cur_row_idx, :breakpoint-cur_idx, :]\n",
    "\n",
    "                cur_idx = breakpoint\n",
    "                cur_row_idx += 1\n",
    "\n",
    "            if cur_idx < len(dones[i]):\n",
    "                full_out[i, cur_idx:, :] = output[cur_row_idx, :len(dones[i])-cur_idx, :]\n",
    "                \n",
    "                print(cur_row_idx)\n",
    "                #Remember only the last rnn hidden state gets returned\n",
    "                full_hx_out[:, i, :] = output_hx[:, cur_row_idx, :]\n",
    "                cur_row_idx += 1\n",
    "            else:\n",
    "                #If we did not have remaining steps to fill, then we must have had a done\n",
    "                # on the last step, so the final rnn_hx should be zeros to return\n",
    "                full_hx_out[:, i, :] = self.get_rnn_hxs()\n",
    "\n",
    "        return full_out, full_hx_out, padded_x, padded_rnn_hxs, output, output_hx"
   ]
  },
  {
   "cell_type": "code",
   "execution_count": 390,
   "id": "65c7c71d-2972-4838-89f3-50698295cd81",
   "metadata": {},
   "outputs": [],
   "source": [
    "\n",
    "class ResettingGRU(nn.Module):\n",
    "    '''\n",
    "    Modification to GRU that can take dones on the forward call to tell when\n",
    "    state in the middle of a batched sequence forward call should be reset\n",
    "    '''\n",
    "    def __init__(self, **kwargs):\n",
    "        super().__init__()\n",
    "        self.gru = nn.GRU(**kwargs)\n",
    "        \n",
    "        self.hidden_size = self.gru.hidden_size\n",
    "        self.batch_first = self.gru.batch_first\n",
    "        \n",
    "    def get_rnn_hxs(self, num_batches=1):\n",
    "        '''\n",
    "        Get torch.zeros hidden states to start off with\n",
    "        '''\n",
    "        if num_batches == 1:\n",
    "            return torch.zeros(1, self.hidden_size)\n",
    "        else:\n",
    "            return torch.zeros(1, num_batches, self.hidden_size)\n",
    "        \n",
    "    \n",
    "    def forward(self, x, hidden_state, dones=None):\n",
    "        if dones == None:\n",
    "            return self.gru(x, hidden_state)\n",
    "        \n",
    "        #Unfortunately need to split up the batch here\n",
    "        if self.batch_first == False:\n",
    "            raise NotImplementedError        \n",
    "        \n",
    "        def single_gru_row(x_i, rnn_hx, done):\n",
    "            breakpoints = (done == 1).argwhere()\n",
    "            cur_idx = 0\n",
    "            output_row = torch.zeros(x_i.shape[0], self.hidden_size)\n",
    "            \n",
    "            for breakpoint in breakpoints:\n",
    "                if breakpoint == 0:\n",
    "                    rnn_hx = self.get_rnn_hxs()\n",
    "                    continue\n",
    "                out, out_hx = self.gru(x_i[cur_idx:breakpoint], rnn_hx)\n",
    "                output_row[cur_idx:breakpoint] = out\n",
    "                rnn_hx = self.get_rnn_hxs()\n",
    "                cur_idx = breakpoint\n",
    "                \n",
    "            if cur_idx < x_i.shape[0]:\n",
    "                out, out_hx = self.gru(x_i[cur_idx:], rnn_hx)\n",
    "                output_row[cur_idx:] = out\n",
    "            return output_row, out_hx\n",
    "        \n",
    "        if hidden_state.dim() == 2:\n",
    "            output, output_hx = single_gru_row(x, hidden_state, dones)\n",
    "            \n",
    "        else:\n",
    "            num_batches = hidden_state.shape[1]\n",
    "            \n",
    "            # Output will have shape [N, L, hidden_size]\n",
    "            full_out = torch.zeros((x.shape[0], x.shape[1], self.hidden_size))\n",
    "            # hidden_state output has shape [1, N, hidden_size]\n",
    "            full_hx_out = torch.zeros((1, x.shape[0], self.hidden_size))\n",
    "            \n",
    "            batchable_rows = (dones == 0).all(dim=1)\n",
    "            individual_rows = (~batchable_rows).argwhere().reshape(-1)\n",
    "            \n",
    "            # First batch all computations that have no dones in them\n",
    "            out, out_hx = self.gru(x[batchable_rows], hidden_state[:, batchable_rows, :])\n",
    "            full_out[batchable_rows] = out\n",
    "            full_hx_out[:, batchable_rows, :] = out_hx\n",
    "            \n",
    "            for i in individual_rows:\n",
    "                d = dones[i]\n",
    "                x_i = x[i]\n",
    "                rnn_hx = hidden_state[:, i, :]\n",
    "                \n",
    "                output_row, output_hx_row = single_gru_row(x_i, rnn_hx, d)\n",
    "                full_out[i] = output_row\n",
    "                full_hx_out[:, i, :] = output_hx_row\n",
    "            \n",
    "        \n",
    "        return full_out, full_hx_out"
   ]
  },
  {
   "cell_type": "code",
   "execution_count": 74,
   "id": "fccbcbf4-7553-4d77-883b-f6acb4a5eb89",
   "metadata": {},
   "outputs": [
    {
     "name": "stdout",
     "output_type": "stream",
     "text": [
      "6.11 ms ± 140 µs per loop (mean ± std. dev. of 7 runs, 100 loops each)\n"
     ]
    }
   ],
   "source": [
    "%%timeit\n",
    "agent.q_network.gru(torch.concat([obs, obs], dim=1), rnn_hxs)"
   ]
  },
  {
   "cell_type": "code",
   "execution_count": 97,
   "id": "faede605-a796-43cc-b971-8c8f33e645bf",
   "metadata": {},
   "outputs": [
    {
     "name": "stdout",
     "output_type": "stream",
     "text": [
      "6.16 ms ± 109 µs per loop (mean ± std. dev. of 7 runs, 100 loops each)\n"
     ]
    }
   ],
   "source": [
    "%%timeit\n",
    "agent.q_network.gru(torch.concat([obs[:-1], obs[:-1]], dim=1), rnn_hxs[:, :-1, :])"
   ]
  },
  {
   "cell_type": "code",
   "execution_count": 489,
   "id": "a608049c-a744-48a5-957f-17685c6e9b26",
   "metadata": {},
   "outputs": [],
   "source": [
    "gru2 = ResettingGRU2(input_size=4, hidden_size=64, batch_first=True)"
   ]
  },
  {
   "cell_type": "code",
   "execution_count": 470,
   "id": "85b87349-4d16-44a1-b99f-c38c068bfd21",
   "metadata": {},
   "outputs": [],
   "source": [
    "gru = ResettingGRU(input_size=4, hidden_size=64, batch_first=True)"
   ]
  },
  {
   "cell_type": "code",
   "execution_count": null,
   "id": "fc355347-c122-4008-8922-ac78c6285e2e",
   "metadata": {},
   "outputs": [],
   "source": [
    "# %%timeit\n",
    "out1, hx1 = gru(obs, rnn_hxs, dones)"
   ]
  },
  {
   "cell_type": "code",
   "execution_count": 490,
   "id": "6675752d-32bc-4dc9-a3d2-3ec4f9dd33d3",
   "metadata": {
    "collapsed": true,
    "jupyter": {
     "outputs_hidden": true
    },
    "tags": []
   },
   "outputs": [
    {
     "name": "stdout",
     "output_type": "stream",
     "text": [
      "26\n",
      "28\n",
      "30\n",
      "32\n",
      "33\n",
      "35\n",
      "37\n",
      "39\n",
      "41\n",
      "43\n",
      "45\n",
      "47\n",
      "49\n",
      "51\n",
      "53\n",
      "54\n",
      "56\n",
      "58\n",
      "60\n",
      "61\n",
      "64\n",
      "66\n",
      "68\n",
      "70\n",
      "72\n",
      "74\n",
      "76\n",
      "78\n",
      "80\n",
      "82\n",
      "84\n",
      "85\n",
      "87\n",
      "89\n",
      "91\n",
      "93\n",
      "95\n",
      "97\n",
      "99\n"
     ]
    }
   ],
   "source": [
    "# %%timeit\n",
    "out2, hx2, padded_x, padded_rnn_hxs, output, output_hx = gru2(obs, rnn_hxs, dones)"
   ]
  },
  {
   "cell_type": "code",
   "execution_count": 424,
   "id": "0bcfe1be-7c6f-4870-bbe5-4ffa89ffc32a",
   "metadata": {
    "collapsed": true,
    "jupyter": {
     "outputs_hidden": true
    },
    "tags": []
   },
   "outputs": [
    {
     "data": {
      "text/plain": [
       "tensor([[-7.4506e-09,  2.7940e-09,  0.0000e+00,  0.0000e+00,  0.0000e+00,\n",
       "          0.0000e+00,  0.0000e+00,  0.0000e+00,  0.0000e+00,  0.0000e+00,\n",
       "          0.0000e+00,  0.0000e+00,  0.0000e+00,  0.0000e+00,  0.0000e+00,\n",
       "          0.0000e+00,  0.0000e+00,  0.0000e+00,  0.0000e+00,  0.0000e+00,\n",
       "          0.0000e+00,  0.0000e+00,  0.0000e+00,  0.0000e+00,  0.0000e+00,\n",
       "          0.0000e+00, -7.4506e-09,  0.0000e+00,  0.0000e+00,  3.7253e-09,\n",
       "          0.0000e+00,  0.0000e+00, -7.4506e-09,  7.4506e-09,  0.0000e+00,\n",
       "          0.0000e+00,  0.0000e+00,  0.0000e+00,  0.0000e+00, -1.4901e-08,\n",
       "          0.0000e+00, -1.4901e-08, -3.7253e-09,  1.4901e-08,  0.0000e+00,\n",
       "         -7.4506e-09,  0.0000e+00, -9.3132e-10,  0.0000e+00,  0.0000e+00,\n",
       "          1.4901e-08,  0.0000e+00,  0.0000e+00,  1.8626e-09,  0.0000e+00,\n",
       "          0.0000e+00,  0.0000e+00,  0.0000e+00,  1.4901e-08,  7.4506e-09,\n",
       "          3.7253e-09,  7.4506e-09,  0.0000e+00,  0.0000e+00],\n",
       "        [-1.4901e-08,  1.8626e-09,  3.7253e-09, -1.8626e-09,  0.0000e+00,\n",
       "          0.0000e+00,  0.0000e+00,  0.0000e+00,  0.0000e+00,  0.0000e+00,\n",
       "         -1.4901e-08, -7.4506e-09, -7.4506e-09,  0.0000e+00,  0.0000e+00,\n",
       "          0.0000e+00,  0.0000e+00,  0.0000e+00, -1.4901e-08,  0.0000e+00,\n",
       "          0.0000e+00,  0.0000e+00,  0.0000e+00,  0.0000e+00,  0.0000e+00,\n",
       "          0.0000e+00,  0.0000e+00,  3.7253e-09,  0.0000e+00,  0.0000e+00,\n",
       "         -1.8626e-09,  0.0000e+00,  0.0000e+00,  0.0000e+00,  0.0000e+00,\n",
       "         -1.4901e-08,  0.0000e+00,  0.0000e+00,  0.0000e+00,  0.0000e+00,\n",
       "          0.0000e+00,  0.0000e+00,  0.0000e+00,  1.4901e-08,  0.0000e+00,\n",
       "          0.0000e+00,  0.0000e+00,  0.0000e+00,  0.0000e+00,  3.7253e-09,\n",
       "          1.4901e-08,  1.4901e-08,  0.0000e+00,  7.4506e-09,  0.0000e+00,\n",
       "          0.0000e+00,  0.0000e+00,  0.0000e+00,  1.4901e-08,  0.0000e+00,\n",
       "          5.5879e-09,  0.0000e+00,  0.0000e+00,  3.7253e-09],\n",
       "        [-1.4901e-08, -7.4506e-09,  0.0000e+00, -1.8626e-09,  0.0000e+00,\n",
       "          0.0000e+00,  0.0000e+00,  0.0000e+00,  0.0000e+00,  0.0000e+00,\n",
       "         -1.4901e-08,  0.0000e+00,  0.0000e+00,  0.0000e+00,  0.0000e+00,\n",
       "          0.0000e+00,  0.0000e+00, -1.4901e-08, -7.4506e-09,  0.0000e+00,\n",
       "          0.0000e+00,  0.0000e+00, -1.8626e-09,  0.0000e+00,  0.0000e+00,\n",
       "          0.0000e+00,  0.0000e+00,  0.0000e+00,  0.0000e+00,  0.0000e+00,\n",
       "          0.0000e+00,  0.0000e+00,  7.4506e-09, -7.4506e-09,  0.0000e+00,\n",
       "          0.0000e+00,  3.7253e-09,  7.4506e-09, -1.4901e-08,  1.4901e-08,\n",
       "          0.0000e+00,  0.0000e+00,  7.4506e-09,  0.0000e+00,  0.0000e+00,\n",
       "          0.0000e+00,  0.0000e+00,  5.5879e-09,  0.0000e+00, -3.7253e-09,\n",
       "          1.4901e-08,  1.4901e-08, -1.8626e-09,  0.0000e+00, -7.4506e-09,\n",
       "          0.0000e+00,  7.4506e-09,  0.0000e+00,  1.4901e-08, -7.4506e-09,\n",
       "          1.1176e-08, -7.4506e-09, -7.4506e-09,  7.4506e-09],\n",
       "        [-1.4901e-08, -7.4506e-09,  0.0000e+00,  3.7253e-09,  0.0000e+00,\n",
       "         -1.4901e-08,  1.4901e-08,  0.0000e+00,  0.0000e+00,  0.0000e+00,\n",
       "         -1.4901e-08,  0.0000e+00,  7.4506e-09,  1.4901e-08,  0.0000e+00,\n",
       "          0.0000e+00,  0.0000e+00, -1.4901e-08,  0.0000e+00,  0.0000e+00,\n",
       "          0.0000e+00,  0.0000e+00, -3.7253e-09,  0.0000e+00,  1.4901e-08,\n",
       "          0.0000e+00,  0.0000e+00,  3.7253e-09,  0.0000e+00, -1.8626e-09,\n",
       "          1.8626e-09,  7.4506e-09, -7.4506e-09,  0.0000e+00,  0.0000e+00,\n",
       "         -7.4506e-09, -3.7253e-09,  1.4901e-08,  0.0000e+00,  0.0000e+00,\n",
       "          1.4901e-08,  1.4901e-08,  7.4506e-09,  0.0000e+00,  0.0000e+00,\n",
       "          0.0000e+00,  0.0000e+00,  3.7253e-09, -7.4506e-09, -7.4506e-09,\n",
       "          0.0000e+00,  0.0000e+00, -2.7940e-09,  0.0000e+00, -7.4506e-09,\n",
       "          0.0000e+00,  7.4506e-09,  0.0000e+00,  1.4901e-08, -7.4506e-09,\n",
       "          9.3132e-09, -7.4506e-09,  0.0000e+00,  1.1176e-08],\n",
       "        [-1.4901e-08, -3.7253e-09,  0.0000e+00,  1.8626e-09,  0.0000e+00,\n",
       "          0.0000e+00,  2.9802e-08, -1.4901e-08,  0.0000e+00,  0.0000e+00,\n",
       "         -1.4901e-08,  0.0000e+00,  0.0000e+00,  0.0000e+00,  0.0000e+00,\n",
       "          0.0000e+00,  0.0000e+00, -7.4506e-09,  1.8626e-09,  0.0000e+00,\n",
       "          0.0000e+00,  0.0000e+00,  3.7253e-09,  0.0000e+00,  0.0000e+00,\n",
       "          0.0000e+00,  0.0000e+00,  1.8626e-09,  7.4506e-09, -3.7253e-09,\n",
       "          2.7940e-09,  0.0000e+00, -7.4506e-09,  3.7253e-09,  0.0000e+00,\n",
       "          0.0000e+00,  3.7253e-09,  0.0000e+00,  0.0000e+00,  0.0000e+00,\n",
       "          0.0000e+00,  0.0000e+00,  3.7253e-09,  0.0000e+00,  0.0000e+00,\n",
       "          0.0000e+00,  0.0000e+00,  7.4506e-09,  0.0000e+00, -1.4901e-08,\n",
       "          0.0000e+00, -1.4901e-08, -5.5879e-09,  0.0000e+00,  0.0000e+00,\n",
       "          0.0000e+00,  0.0000e+00,  0.0000e+00,  0.0000e+00, -7.4506e-09,\n",
       "          3.7253e-09, -3.7253e-09, -1.4901e-08,  1.4901e-08],\n",
       "        [ 0.0000e+00,  3.7253e-09, -7.4506e-09,  2.7940e-09,  0.0000e+00,\n",
       "          0.0000e+00,  1.4901e-08,  0.0000e+00, -7.4506e-09,  0.0000e+00,\n",
       "          0.0000e+00,  0.0000e+00,  0.0000e+00,  0.0000e+00,  0.0000e+00,\n",
       "          0.0000e+00,  0.0000e+00,  0.0000e+00,  3.7253e-09,  0.0000e+00,\n",
       "         -7.4506e-09,  0.0000e+00,  3.7253e-09,  0.0000e+00,  0.0000e+00,\n",
       "          0.0000e+00,  0.0000e+00,  9.3132e-10,  3.7253e-09, -1.8626e-09,\n",
       "          1.8626e-09, -3.7253e-09, -3.7253e-09,  1.8626e-09, -7.4506e-09,\n",
       "          0.0000e+00, -3.7253e-09,  0.0000e+00,  0.0000e+00, -1.4901e-08,\n",
       "          0.0000e+00,  0.0000e+00,  0.0000e+00,  0.0000e+00,  0.0000e+00,\n",
       "          0.0000e+00,  0.0000e+00,  3.7253e-09,  0.0000e+00, -7.4506e-09,\n",
       "         -7.4506e-09,  0.0000e+00, -3.2596e-09, -7.4506e-09,  0.0000e+00,\n",
       "          0.0000e+00,  3.7253e-09,  0.0000e+00,  0.0000e+00,  0.0000e+00,\n",
       "         -1.8626e-09, -3.7253e-09, -1.4901e-08,  1.4901e-08],\n",
       "        [ 0.0000e+00,  3.7253e-09, -7.4506e-09,  1.8626e-09,  7.4506e-09,\n",
       "          0.0000e+00,  1.4901e-08,  0.0000e+00,  0.0000e+00,  0.0000e+00,\n",
       "          0.0000e+00,  0.0000e+00,  0.0000e+00,  7.4506e-09,  1.4901e-08,\n",
       "          0.0000e+00,  0.0000e+00,  0.0000e+00,  3.7253e-09,  0.0000e+00,\n",
       "         -7.4506e-09,  7.4506e-09,  3.7253e-09,  0.0000e+00,  0.0000e+00,\n",
       "          0.0000e+00,  0.0000e+00,  3.2596e-09,  3.7253e-09,  1.8626e-09,\n",
       "          1.8626e-09, -7.4506e-09, -1.8626e-09,  1.8626e-09,  0.0000e+00,\n",
       "          0.0000e+00,  3.7253e-09,  0.0000e+00,  0.0000e+00, -1.4901e-08,\n",
       "          0.0000e+00,  0.0000e+00, -3.7253e-09,  0.0000e+00,  0.0000e+00,\n",
       "          0.0000e+00,  7.4506e-09, -3.7253e-09,  0.0000e+00, -7.4506e-09,\n",
       "          0.0000e+00,  0.0000e+00, -1.8626e-09, -7.4506e-09,  0.0000e+00,\n",
       "          0.0000e+00,  5.5879e-09,  0.0000e+00,  3.7253e-09,  7.4506e-09,\n",
       "          3.7253e-09, -3.7253e-09,  0.0000e+00,  1.4901e-08],\n",
       "        [-2.4345e-02, -2.4244e-02, -7.9860e-02, -2.7669e-02,  6.6794e-03,\n",
       "         -6.2410e-02, -4.2982e-03, -2.1879e-03,  1.6339e-03,  7.1289e-02,\n",
       "          7.0352e-02,  1.2625e-02,  4.9170e-02, -3.0548e-02, -3.9058e-02,\n",
       "         -8.3944e-02, -5.6804e-02, -2.2943e-02,  2.5739e-02, -2.4876e-02,\n",
       "          5.5424e-02,  4.6656e-02, -2.5954e-02, -5.0452e-02, -3.5546e-02,\n",
       "          9.6303e-02,  1.9292e-02,  3.7238e-03,  2.4467e-02,  1.3823e-02,\n",
       "         -2.8631e-03, -4.7348e-02,  6.3779e-03,  4.3876e-02,  2.0559e-02,\n",
       "         -3.1111e-02,  1.4958e-02, -8.3494e-02,  3.0275e-02,  1.3221e-02,\n",
       "          5.2305e-03, -2.0127e-02, -4.8921e-03,  4.3257e-02,  3.6838e-02,\n",
       "         -5.1316e-03,  2.9789e-02,  4.3816e-02, -1.1608e-01, -3.9882e-02,\n",
       "          1.8343e-02,  5.4955e-02, -3.7797e-02,  3.6602e-02, -4.3625e-02,\n",
       "         -4.5199e-02,  6.1206e-02, -2.3029e-02,  1.6334e-02, -1.3294e-02,\n",
       "          3.5891e-02, -2.9721e-02,  5.4780e-02,  5.9623e-02],\n",
       "        [-1.4877e-02, -2.5007e-02, -5.1007e-02, -1.8055e-02, -2.1114e-03,\n",
       "         -3.3816e-02, -1.2289e-02,  7.1521e-03,  1.5347e-03,  3.6079e-02,\n",
       "          4.3014e-02,  1.5436e-03,  3.2712e-02, -1.7223e-02, -1.5033e-02,\n",
       "         -4.7101e-02, -2.9369e-02, -1.9662e-02,  1.2135e-02, -7.0527e-03,\n",
       "          4.0261e-02,  2.5503e-02, -1.4092e-02, -2.3720e-02, -2.0875e-02,\n",
       "          5.8865e-02,  8.6041e-03,  2.6778e-03,  2.0436e-02,  3.4428e-03,\n",
       "         -1.1375e-02, -3.1916e-02,  4.8333e-03,  1.9170e-02,  1.4240e-02,\n",
       "         -1.1644e-02,  6.1298e-03, -4.5677e-02,  6.9333e-03,  1.8238e-03,\n",
       "          2.5270e-03, -9.9807e-03, -4.7128e-03,  2.3904e-02,  2.1425e-02,\n",
       "         -7.0508e-03,  1.3368e-02,  1.9773e-02, -6.8777e-02, -2.2686e-02,\n",
       "          4.3695e-03,  3.5223e-02, -1.3203e-02,  2.1972e-02, -2.4902e-02,\n",
       "         -2.3117e-02,  3.7848e-02, -1.0434e-02,  1.4368e-04, -1.6491e-03,\n",
       "          2.1593e-02, -1.3070e-02,  3.7775e-02,  2.4365e-02],\n",
       "        [-7.8380e-03, -1.9839e-02, -3.0780e-02, -1.1677e-02, -3.4598e-03,\n",
       "         -1.8728e-02, -1.2236e-02,  7.9842e-03,  2.3418e-03,  1.8643e-02,\n",
       "          2.5609e-02, -1.7684e-03,  2.0972e-02, -1.0075e-02, -5.3096e-03,\n",
       "         -2.7253e-02, -1.4553e-02, -1.5262e-02,  5.6046e-03, -2.0604e-04,\n",
       "          2.8353e-02,  1.2639e-02, -6.9800e-03, -9.2144e-03, -1.1627e-02,\n",
       "          3.5821e-02,  3.8233e-03,  1.2849e-03,  1.4158e-02, -6.0585e-04,\n",
       "         -1.2013e-02, -2.0469e-02,  3.3075e-03,  7.4735e-03,  8.5465e-03,\n",
       "         -3.4187e-03,  1.6289e-03, -2.3213e-02, -8.7865e-05, -1.7768e-03,\n",
       "          1.8836e-03, -4.6658e-03, -3.2961e-03,  1.2913e-02,  1.1891e-02,\n",
       "         -6.2637e-03,  7.4677e-03,  1.0212e-02, -3.9914e-02, -1.2341e-02,\n",
       "          8.2060e-04,  2.1665e-02, -2.4029e-03,  1.2104e-02, -1.4373e-02,\n",
       "         -1.2321e-02,  2.2519e-02, -3.2715e-03, -3.7846e-03,  1.6461e-03,\n",
       "          1.2510e-02, -5.4469e-03,  2.5265e-02,  8.2664e-03],\n",
       "        [-3.4701e-03, -1.3843e-02, -1.8230e-02, -7.1125e-03, -2.7918e-03,\n",
       "         -1.0429e-02, -9.4427e-03,  6.0647e-03,  2.8341e-03,  9.9618e-03,\n",
       "          1.5083e-02, -2.3369e-03,  1.2598e-02, -5.9875e-03, -1.8374e-03,\n",
       "         -1.5939e-02, -7.3747e-03, -1.0701e-02,  2.4184e-03,  2.1152e-03,\n",
       "          1.9363e-02,  5.8878e-03, -3.1291e-03, -1.9051e-03, -6.7215e-03,\n",
       "          2.1990e-02,  1.8956e-03,  3.8703e-04,  8.8571e-03, -1.7714e-03,\n",
       "         -1.0255e-02, -1.2295e-02,  2.0909e-03,  2.4929e-03,  4.6615e-03,\n",
       "         -7.2949e-05, -2.8788e-04, -1.1100e-02, -1.8934e-03, -2.0711e-03,\n",
       "          1.5584e-03, -1.9597e-03, -1.9635e-03,  6.6482e-03,  5.9986e-03,\n",
       "         -4.7594e-03,  5.2310e-03,  6.3307e-03, -2.3019e-02, -6.7511e-03,\n",
       "          2.1707e-04,  1.3201e-02,  1.6148e-03,  5.8780e-03, -8.4206e-03,\n",
       "         -6.9588e-03,  1.3147e-02, -1.1447e-04, -3.8290e-03,  2.0249e-03,\n",
       "          7.1681e-03, -2.0241e-03,  1.6038e-02,  1.6143e-03],\n",
       "        [-1.1487e-03, -8.9281e-03, -1.0827e-02, -4.0306e-03, -1.8363e-03,\n",
       "         -6.0115e-03, -6.6463e-03,  4.1495e-03,  2.7045e-03,  5.5980e-03,\n",
       "          8.8165e-03, -2.0322e-03,  7.1204e-03, -3.5687e-03, -7.3428e-04,\n",
       "         -9.4430e-03, -3.8097e-03, -7.0537e-03,  9.0341e-04,  2.5156e-03,\n",
       "          1.2948e-02,  2.5474e-03, -1.2494e-03,  1.1440e-03, -4.0115e-03,\n",
       "          1.3474e-02,  1.0228e-03, -5.0638e-05,  5.2443e-03, -1.8291e-03,\n",
       "         -7.9490e-03, -6.9729e-03,  1.2189e-03,  4.9464e-04,  2.4675e-03,\n",
       "          1.1344e-03, -8.5776e-04, -5.0009e-03, -1.8986e-03, -1.4186e-03,\n",
       "          1.1527e-03, -7.9552e-04, -9.9444e-04,  3.1642e-03,  2.6426e-03,\n",
       "         -3.3843e-03,  4.0083e-03,  4.3591e-03, -1.3146e-02, -3.6937e-03,\n",
       "          2.1306e-04,  8.0265e-03,  2.6468e-03,  2.2916e-03, -5.0005e-03,\n",
       "         -3.9651e-03,  7.5071e-03,  1.0035e-03, -2.9720e-03,  1.5359e-03,\n",
       "          4.0656e-03, -5.8796e-04,  9.7573e-03, -7.3979e-04]],\n",
       "       grad_fn=<SelectBackward0>)"
      ]
     },
     "execution_count": 424,
     "metadata": {},
     "output_type": "execute_result"
    }
   ],
   "source": [
    "# Check that we get same result for output after rebatching\n",
    "\n",
    "(out1 - out2)[1]"
   ]
  },
  {
   "cell_type": "code",
   "execution_count": null,
   "id": "9df76fa5-8430-4f6f-926d-c0f22c6bad41",
   "metadata": {},
   "outputs": [],
   "source": [
    "# Note that we do NOT get the same result for the hidden state output since padding adds\n",
    "#  steps of zeros which cause more evolution in rnn_hxs output\n",
    "(hx1 - hx2)[1]"
   ]
  },
  {
   "cell_type": "markdown",
   "id": "73a0b482-6722-4bde-be3d-0f7da59e2602",
   "metadata": {
    "jp-MarkdownHeadingCollapsed": true,
    "tags": []
   },
   "source": [
    "# Testing policy\n",
    "\n",
    "Actually this Q learning agent seems to learn much better direct navigation rather than the corner testing of previous agents"
   ]
  },
  {
   "cell_type": "code",
   "execution_count": 26,
   "id": "62502322-10cc-474e-b3d5-5f2cd70d16e0",
   "metadata": {},
   "outputs": [],
   "source": [
    "# Assume recurrent policy\n",
    "\n",
    "env_kwargs = {\n",
    "    'num_objects': 0, 'rew_structure': 'goal',\n",
    "    'task_structure': 2, 'wall_colors': 4,\n",
    "    'num_rays': 12, 'fov': 1\n",
    "}\n",
    "env = gym.make('NavEnv-v0', **env_kwargs)\n",
    "qnet = torch.load('../saved_models/mwm_base1_t0.pt')\n",
    "agent = R2D2Agent(q_network=qnet, deterministic=False, env=env,\n",
    "                 start_e=0.05, end_e=0.05)\n",
    "\n",
    "def evaluate_policy(agent, num_episodes=10):\n",
    "    \n",
    "    ep_lengths = []\n",
    "    ep_returns = []\n",
    "    \n",
    "    ep_l = 0\n",
    "    ep_r = 0\n",
    "    for t in range(num_episodes):\n",
    "        obs = agent.env.reset()\n",
    "        rnn_hxs = agent.q_network.get_rnn_hxs()\n",
    "        while True:\n",
    "            action, q_values, next_rnn_hxs = agent.act(obs, rnn_hxs)\n",
    "            next_obs, reward, done, info = agent.env.step(action.item())\n",
    "            \n",
    "            ep_l += 1\n",
    "            ep_r += reward\n",
    "            if done:\n",
    "                next_obs = agent.env.reset()\n",
    "                next_rnn_hxs = agent.q_network.get_rnn_hxs()\n",
    "                \n",
    "                ep_lengths.append(ep_l)\n",
    "                ep_returns.append(ep_r)\n",
    "                ep_l = 0\n",
    "                ep_r = 0\n",
    "                break\n",
    "                \n",
    "            obs = next_obs\n",
    "            rnn_hxs = next_rnn_hxs\n",
    "    return ep_lengths, ep_returns"
   ]
  },
  {
   "cell_type": "code",
   "execution_count": 80,
   "id": "6dbca203-100e-4233-8c00-74cd7956077f",
   "metadata": {},
   "outputs": [],
   "source": [
    "def evaluate_agent(agent, data_callback=None,\n",
    "             num_episodes=10, verbose=0, with_activations=False):\n",
    "    '''\n",
    "    data_callback: a function that should be called at each step to pull information\n",
    "        from the environment if needed. The function will take arguments\n",
    "            def callback(actor_critic, vec_envs, recurrent_hidden_states, data):\n",
    "        actor_critic: the actor_critic network\n",
    "        vec_envs: the vec envs (can call for example vec_envs.get_attr('objects') to pull data)\n",
    "        recurrent_hidden_states: these are given in all data, but may want to use in computation\n",
    "        obs: observation this step (after taking action) - \n",
    "            note that initial observation is never seen by data_callback\n",
    "            also note that this observation will have the mean normalized\n",
    "            so may instead want to call vec_envs.get_method('get_observation')\n",
    "        action: actions this step\n",
    "        reward: reward this step\n",
    "        data: a data dictionary that will continuously be passed to be updated each step\n",
    "            it will start as an empty dicionary, so keys must be initialized\n",
    "        see below at example_data_callback in this file for an example\n",
    "    '''\n",
    "    ep_rewards = []\n",
    "    \n",
    "    ep_r = 0\n",
    "\n",
    "    all_obs = []\n",
    "    all_actions = []\n",
    "    all_rewards = []\n",
    "    all_hidden_states = []\n",
    "    all_dones = []\n",
    "    all_activations = []\n",
    "    data = {}\n",
    "\n",
    "    obs = agent.env.reset()\n",
    "    rnn_hxs = agent.q_network.get_rnn_hxs()\n",
    "\n",
    "    step = 0\n",
    "    for i in range(num_episodes):\n",
    "        while True:\n",
    "            all_hidden_states.append(rnn_hxs)\n",
    "            \n",
    "            with torch.no_grad():\n",
    "                action, q_values, rnn_hxs = agent.act(obs, rnn_hxs)\n",
    "\n",
    "            obs, reward, done, infos = agent.env.step(action)\n",
    "\n",
    "            all_obs.append(obs)\n",
    "            all_actions.append(action)\n",
    "            all_rewards.append(reward)\n",
    "            all_dones.append(done)\n",
    "\n",
    "            if with_activations:\n",
    "                all_activations.append(outputs['activations'])\n",
    "\n",
    "            if data_callback is not None:\n",
    "                data = data_callback(agent, env, rnn_hxs,\n",
    "                    obs, action, reward, done, data)\n",
    "            else:\n",
    "                data = {}\n",
    "                \n",
    "            if done:\n",
    "                obs = agent.env.reset()\n",
    "                rnn_hxs = agent.q_network.get_rnn_hxs()\n",
    "                ep_rewards.append(ep_r)\n",
    "                ep_r = 0\n",
    "                break\n",
    "\n",
    "            step += 1\n",
    "\n",
    "    if verbose >= 1:\n",
    "        print(\" Evaluation using {} episodes: mean reward {:.5f}\\n\".format(\n",
    "            len(ep_rewards), np.mean(ep_rewards)))\n",
    "\n",
    "    return {\n",
    "        'obs': all_obs,\n",
    "        'actions': all_actions,\n",
    "        'rewards': all_rewards,\n",
    "        'hidden_states': all_hidden_states,\n",
    "        'dones': all_dones,\n",
    "        'data': data,\n",
    "        'activations': all_activations,\n",
    "    }\n",
    "\n",
    "\n",
    "def nav_data_callback(actor_critic, vec_envs, recurrent_hidden_states,\n",
    "                                  obs, action, reward, done, data):\n",
    "    if data == {}:\n",
    "        data['pos'] = []\n",
    "        data['angle'] = []\n",
    "    \n",
    "    # pos = [c.pos.copy() for c in vec_envs.get_attr('character')]\n",
    "    # angle = [c.angle for c in vec_envs.get_attr('character')]\n",
    "    pos = env.character.pos.copy()\n",
    "    angle = env.character.angle\n",
    "    data['pos'].append(pos)\n",
    "    data['angle'].append(angle)\n",
    "    \n",
    "    return data"
   ]
  },
  {
   "cell_type": "code",
   "execution_count": 81,
   "id": "2ea2196c-71ee-42f0-9375-7ea08d2a39a9",
   "metadata": {},
   "outputs": [],
   "source": [
    "res = evaluate_agent(agent, nav_data_callback)"
   ]
  },
  {
   "cell_type": "code",
   "execution_count": 94,
   "id": "0e422f5d-51f6-4130-a140-4887d0af5cb4",
   "metadata": {},
   "outputs": [],
   "source": [
    "def split_by_ep(targets, dones):\n",
    "    '''\n",
    "    Given a collection of res data from an evalu() call, split up\n",
    "    the data by episodes using res['dones']. Uses the True values from\n",
    "    dones list to tell when a \n",
    "    \n",
    "    For example, \n",
    "    res = evalu(...)\n",
    "    ep_pos = split_by_ep(res['data']['pos'], res['dones'])\n",
    "    '''\n",
    "    done_idxs = np.where(np.vstack(dones))[0]\n",
    "    split_targets = []\n",
    "    for i in range(len(done_idxs)):\n",
    "        if i == 0:\n",
    "            done_targets = targets[:done_idxs[i]]\n",
    "        else:\n",
    "            done_targets = targets[done_idxs[i-1]:done_idxs[i]]\n",
    "\n",
    "        split_targets.append(done_targets)\n",
    "    return split_targets\n",
    "\n",
    "def draw_trajectory(pos=None, angle=None, fig=None, ax=None):\n",
    "    '''Convert positions and angles into an image trajectory\n",
    "    Adds a few extra details like where the start and goal reached locations are\n",
    "    as well as adding increasing redness as the agent spends time in one spot rotating\n",
    "    without forward movement'''\n",
    "    if fig == None and ax == None:\n",
    "        fig, ax = pplt.subplots()\n",
    "    stopped = 0\n",
    "    last_p = np.zeros(2)\n",
    "    for i, (p, a) in enumerate(zip(pos, angle)):\n",
    "        redness = max(0, 1-stopped*0.1)\n",
    "        color = [1, redness, redness, 1]\n",
    "        draw_character(p, a, ax=ax, color=color)\n",
    "\n",
    "        if (p == last_p).all():\n",
    "            stopped += 1\n",
    "        else:\n",
    "            stopped = 0\n",
    "        last_p = p\n",
    "\n",
    "    #redraw first and last steps\n",
    "    draw_character(pos[0], angle[0], color=[0, 1, 0, 1], size=18, ax=ax)\n",
    "    if len(pos) < 202:\n",
    "        draw_character(pos[-1], angle[-1], color=[0, 1, 1, 1], size=18, ax=ax)\n",
    "    ax.format(xlim=[0, 300], ylim=[0, 300])\n",
    "    \n",
    "    return fig, ax\n",
    "\n",
    "\n",
    "def draw_character(pos, angle, size=10, ax=None, color=None):\n",
    "    '''\n",
    "    Given a position and angle, draw character to the given axis\n",
    "    '''\n",
    "    angle1 = angle - 0.3\n",
    "    angle2 = angle + 0.3\n",
    "    point1 = [pos[0], pos[1]]\n",
    "    point2 = [pos[0] - np.cos(angle1)*size, pos[1] - np.sin(angle1)*size]\n",
    "    point3 = [pos[0] - np.cos(angle2)*size, pos[1] - np.sin(angle2)*size]\n",
    "\n",
    "    if color is None:\n",
    "        color = np.array([0.9, 0.9, 0])\n",
    "\n",
    "    poly = plt.Polygon([point1, point2, point3], fc=color)\n",
    "    if ax is None:\n",
    "        plt.gca().add_patch(poly)\n",
    "    else:\n",
    "        ax.add_patch(poly)\n",
    "        \n",
    "        \n",
    "def set_trajectory_plot_style(reset=False):\n",
    "    '''Set up rc params for proplot so that we get nice images to feed into\n",
    "    the visual system for ananlysis\n",
    "    \n",
    "    If reset == True, revert to default rcprams for normal plotting'''\n",
    "    if reset:\n",
    "        pplt.rc.reset()\n",
    "    else:\n",
    "        pplt.rc.update({\n",
    "            'axes.spines.bottom': False,\n",
    "            'axes.spines.top': False,\n",
    "            'axes.spines.left': False,\n",
    "            'axes.spines.right': False,\n",
    "            'axes.facecolor': 'black',\n",
    "            'axes.grid': False\n",
    "        })\n",
    "    "
   ]
  },
  {
   "cell_type": "code",
   "execution_count": 87,
   "id": "660824bb-9e33-4f13-ab58-e11c33554bd3",
   "metadata": {},
   "outputs": [],
   "source": [
    "set_trajectory_plot_style()"
   ]
  },
  {
   "cell_type": "code",
   "execution_count": 82,
   "id": "80307784-2b09-4ad0-bdb3-22d15fc869d3",
   "metadata": {},
   "outputs": [],
   "source": [
    "ep_dones = split_by_ep(res['dones'], res['dones'])\n",
    "ep_pos = split_by_ep(res['data']['pos'], res['dones'])\n",
    "ep_angle = split_by_ep(res['data']['angle'], res['dones'])"
   ]
  },
  {
   "cell_type": "code",
   "execution_count": 47,
   "id": "6f1934e6-024c-4e58-aa9e-42b7b9068b98",
   "metadata": {},
   "outputs": [
    {
     "data": {
      "text/plain": [
       "[75, 9, 49, 202, 74, 187, 115, 34, 202, 94]"
      ]
     },
     "execution_count": 47,
     "metadata": {},
     "output_type": "execute_result"
    }
   ],
   "source": [
    "[len(d) for d in ep_dones]"
   ]
  },
  {
   "cell_type": "code",
   "execution_count": 52,
   "id": "19e2a01c-247b-4ae5-962c-718295f86d6d",
   "metadata": {},
   "outputs": [],
   "source": [
    "import matplotlib.pyplot as plt\n",
    "import proplot as pplt"
   ]
  },
  {
   "cell_type": "code",
   "execution_count": 102,
   "id": "d4be85b1-e3b7-4b6c-9331-aaea7cccdc20",
   "metadata": {},
   "outputs": [],
   "source": [
    "i = 0"
   ]
  },
  {
   "cell_type": "code",
   "execution_count": 103,
   "id": "99fccdba-8a31-4ba1-a5be-74b415eb68c1",
   "metadata": {},
   "outputs": [
    {
     "data": {
      "text/plain": [
       "(Figure(nrows=1, ncols=1, refwidth=2.5),\n",
       " SubplotGrid(nrows=1, ncols=1, length=1))"
      ]
     },
     "execution_count": 103,
     "metadata": {},
     "output_type": "execute_result"
    },
    {
     "data": {
      "image/png": "[encoded data removed]",
      "text/plain": [
       "Figure(nrows=1, ncols=1, refwidth=2.5)"
      ]
     },
     "metadata": {
      "image/png": {
       "height": 262,
       "width": 262
      }
     },
     "output_type": "display_data"
    }
   ],
   "source": [
    "\n",
    "i += 1\n",
    "draw_trajectory(ep_pos[i], ep_angle[i])"
   ]
  },
  {
   "cell_type": "code",
   "execution_count": 100,
   "id": "7d096de3-e8e7-4fbd-8d63-5326a5e5060b",
   "metadata": {},
   "outputs": [],
   "source": [
    "pos = np.vstack(res['data']['pos'])"
   ]
  },
  {
   "cell_type": "code",
   "execution_count": 101,
   "id": "df77f9b4-a3bd-42b1-a795-a6e22bef0159",
   "metadata": {},
   "outputs": [
    {
     "data": {
      "text/plain": [
       "<matplotlib.collections.PathCollection at 0x28e4ac1e640>"
      ]
     },
     "execution_count": 101,
     "metadata": {},
     "output_type": "execute_result"
    },
    {
     "data": {
      "image/png": "[encoded data removed]",
      "text/plain": [
       "<Figure size 400x400 with 1 Axes>"
      ]
     },
     "metadata": {
      "image/png": {
       "height": 400,
       "width": 400
      }
     },
     "output_type": "display_data"
    }
   ],
   "source": [
    "plt.scatter(pos.T[0], pos.T[1])"
   ]
  },
  {
   "cell_type": "markdown",
   "id": "bb3485b3-7c25-453b-a3ee-39012ade010e",
   "metadata": {},
   "source": [
    "# Testing speed bottlenecks\n",
    "\n",
    "Since we know that previous PPO could hit ~2000-3000SPS, but now we get closer to 300-600, let's double check to see where the implementation is bottlenecked"
   ]
  },
  {
   "cell_type": "code",
   "execution_count": 3,
   "id": "8606ebdf-4982-4f8e-b745-c40a75139ace",
   "metadata": {},
   "outputs": [],
   "source": [
    "env_kwargs = {\n",
    "        'num_objects': 0, 'rew_structure': 'goal',\n",
    "        'task_structure': 2, 'wall_colors': 4,\n",
    "        'num_rays': 12, 'fov': 1\n",
    "}\n",
    "\n",
    "agent = R2D2Agent(env_id='NavEnv-v0', env_kwargs=env_kwargs,\n",
    "                 verbose=0, start_e=0, buffer_size=80000)"
   ]
  },
  {
   "cell_type": "code",
   "execution_count": 14,
   "id": "73cd28c9-0c8f-488c-964f-a3c5a1251907",
   "metadata": {},
   "outputs": [
    {
     "name": "stdout",
     "output_type": "stream",
     "text": [
      "459 ms ± 14.9 ms per loop (mean ± std. dev. of 7 runs, 1 loop each)\n"
     ]
    }
   ],
   "source": [
    "%%timeit\n",
    "\n",
    "\n",
    "'''Collection: with epsilon=0, 500 steps of collection \n",
    "already takes about 500ms, taking about 50% of our SPS budget. \n",
    "Might need to be vectorizing/parallelizing'''\n",
    "\n",
    "agent.collect(500)"
   ]
  },
  {
   "cell_type": "code",
   "execution_count": 101,
   "id": "760fe10d-b484-45e1-b6f9-b00f2ead32c4",
   "metadata": {},
   "outputs": [
    {
     "name": "stdout",
     "output_type": "stream",
     "text": [
      "154 ms ± 14 ms per loop (mean ± std. dev. of 7 runs, 1 loop each)\n"
     ]
    }
   ],
   "source": [
    "%%timeit\n",
    "\n",
    "'''Simulation: takes about 20% of the acting time'''\n",
    "\n",
    "env = agent.env\n",
    "\n",
    "env.reset()\n",
    "for i in range(640):\n",
    "    obs, r, done, info = env.step(env.action_space.sample())\n",
    "    if done:\n",
    "        env.reset()"
   ]
  },
  {
   "cell_type": "code",
   "execution_count": 124,
   "id": "c9a781fa-fa88-434d-b0d5-daf5840fba5a",
   "metadata": {},
   "outputs": [],
   "source": [
    "agent.collect(80000)"
   ]
  },
  {
   "cell_type": "code",
   "execution_count": 121,
   "id": "cf2634cd-f799-4568-b041-2205a8161729",
   "metadata": {},
   "outputs": [
    {
     "name": "stdout",
     "output_type": "stream",
     "text": [
      "582 µs ± 46.2 µs per loop (mean ± std. dev. of 7 runs, 1,000 loops each)\n"
     ]
    }
   ],
   "source": [
    "%%timeit\n",
    "sample = agent.rb.sample(64//4)"
   ]
  },
  {
   "cell_type": "code",
   "execution_count": 122,
   "id": "3b04f8d2-1b16-4d42-a2e0-9abbb4869b38",
   "metadata": {},
   "outputs": [
    {
     "name": "stdout",
     "output_type": "stream",
     "text": [
      "620 µs ± 36.1 µs per loop (mean ± std. dev. of 7 runs, 1,000 loops each)\n"
     ]
    }
   ],
   "source": [
    "%%timeit\n",
    "sample = agent.rb.sample(256//4)"
   ]
  },
  {
   "cell_type": "code",
   "execution_count": 125,
   "id": "3c6b23dc-f622-47b8-8b0d-60a81f63770a",
   "metadata": {},
   "outputs": [
    {
     "name": "stdout",
     "output_type": "stream",
     "text": [
      "2.32 ms ± 124 µs per loop (mean ± std. dev. of 7 runs, 100 loops each)\n"
     ]
    }
   ],
   "source": [
    "%%timeit\n",
    "sample = agent.rb.sample(64//4)"
   ]
  },
  {
   "cell_type": "code",
   "execution_count": 126,
   "id": "ac427dfc-ca46-4ddd-93f8-a237a325560c",
   "metadata": {},
   "outputs": [
    {
     "name": "stdout",
     "output_type": "stream",
     "text": [
      "2.32 ms ± 178 µs per loop (mean ± std. dev. of 7 runs, 100 loops each)\n"
     ]
    }
   ],
   "source": [
    "%%timeit\n",
    "sample = agent.rb.sample(256//4)"
   ]
  },
  {
   "cell_type": "markdown",
   "id": "7fbd4f43-8fab-4bf5-bc85-4e9a8c25a26d",
   "metadata": {},
   "source": [
    "# Batched and vectorized envs"
   ]
  },
  {
   "cell_type": "code",
   "execution_count": 59,
   "id": "c9c4ece2-271a-47e7-8603-e3b2014dead5",
   "metadata": {},
   "outputs": [],
   "source": [
    "env_kwargs = {\n",
    "        'num_objects': 0, 'rew_structure': 'goal',\n",
    "        'task_structure': 2, 'wall_colors': 4,\n",
    "        'num_rays': 12, 'fov': 1\n",
    "}\n",
    "\n",
    "agent = R2D2Agent(env_id='NavEnv-v0', env_kwargs=env_kwargs,\n",
    "                 verbose=0, start_e=0.5, buffer_size=80000, n_envs=1)"
   ]
  },
  {
   "cell_type": "code",
   "execution_count": 67,
   "id": "c9454bb2-8398-461e-acaa-071836454c00",
   "metadata": {},
   "outputs": [],
   "source": [
    "rnn_hxs = agent.get_rnn_hxs()\n",
    "obs = agent.env.reset()\n",
    "obs = torch.tensor(obs).unsqueeze(1)\n",
    "\n",
    "action, q, next_rnn_hxs = agent.act(obs, rnn_hxs)\n",
    "next_obs, rew, done, info = agent.env.step(action)\n",
    "masks = torch.FloatTensor(\n",
    "    [[0.0] if done_ else [1.0] for done_ in done])\n"
   ]
  },
  {
   "cell_type": "code",
   "execution_count": 128,
   "id": "c6814f24-0b05-4aa0-aee3-64de7292d8c2",
   "metadata": {},
   "outputs": [],
   "source": [
    "agent.collect(2000)"
   ]
  },
  {
   "cell_type": "code",
   "execution_count": 5,
   "id": "aceee2ad-3d09-4b81-a3c7-83aa1df370d5",
   "metadata": {},
   "outputs": [],
   "source": [
    "agent.update()"
   ]
  },
  {
   "cell_type": "code",
   "execution_count": 16,
   "id": "5564d352-5e40-4949-bd1c-1acef29db1d6",
   "metadata": {},
   "outputs": [
    {
     "name": "stdout",
     "output_type": "stream",
     "text": [
      "12.8 ms ± 218 µs per loop (mean ± std. dev. of 7 runs, 100 loops each)\n"
     ]
    }
   ],
   "source": [
    "%%timeit\n",
    "agent.update()"
   ]
  },
  {
   "cell_type": "code",
   "execution_count": 122,
   "id": "fc2fdb22-f3fb-4e1d-8918-6f417592ee67",
   "metadata": {},
   "outputs": [],
   "source": [
    "env_kwargs = {\n",
    "        'num_objects': 0, 'rew_structure': 'goal',\n",
    "        'task_structure': 2, 'wall_colors': 4,\n",
    "        'num_rays': 12, 'fov': 1\n",
    "}\n",
    "\n",
    "agent = R2D2Agent(env_id='NavEnv-v0', env_kwargs=env_kwargs,\n",
    "                 verbose=0, start_e=0.5, buffer_size=80000, n_envs=1)\n",
    "\n",
    "action, q, next_rnn_hxs = agent.act(agent.obs, agent.rnn_hxs, masks=agent.masks)\n",
    "next_obs, rew, done, info = agent.env.step(action)\n",
    "agent.masks = torch.FloatTensor(\n",
    "    [[0.0] if done_ else [1.0] for done_ in done])\n",
    "\n",
    "agent.obs = next_obs\n",
    "agent.rnn_hxs = next_rnn_hxs\n"
   ]
  },
  {
   "cell_type": "code",
   "execution_count": 52,
   "id": "3d3e8a95-77cf-407d-b984-4c9b8bfceddd",
   "metadata": {},
   "outputs": [],
   "source": [
    "sample = agent.rb.sample(agent.batch_size//agent.sequence_length)\n",
    "states = sample['observations']\n",
    "next_states = sample['next_observations']\n",
    "hidden_states = sample['hidden_states']\n",
    "next_hidden_states = sample['next_hidden_states']\n",
    "actions = sample['actions']\n",
    "rewards = sample['rewards']\n",
    "dones = sample['dones']\n",
    "next_dones = sample['next_dones']\n",
    "\n",
    "with torch.no_grad():\n",
    "    target_q, _, _ = agent.target_network(next_states, next_hidden_states, next_dones)\n",
    "    target_max, _ = target_q.max(dim=2)\n",
    "    td_target = rewards + agent.gamma * target_max * (1 - dones)\n",
    "old_q, _, _ = agent.q_network(states, hidden_states, dones)\n",
    "old_val = old_q.gather(2, actions.long()).squeeze()"
   ]
  },
  {
   "cell_type": "code",
   "execution_count": 5,
   "id": "6df0b8d6-b53b-4b3b-98cc-e33f2bab4e0e",
   "metadata": {},
   "outputs": [],
   "source": [
    "envs = make_vec_envs('NavEnv-v0',  2, env_kwargs=env_kwargs)\n",
    "rb = SequenceReplayBuffer(10000, envs.observation_space, envs.action_space,\n",
    "                     64, 4, 2, 2)\n",
    "rnn_hxs2 = agent.q_network.get_rnn_hxs(2)"
   ]
  },
  {
   "cell_type": "code",
   "execution_count": 3,
   "id": "a43addd8-7596-45d3-9348-09df9ba84b17",
   "metadata": {},
   "outputs": [
    {
     "data": {
      "text/plain": [
       "R2D2Agent(\n",
       "  (q_network): RNNQNetwork(\n",
       "    (relu): ReLU()\n",
       "    (gru): ResettingGRUBatched(\n",
       "      (gru): GRU(24, 64, batch_first=True)\n",
       "    )\n",
       "    (fc0): Linear(in_features=64, out_features=64, bias=True)\n",
       "    (fc1): Linear(in_features=64, out_features=64, bias=True)\n",
       "    (fc2): Linear(in_features=64, out_features=4, bias=True)\n",
       "  )\n",
       "  (target_network): RNNQNetwork(\n",
       "    (relu): ReLU()\n",
       "    (gru): ResettingGRUBatched(\n",
       "      (gru): GRU(24, 64, batch_first=True)\n",
       "    )\n",
       "    (fc0): Linear(in_features=64, out_features=64, bias=True)\n",
       "    (fc1): Linear(in_features=64, out_features=64, bias=True)\n",
       "    (fc2): Linear(in_features=64, out_features=4, bias=True)\n",
       "  )\n",
       ")"
      ]
     },
     "execution_count": 3,
     "metadata": {},
     "output_type": "execute_result"
    }
   ],
   "source": [
    "'''Run steps manually'''\n",
    "\n",
    "obs = agent.env.reset()\n",
    "rnn_hxs = agent.q_network.get_rnn_hxs()\n",
    "for i in range(500):\n",
    "    action, q_values, next_rnn_hxs = agent.act(obs, rnn_hxs)\n",
    "    next_obs, reward, done, info = agent.env.step(action.item())\n",
    "    \n",
    "    if reward == 1:\n",
    "        break\n",
    "        \n",
    "    if done:\n",
    "        next_obs = agent.env.reset()\n",
    "        next_rnn_hxs = agent.q_network.get_rnn_hxs()\n",
    "    \n",
    "    obs = next_obs\n",
    "    rnn_hxs = next_rnn_hxs"
   ]
  },
  {
   "cell_type": "code",
   "execution_count": 51,
   "id": "89704bd3-d795-454f-8f9c-dd69a812b20d",
   "metadata": {},
   "outputs": [],
   "source": [
    "env_kwargs = {\n",
    "        'num_objects': 0, 'rew_structure': 'goal',\n",
    "        'task_structure': 2, 'wall_colors': 4,\n",
    "        'num_rays': 12, 'fov': 1\n",
    "}\n",
    "\n",
    "agent = R2D2Agent(env_id='NavEnv-v0', env_kwargs=env_kwargs,\n",
    "                 verbose=0, start_e=0.5, buffer_size=80000, n_envs=1)\n",
    "\n",
    "agent.train(1)"
   ]
  },
  {
   "cell_type": "code",
   "execution_count": null,
   "id": "9c88c89e-e616-4dd7-8612-ea9e4ec1dd83",
   "metadata": {},
   "outputs": [],
   "source": []
  },
  {
   "cell_type": "markdown",
   "id": "550443b4-589c-49d9-8438-9ab3aec9516c",
   "metadata": {},
   "source": [
    "# Testing ResettingGRUBatched\n",
    "\n",
    "Manual lines for debugging the forward call"
   ]
  },
  {
   "cell_type": "code",
   "execution_count": 50,
   "id": "873ca769-9425-48f6-baf8-802d5aa58bbc",
   "metadata": {},
   "outputs": [],
   "source": [
    "env_kwargs = {\n",
    "        'num_objects': 0, 'rew_structure': 'goal',\n",
    "        'task_structure': 2, 'wall_colors': 4,\n",
    "        'num_rays': 12, 'fov': 1\n",
    "}\n",
    "\n",
    "agent = R2D2Agent(env_id='NavEnv-v0', env_kwargs=env_kwargs,\n",
    "                 verbose=0, start_e=0.5, buffer_size=80000, n_envs=16)\n",
    "agent.collect(500)\n",
    "sample = agent.rb.sample(agent.batch_size//agent.sequence_length)\n",
    "states = sample['observations']\n",
    "next_states = sample['next_observations']\n",
    "hidden_states = sample['hidden_states']\n",
    "\n",
    "gru = agent.q_network.gru.gru\n"
   ]
  },
  {
   "cell_type": "code",
   "execution_count": 51,
   "id": "1fd6aa20-f0c6-4fe3-a118-8b8c3f07d7e5",
   "metadata": {},
   "outputs": [
    {
     "data": {
      "text/plain": [
       "64"
      ]
     },
     "execution_count": 51,
     "metadata": {},
     "output_type": "execute_result"
    }
   ],
   "source": [
    "agent.hidden_size"
   ]
  },
  {
   "cell_type": "code",
   "execution_count": 57,
   "id": "7e667866-70b3-44dd-b3e5-26c18e3a76f7",
   "metadata": {},
   "outputs": [
    {
     "data": {
      "text/plain": [
       "1"
      ]
     },
     "execution_count": 57,
     "metadata": {},
     "output_type": "execute_result"
    }
   ],
   "source": [
    "x.shape\n",
    "num_batches"
   ]
  },
  {
   "cell_type": "code",
   "execution_count": 58,
   "id": "19e0470c-23a9-4d6a-b3ea-165e657efc09",
   "metadata": {},
   "outputs": [],
   "source": [
    "'''\n",
    "For batched forward pass\n",
    "    x: (N, L, H_in)\n",
    "    hidden_state: (1, L, hidden_size)\n",
    "    dones: (N, L)\n",
    "\n",
    "For unbatched\n",
    "    x: (L, H_in)\n",
    "    hidden_state: (L, hidden_size)\n",
    "    dones: (L,)\n",
    "\n",
    "Note that in unbatched, we will actually turn it into a batch\n",
    "    hence we have a line of unsqueezes\n",
    "hidden_state has first dimension of 1 indicating 1 layer and not bi-directional\n",
    "\n",
    "Output: full_out (N, L, hidden_size), full_hx_out (1, N, hidden_size)\n",
    "    Note that full_hx_out is NOT GENERALLY the same as the rnn_hidden_state\n",
    "    you would expect from standard gru unit, since we sometimes pad the ending\n",
    "    More correct to generally just take the last step of full_out\n",
    "'''\n",
    "x = next_states\n",
    "hidden_state = next_hidden_states\n",
    "dones = next_dones\n",
    "masks = None\n",
    "\n",
    "\n",
    "if hidden_state.dim() == 2:\n",
    "    hidden_state = hidden_state.unsqueeze(0)\n",
    "    x = x.unsqueeze(0)\n",
    "    dones = dones.unsqueeze(0)\n",
    "\n",
    "num_batches = x.shape[0]\n",
    "\n",
    "extra_rows = int(dones.sum().item())\n",
    "\n",
    "#Generate a new padded x and rnn_hxs vector to batch forward pass\n",
    "padded_x = torch.zeros((num_batches + extra_rows, x.shape[1], x.shape[2]))\n",
    "padded_rnn_hxs = torch.zeros((hidden_state.shape[0], num_batches + extra_rows, hidden_state.shape[2]))\n",
    "\n",
    "batchable_rows = (dones == 0).all(dim=1)\n",
    "num_batchable_rows = batchable_rows.sum().item()\n",
    "individual_rows = (~batchable_rows).argwhere().reshape(-1)\n",
    "\n",
    "#First N rows will be taken from rows with no dones\n",
    "padded_x[:num_batchable_rows] = x[batchable_rows]\n",
    "padded_rnn_hxs[:, :num_batchable_rows, :] = hidden_state[:, batchable_rows, :]\n",
    "# padded_rnn_hxs[:num_batchable_rows] = hidden_state[batchable_rows]\n",
    "\n",
    "#Remaining rows will be filled out in order of rows with dones\n",
    "cur_row_idx = num_batchable_rows\n",
    "for i in individual_rows:\n",
    "    breakpoints = (dones[i] == 1).argwhere()\n",
    "    cur_idx = 0\n",
    "    rnn_hx = hidden_state[:, i, :]\n",
    "\n",
    "    for breakpoint in breakpoints:\n",
    "        if breakpoint == 0:\n",
    "            rnn_hx = agent.get_rnn_hxs()\n",
    "            continue\n",
    "        padded_x[cur_row_idx, :breakpoint-cur_idx, :] = x[i, cur_idx:breakpoint, :]\n",
    "        padded_rnn_hxs[:, cur_row_idx, :] = rnn_hx\n",
    "        # padded_rnn_hxs[cur_row_idx] = rnn_hx\n",
    "\n",
    "        rnn_hx = agent.get_rnn_hxs()\n",
    "        cur_idx = breakpoint\n",
    "        cur_row_idx += 1\n",
    "\n",
    "    if cur_idx < len(dones[i]):\n",
    "        padded_x[cur_row_idx, :len(dones[i])-cur_idx, :] = x[i, cur_idx:, :]\n",
    "        padded_rnn_hxs[:, cur_row_idx, :] = rnn_hx\n",
    "        # padded_rnn_hxs[cur_row_idx] = rnn_hx\n",
    "        cur_row_idx += 1\n",
    "\n",
    "#Perform forward pass on new batched\n",
    "output, output_hx = gru(padded_x, padded_rnn_hxs)\n",
    "\n",
    "#Fill out the expected output by reversing the whole process\n",
    "full_out = torch.zeros((x.shape[0], x.shape[1], agent.hidden_size))\n",
    "full_hx_out = torch.zeros((1, x.shape[0], agent.hidden_size))\n",
    "\n",
    "full_out[batchable_rows] = output[:num_batchable_rows]\n",
    "full_hx_out[:, batchable_rows, :] = output_hx[:, :num_batchable_rows, :]\n",
    "# full_hx_out[batchable_rows] = output_hx[:num_batchable_rows]\n",
    "\n",
    "cur_row_idx = num_batchable_rows\n",
    "for i in individual_rows:\n",
    "    breakpoints = (dones[i] == 1).argwhere()\n",
    "    cur_idx = 0\n",
    "\n",
    "    for breakpoint in breakpoints:\n",
    "        if breakpoint == 0:\n",
    "            continue\n",
    "        full_out[i, cur_idx:breakpoint, :] = output[cur_row_idx, :breakpoint-cur_idx, :]\n",
    "\n",
    "        cur_idx = breakpoint\n",
    "        cur_row_idx += 1\n",
    "\n",
    "    if cur_idx < len(dones[i]):\n",
    "        full_out[i, cur_idx:, :] = output[cur_row_idx, :len(dones[i])-cur_idx, :]\n",
    "\n",
    "        #Remember only the last rnn hidden state gets returned\n",
    "        full_hx_out[:, i, :] = output_hx[:, cur_row_idx, :]\n",
    "        # full_hx_out[i] = output_hx[cur_row_idx]\n",
    "        cur_row_idx += 1\n",
    "    else:\n",
    "        #If we did not have remaining steps to fill, then we must have had a done\n",
    "        # on the last step, so the final rnn_hx should be zeros to return\n",
    "        full_hx_out[:, i, :] = agent.get_rnn_hxs()\n",
    "        # full_hx_out[i] = self.get_rnn_hxs()\n",
    "\n"
   ]
  },
  {
   "cell_type": "markdown",
   "id": "e198bf89-e6b9-4afd-a7c1-ef9a18ba7a2c",
   "metadata": {},
   "source": [
    "# Test loaded model"
   ]
  },
  {
   "cell_type": "code",
   "execution_count": 39,
   "id": "47291a3c-7107-4f3d-9fe9-2a04de22888c",
   "metadata": {},
   "outputs": [],
   "source": [
    "q_network = torch.load('../saved_models/mwm_batch1024_t0.pt')\n",
    "agent = R2D2Agent(env_id='NavEnv-v0', env_kwargs=env_kwargs, q_network=q_network,\n",
    "                 verbose=2, start_e=0.05, n_envs=4)\n"
   ]
  },
  {
   "cell_type": "code",
   "execution_count": 40,
   "id": "d8103960-ac6a-4917-adad-45b7e069072c",
   "metadata": {},
   "outputs": [
    {
     "name": "stdout",
     "output_type": "stream",
     "text": [
      "Episode R: 1.0, L: 23.0\n",
      "Episode R: 1.0, L: 27.0\n",
      "Episode R: 1.0, L: 23.0\n",
      "Episode R: 1.0, L: 9.0\n",
      "Episode R: 1.0, L: 84.0\n",
      "Episode R: 1.0, L: 77.0\n",
      "Episode R: 1.0, L: 11.0\n",
      "Episode R: 1.0, L: 38.0\n",
      "Episode R: 0.0, L: 202.0\n",
      "Episode R: 1.0, L: 157.0\n",
      "Episode R: 1.0, L: 70.0\n",
      "Episode R: 0.0, L: 202.0\n",
      "Episode R: 1.0, L: 18.0\n",
      "Episode R: 1.0, L: 14.0\n",
      "Episode R: 1.0, L: 49.0\n",
      "Episode R: 0.0, L: 202.0\n",
      "Episode R: 1.0, L: 35.0\n",
      "Episode R: 0.0, L: 202.0\n",
      "Episode R: 1.0, L: 24.0\n",
      "Episode R: 1.0, L: 39.0\n",
      "Episode R: 1.0, L: 9.0\n",
      "Episode R: 0.0, L: 202.0\n",
      "Episode R: 1.0, L: 41.0\n",
      "Episode R: 1.0, L: 29.0\n",
      "Episode R: 0.0, L: 202.0\n",
      "Episode R: 0.0, L: 202.0\n",
      "Episode R: 1.0, L: 41.0\n",
      "Episode R: 1.0, L: 10.0\n",
      "Episode R: 1.0, L: 36.0\n",
      "Episode R: 1.0, L: 16.0\n",
      "Episode R: 0.0, L: 202.0\n",
      "Episode R: 0.0, L: 202.0\n",
      "Episode R: 1.0, L: 28.0\n",
      "Episode R: 0.0, L: 202.0\n",
      "Episode R: 1.0, L: 63.0\n",
      "Episode R: 0.0, L: 202.0\n",
      "Episode R: 0.0, L: 202.0\n",
      "Episode R: 1.0, L: 9.0\n",
      "Episode R: 1.0, L: 15.0\n",
      "Episode R: 0.0, L: 202.0\n",
      "Episode R: 0.0, L: 202.0\n",
      "Episode R: 1.0, L: 11.0\n",
      "Episode R: 0.0, L: 202.0\n",
      "Episode R: 0.0, L: 202.0\n",
      "Episode R: 0.0, L: 202.0\n",
      "Episode R: 0.0, L: 202.0\n",
      "Episode R: 1.0, L: 99.0\n",
      "Episode R: 0.0, L: 202.0\n",
      "Episode R: 1.0, L: 23.0\n",
      "Episode R: 1.0, L: 23.0\n",
      "Episode R: 1.0, L: 26.0\n",
      "Episode R: 1.0, L: 29.0\n",
      "Episode R: 1.0, L: 32.0\n",
      "Episode R: 0.0, L: 202.0\n",
      "Episode R: 1.0, L: 21.0\n",
      "Episode R: 1.0, L: 158.0\n",
      "Episode R: 1.0, L: 37.0\n",
      "Episode R: 0.0, L: 202.0\n",
      "Episode R: 1.0, L: 68.0\n",
      "Episode R: 1.0, L: 33.0\n",
      "Episode R: 1.0, L: 25.0\n",
      "Episode R: 1.0, L: 120.0\n",
      "Episode R: 0.0, L: 202.0\n",
      "Episode R: 1.0, L: 27.0\n",
      "Episode R: 1.0, L: 24.0\n",
      "Episode R: 1.0, L: 63.0\n",
      "Episode R: 0.0, L: 202.0\n",
      "Episode R: 0.0, L: 202.0\n",
      "Episode R: 1.0, L: 157.0\n",
      "Episode R: 1.0, L: 28.0\n",
      "Episode R: 0.0, L: 202.0\n",
      "Episode R: 1.0, L: 189.0\n",
      "Episode R: 1.0, L: 152.0\n",
      "Episode R: 1.0, L: 20.0\n",
      "Episode R: 1.0, L: 30.0\n",
      "Episode R: 0.0, L: 202.0\n",
      "Episode R: 1.0, L: 26.0\n",
      "Episode R: 1.0, L: 21.0\n",
      "Episode R: 1.0, L: 16.0\n",
      "Episode R: 1.0, L: 12.0\n",
      "Episode R: 1.0, L: 15.0\n"
     ]
    }
   ],
   "source": [
    "agent.collect(2000)"
   ]
  },
  {
   "cell_type": "markdown",
   "id": "3cbc574b-31fb-49b6-8c00-641b3beaa9ae",
   "metadata": {},
   "source": [
    "# PER testing"
   ]
  },
  {
   "cell_type": "code",
   "execution_count": 3,
   "id": "515541ef-304f-4bdf-ba44-e2ba63b86dba",
   "metadata": {},
   "outputs": [],
   "source": [
    "import sys\n",
    "sys.path.append('../r2d2_algo')\n",
    "from segment_tree import MinSegmentTree, SumSegmentTree"
   ]
  },
  {
   "cell_type": "code",
   "execution_count": 4,
   "id": "b4ee8c74-030d-4361-aa90-793923360689",
   "metadata": {},
   "outputs": [],
   "source": [
    "import numpy as np\n",
    "from gym import spaces\n",
    "import torch\n",
    "\n",
    "'''\n",
    "Class definnitions for replay buffer used in off-policy training\n",
    "'''\n",
    "\n",
    "class SequenceReplayBuffer:\n",
    "    def __init__(self, buffer_size, observation_space,\n",
    "                 action_space, hidden_state_size, sequence_length=1,\n",
    "                 burn_in_length=0, n_envs=1,\n",
    "                 alpha=0.6, beta=0.4, \n",
    "                 beta_increment=0.0001, max_priority=1.0):\n",
    "        '''\n",
    "        A replay buffer for R2D2 algorithm that when sampled, produces sequences of time steps.\n",
    "        Any index can be samples from, and burn_in_length steps before the index and sequence_length\n",
    "          steps after the index will be passed together\n",
    "        Note that there is one torch tensor per variable (observations, actions, rewards, dones, rnn_hxs)\n",
    "          and it will continuously be overwritten. Each tensor has length burn_in_length+buffer_size+sequence_length.\n",
    "          Think of it as having buffer_size, plus a chunk behind and ahead to handle burn in and sequence.\n",
    "          \n",
    "        self.pos keeps track of the next index to be written to. When it reaches the end (burn_in_length+buffer_size)\n",
    "          it loops back to the start (burn_in_length).\n",
    "          When it loops back, the burn_in_length chunk is copied from the end of the buffer.\n",
    "          As it covers the the first sequence_length worth of steps in the buffer, these get copied to the end\n",
    "            sequence_length chunk of the buffer\n",
    "        \n",
    "        buffer_size: number of steps to hold in buffer\n",
    "        sequence_length: number of steps in sequence\n",
    "        burn_in_length: number of steps before idx to be passed with sequence\n",
    "        \n",
    "        Priorities\n",
    "        '''\n",
    "        self.buffer_size = buffer_size\n",
    "        total_buffer_size = buffer_size + sequence_length + burn_in_length\n",
    "        self.n_envs = n_envs\n",
    "        self.sequence_length = sequence_length\n",
    "        self.burn_in_length = burn_in_length\n",
    "        self.alpha = alpha\n",
    "        self.beta = beta\n",
    "        self.beta_increment = beta_increment\n",
    "        self.max_priority = max_priority\n",
    "\n",
    "        self.td_priorities = np.zeros(total_buffer_size*n_envs) #holds individual td errors for priority calculations\n",
    "        # capacity must be positive and a power of 2.\n",
    "        tree_capacity = 1\n",
    "        while tree_capacity < total_buffer_size*n_envs:\n",
    "            tree_capacity *= 2\n",
    "        self.sum_tree = SumSegmentTree(tree_capacity) #trees hold actual priorities for faster updating and sampling\n",
    "        self.min_tree = MinSegmentTree(tree_capacity)\n",
    "        self.total_buffer_size = total_buffer_size\n",
    "        \n",
    "        action_shape = get_action_dim(action_space)\n",
    "        self.observations = np.zeros((total_buffer_size, n_envs, *observation_space.shape), dtype=observation_space.dtype)\n",
    "        self.actions = np.zeros((total_buffer_size, n_envs, action_shape), dtype=action_space.dtype)\n",
    "        self.rewards = np.zeros((total_buffer_size, n_envs), dtype=np.float32)\n",
    "        self.dones = np.zeros((total_buffer_size, n_envs), dtype=np.float32)\n",
    "        self.hidden_states = np.zeros((total_buffer_size, n_envs, hidden_state_size), dtype=np.float32)\n",
    "\n",
    "        \n",
    "        self.pos = burn_in_length\n",
    "        self.full = False\n",
    "        \n",
    "    def add(self, obs, next_obs, action, reward, done, hidden_state):\n",
    "        '''\n",
    "        Add to the buffer\n",
    "        '''\n",
    "        bil = self.burn_in_length\n",
    "        bs = self.buffer_size\n",
    "        sl = self.sequence_length\n",
    "\n",
    "        \n",
    "        self.observations[self.pos] = np.array(obs).copy()\n",
    "        self.observations[(self.pos + 1) % self.buffer_size] = np.array(next_obs).copy()\n",
    "        self.actions[self.pos] = np.array(action).copy()\n",
    "        self.rewards[self.pos] = np.array(reward).copy()\n",
    "        self.dones[self.pos] = np.array(done).copy()\n",
    "        self.hidden_states[self.pos] = np.array(hidden_state).copy()\n",
    "        \n",
    "        for i in range(self.n_envs):\n",
    "            self.td_priorities[self.pos + i*self.total_buffer_size] = self.max_priority\n",
    "            # 0 out probabilities for indexes that become invalid\n",
    "            self.sum_tree[self.pos + i*self.total_buffer_size] = 0.\n",
    "            self.sum_tree[self.pos + i*self.total_buffer_size + bil] = 0.\n",
    "        if (self.full and self.pos >= bil + sl) or (self.pos >= 2*bil + sl):\n",
    "            # only update steps in the past \n",
    "            #  there is a very slight chance this overwrites some priority that was set in \n",
    "            #  an update step but shouldn't make a huge difference\n",
    "            for i in range(self.n_envs):\n",
    "                self.sum_tree[self.pos + i*self.total_buffer_size - sl] = self.max_priority ** self.alpha\n",
    "                self.min_tree[self.pos + i*self.total_buffer_size - sl] = self.max_priority ** self.alpha\n",
    "        \n",
    "        \n",
    "        #Make copies to extra end portion\n",
    "        #Note that this makes it so that for a sequence_length period of time\n",
    "        #while we are filling up the end of the buffer, end steps cannot be used\n",
    "        if self.pos < bil + sl:\n",
    "            self.observations[self.pos+bs] = self.observations[self.pos].copy()\n",
    "            self.actions[self.pos+bs] = self.actions[self.pos].copy()\n",
    "            self.rewards[self.pos+bs] = self.rewards[self.pos].copy()\n",
    "            self.dones[self.pos+bs] = self.dones[self.pos].copy()\n",
    "            self.hidden_states[self.pos+bs] = self.hidden_states[self.pos].copy()\n",
    "            \n",
    "            # Copies of the end need to be made for td_priorities, but burn-in does not need\n",
    "            #  These priorities are not true priorities, just used to later calculate total td\n",
    "            #  for sequences. Hence they do not get copied to the sum_tree or min_tree\n",
    "            for i in range(self.n_envs):\n",
    "                self.td_priorities[self.pos+bs + i*self.total_buffer_size] = self.max_priority\n",
    "                # self.sum_tree[self.pos+bs + i*self.total_buffer_size] = self.max_priority ** self.alpha\n",
    "                # self.min_tree[self.pos+bs + i*self.total_buffer_size] = self.max_priority ** self.alpha\n",
    "\n",
    "            \n",
    "        self.pos += 1\n",
    "        if self.pos == self.buffer_size + self.burn_in_length:\n",
    "            self.pos = self.burn_in_length\n",
    "            self.full = True\n",
    "            \n",
    "            #Make copies to the burn_in portion\n",
    "            self.observations[:bil] = self.observations[bs:bs+bil].copy()\n",
    "            self.actions[:bil] = self.actions[bs:bs+bil].copy()\n",
    "            self.rewards[:bil] = self.rewards[bs:bs+bil].copy()\n",
    "            self.dones[:bil] = self.dones[bs:bs+bil].copy()\n",
    "            self.hidden_states[:bil] = self.hidden_states[bs:bs+bil].copy()\n",
    "\n",
    "            \n",
    "    def _sample_indices(self, num_sequences):\n",
    "        '''\n",
    "        Use sum tree to sample indices from priorities in segments\n",
    "        '''\n",
    "        t_indices = []\n",
    "        env_indices = []\n",
    "        p_total = self.sum_tree.sum()\n",
    "        segment = p_total / num_sequences\n",
    "        \n",
    "        # Check if stratified sampling will be valid based on number\n",
    "        #  of sequences asked for and fullness of storage        \n",
    "        for i in range(num_sequences):\n",
    "            found = False\n",
    "            sample_attempt_count = 0\n",
    "            valid_idxs = self.get_valid_idxs()\n",
    "            \n",
    "            a = segment * i\n",
    "            b = segment * (i + 1)\n",
    "            \n",
    "            while not found and sample_attempt_count < 50:\n",
    "                upperbound = random.uniform(a, b)\n",
    "                idx = self.sum_tree.retrieve(upperbound)\n",
    "                # print(idx)\n",
    "                t_index = idx % self.total_buffer_size\n",
    "                if valid_idxs[t_index]:\n",
    "                    found = True\n",
    "                sample_attempt_count += 1\n",
    "            \n",
    "            if sample_attempt_count >= 50:\n",
    "                # If this happens, either buffer is not being filled enough before\n",
    "                #  samples are being called for, or there is a bug\n",
    "                print('Warning: sample index failed to find valid index 50 times')\n",
    "                \n",
    "            t_indices.append(idx % self.total_buffer_size)\n",
    "            env_indices.append(idx // self.total_buffer_size)\n",
    "            \n",
    "        \n",
    "        return np.array(t_indices), np.array(env_indices)\n",
    "        \n",
    "        \n",
    "    def _calculate_weight(self, t_idx, env_idx):\n",
    "        '''Calculate the weight of the experience at idx.'''\n",
    "        # print(t_idx, env_idx)\n",
    "        \n",
    "        size = self.buffer_size if self.full else self.pos\n",
    "        size = size * self.n_envs\n",
    "        idx = t_idx + env_idx*self.total_buffer_size\n",
    "        \n",
    "        # get max weight\n",
    "        p_min = self.min_tree.min() / self.sum_tree.sum()\n",
    "        max_weight = (p_min * size) ** (-self.beta)\n",
    "        \n",
    "        # calculate weights\n",
    "        p_sample = self.sum_tree[idx] / self.sum_tree.sum()\n",
    "        weight = (p_sample * size) ** (-self.beta)\n",
    "        weight = weight / max_weight\n",
    "        \n",
    "        return weight\n",
    "        \n",
    "    def sample(self, num_sequences):\n",
    "        '''\n",
    "        Generate a sample of data to be trained with from the buffer\n",
    "        Note that we will actually generate a total training batch size of\n",
    "            num_sequences*self.sequence_length\n",
    "        and a total number of steps returned of\n",
    "            num_sequences*(self.sequence_length+self.burn_in_length).\n",
    "        It is up to the one calling sample to take into account how many\n",
    "        sequence samples it wants\n",
    "        '''\n",
    "        t_idxs, env_idxs = self._sample_indices(num_sequences)\n",
    "        start_idxs = t_idxs - self.burn_in_length\n",
    "        \n",
    "        window_idxs = np.arange(-self.burn_in_length, self.sequence_length)\n",
    "        window_length = len(window_idxs)\n",
    "        seq_idxs = t_idxs[:, np.newaxis] + window_idxs\n",
    "        seq_env_idxs = np.full((num_sequences, window_length), env_idxs[:, np.newaxis])\n",
    "        \n",
    "        # weights are [N, 1] tensor to be multiplied to each sequence batch generaated\n",
    "        weights = torch.Tensor([self._calculate_weight(t_idxs[i], env_idxs[i]) \\\n",
    "                                for i in range(num_sequences)]).reshape(-1, 1)\n",
    "\n",
    "        self.beta = min(1.0, self.beta + self.beta_increment)\n",
    "                \n",
    "        obs = torch.Tensor(self.observations[seq_idxs, seq_env_idxs])\n",
    "        next_obs = torch.Tensor(self.observations[seq_idxs+1, seq_env_idxs])\n",
    "        actions = torch.Tensor(self.actions[seq_idxs, seq_env_idxs])\n",
    "        rewards = torch.Tensor(self.rewards[seq_idxs, seq_env_idxs])\n",
    "        dones = torch.Tensor(self.dones[seq_idxs, seq_env_idxs])\n",
    "        next_dones = torch.Tensor(self.dones[seq_idxs+1, seq_env_idxs])\n",
    "        \n",
    "        hidden_states = torch.Tensor(self.hidden_states[start_idxs, env_idxs]).unsqueeze(0)\n",
    "        next_hidden_states = torch.Tensor(self.hidden_states[start_idxs+1, env_idxs]).unsqueeze(0)\n",
    "        \n",
    "        sample = {\n",
    "            'observations': obs,\n",
    "            'next_observations': next_obs,\n",
    "            'actions': actions,\n",
    "            'rewards': rewards,\n",
    "            'dones': dones,\n",
    "            'next_dones': next_dones,\n",
    "            'hidden_states': hidden_states,\n",
    "            'next_hidden_states': next_hidden_states,\n",
    "            'weights': weights,\n",
    "            't_idxs': t_idxs,\n",
    "            'seq_idxs': seq_idxs,\n",
    "            'env_idxs': env_idxs,\n",
    "        }\n",
    "        \n",
    "        return sample\n",
    "    \n",
    "    \n",
    "    def get_valid_idxs(self):\n",
    "        '''\n",
    "        Get array of valid indexes that can be sampled. Valid indexes are those with enough time steps\n",
    "        of data earlier to match burn_in_lenth and with enough time steps of data later to match\n",
    "        sequence_length.\n",
    "        \n",
    "        return a self.total_buffer_size (bil+buffer_size+seq_len) boolean array\n",
    "            that can be checked for truth by indexing directly\n",
    "        \n",
    "        Note: there is a slight bug here to be fixed in the future - there is a period where self.pos\n",
    "          loops back that the sequence_length post buffer is stale until overwritten fully \n",
    "        '''        \n",
    "        start = self.burn_in_length\n",
    "        end = self.burn_in_length + self.buffer_size\n",
    "        valid_idxs = np.full(self.total_buffer_size, False)\n",
    "        if self.full:\n",
    "            #Have enough terms ahead to be usable\n",
    "            valid_idxs[start:self.pos - self.sequence_length] = True\n",
    "            #Have enough terms behind to be usable\n",
    "            valid_idxs[self.pos + self.burn_in_length-1:end] = True\n",
    "        else:\n",
    "            #First burn_in_length steps are not valid because they haven't been copied\n",
    "            valid_idxs[start + self.burn_in_length:self.pos - self.sequence_length] = True\n",
    "        \n",
    "        return valid_idxs\n",
    "\n",
    "    def update_priorities(self, seq_idxs, env_idxs, priorities):\n",
    "        '''\n",
    "        seq_idxs: shape [N, seq_len]\n",
    "        env_idxs: shape [N,] for N batches\n",
    "        priorities: shape [N, seq_len]\n",
    "        '''\n",
    "        \n",
    "        valid_idxs = self.get_valid_idxs()\n",
    "        \n",
    "        n_batches = len(env_idxs)\n",
    "        for i in range(n_batches):\n",
    "            update_priority_idxs = seq_idxs[i] + env_idxs[i] * self.total_buffer_size\n",
    "            self.td_priorities[update_priority_idxs] = priorities[i]\n",
    "\n",
    "            for j in range(len(update_priority_idxs)):\n",
    "                start = seq_idxs[i, j] + env_idxs[i]*self.total_buffer_size\n",
    "\n",
    "                # check if the updated priority needs to be copied to buffer end segment\n",
    "                if seq_idxs[i, j] < self.burn_in_length + self.sequence_length:\n",
    "                    copy_idx = start + self.buffer_size\n",
    "                    self.td_priorities[copy_idx] = priorities[i, j]\n",
    "\n",
    "                if valid_idxs[seq_idxs[i, j]]:\n",
    "                    # next update priority based on future td_steps\n",
    "                    avg_td_priority = self.td_priorities[start:start+self.sequence_length].sum() / self.sequence_length\n",
    "                    self.sum_tree[start] = avg_td_priority ** self.alpha\n",
    "                    self.min_tree[start] = avg_td_priority ** self.alpha\n",
    "\n",
    "    def __len__(self):\n",
    "        return len(self.buffer)\n",
    "    \n",
    "    \n",
    "    \n",
    "    \n",
    "def get_action_dim(action_space):\n",
    "    \"\"\"\n",
    "    Get the dimension of the action space.\n",
    "    \"\"\"\n",
    "    if isinstance(action_space, spaces.Box):\n",
    "        return int(np.prod(action_space.shape))\n",
    "    elif isinstance(action_space, spaces.Discrete):\n",
    "        # Action is an int\n",
    "        return 1\n",
    "    elif isinstance(action_space, spaces.MultiDiscrete):\n",
    "        # Number of discrete actions\n",
    "        return int(len(action_space.nvec))\n",
    "    elif isinstance(action_space, spaces.MultiBinary):\n",
    "        # Number of binary actions\n",
    "        assert isinstance(\n",
    "            action_space.n, int\n",
    "        ), \"Multi-dimensional MultiBinary action space is not supported. You can flatten it instead.\"\n",
    "        return int(action_space.n)\n",
    "    else:\n",
    "        raise NotImplementedError(f\"{action_space} action space is not supported\")"
   ]
  },
  {
   "cell_type": "code",
   "execution_count": 5,
   "id": "380f5892-b876-4bcd-a696-90472a72f223",
   "metadata": {},
   "outputs": [],
   "source": [
    "class R2D2Agent(nn.Module):\n",
    "    def __init__(self, batch_size=128, burn_in_length=4, sequence_length=8,\n",
    "                 gamma=0.99, tau=1., learning_rate=2.5e-4, hidden_size=64, adam_epsilon=1e-8,\n",
    "                 device=torch.device('cpu'), buffer_size=10_000, \n",
    "                 learning_starts=10_000, train_frequency=10, target_network_frequency=500,\n",
    "                 total_timesteps=30_000, start_e=1., end_e=0.05, exploration_fraction=0.5, \n",
    "                 alpha=0.6, beta=0.4,\n",
    "                 seed=None, n_envs=1, dummy_env=True,\n",
    "                 env_id='CartPole-v1', env_kwargs={},\n",
    "                 verbose=0, q_network=None,  deterministic=False, env=None,\n",
    "                 writer=None, handle_target_network=True, use_per=True):\n",
    "        \"\"\"\n",
    "        R2D2 setup following same parameters as args.py has\n",
    "        verbose: Level of verbosity of print statements\n",
    "            1: print episode lengths and returns means every 2000 steps\n",
    "            2: print every episode length and return\n",
    "        q_network: Mostly for use of evaluation with a saved q_network\n",
    "          optionally pass in a q_network to use manually\n",
    "        deterministic: If True, manually set epsilon to 0 for every act() call\n",
    "        env: Also option to manually pass in an environment\n",
    "        n_envs: option to make multiple envs and have q_network generate multiple\n",
    "        dummy_env: whether to use DummyVecEnv as opposed to SubprocVecEnv for testing\n",
    "        writer: option to pass a tensorboard SummaryWriter object\n",
    "        handle_target_network: whether this class is in charge of updating the target network\n",
    "            params\n",
    "        \"\"\"\n",
    "        \n",
    "        super().__init__()\n",
    "        \n",
    "        self.learning_rate = learning_rate\n",
    "        self.buffer_size = buffer_size\n",
    "        self.total_timesteps = total_timesteps\n",
    "        self.learning_starts = learning_starts\n",
    "        self.train_frequency = train_frequency\n",
    "        self.gamma = gamma\n",
    "        self.tau = tau\n",
    "        self.use_per = use_per\n",
    "        self.adam_epsilon = adam_epsilon\n",
    "        self.target_network_frequency = target_network_frequency\n",
    "        self.handle_target_network = handle_target_network\n",
    "        self.device = device\n",
    "\n",
    "        self.start_e = start_e\n",
    "        self.end_e = end_e\n",
    "        self.exploration_fraction = exploration_fraction\n",
    "\n",
    "        self.burn_in_length = burn_in_length\n",
    "        self.sequence_length = sequence_length\n",
    "        self.batch_size = batch_size\n",
    "        self.n_envs = n_envs\n",
    "        self.hidden_size = hidden_size\n",
    "\n",
    "        self.seed = seed\n",
    "        self.deterministic = deterministic\n",
    "        if env == None:\n",
    "            # self.env = gym.make(env_id, **env_kwargs)\n",
    "            self.env = make_vec_envs(env_id, n_envs, env_kwargs=env_kwargs,\n",
    "                                     dummy=dummy_env)\n",
    "        else:\n",
    "            self.env = env\n",
    "        \n",
    "        \n",
    "        if q_network == None:\n",
    "            self.q_network = RNNQNetwork(self.env, hidden_size).to(device)\n",
    "        else:\n",
    "            self.q_network = q_network\n",
    "        self.target_network = RNNQNetwork(self.env, hidden_size).to(device)\n",
    "        self.target_network.load_state_dict(self.q_network.state_dict())\n",
    "        self.optimizer = optim.Adam(self.q_network.parameters(), lr=learning_rate, eps=adam_epsilon)\n",
    "        \n",
    "        self.rb = SequenceReplayBuffer(buffer_size, self.env.observation_space, self.env.action_space,\n",
    "                                hidden_size, sequence_length=sequence_length, \n",
    "                                burn_in_length=burn_in_length, n_envs=n_envs,\n",
    "                                alpha=alpha, beta=beta)\n",
    "\n",
    "        \n",
    "        self.global_step = 0\n",
    "        self.global_update_step = 0\n",
    "        self.rnn_hxs = self.q_network.get_rnn_hxs(self.n_envs)\n",
    "        self.obs = self.env.reset()\n",
    "        self.masks = torch.zeros((self.n_envs, 1), dtype=torch.float32)\n",
    "        \n",
    "        self.cur_episode_t = np.zeros(self.n_envs)\n",
    "        self.cur_episode_r = np.zeros(self.n_envs)\n",
    "        \n",
    "        self.verbose = verbose\n",
    "        self.writer = writer\n",
    "        self.start_time = time.time()\n",
    "        self.lengths = []\n",
    "        self.returns = []\n",
    "        \n",
    "    \n",
    "    def act(self, obs, rnn_hxs, use_epsilon=True, masks=None):\n",
    "        \"\"\"Compute q values and sample policy. If epsilon is True,\n",
    "        perform randomo action with probability based on current global timestep\n",
    "        \n",
    "        masks: tensor of shape (N, 1) which has entries 0.0 when done\n",
    "            and 1.0 when not done, indicating when rnn_hxs should be reset\n",
    "            Used for vectorized environments\n",
    "        \"\"\"            \n",
    "        epsilon = self.get_epsilon(use_epsilon)\n",
    "        \n",
    "        obs_tensor = torch.Tensor(obs).to(self.device)\n",
    "        if obs_tensor.dim() < rnn_hxs.dim():\n",
    "            # We have an observation from the environment but need to unsqueeze\n",
    "            #  to tell the GRU that this is an observation of time length 1\n",
    "            # If it is batched (dim == 2), then we add an axis in the middle\n",
    "            #  otherwise add it to the start\n",
    "            if obs_tensor.dim() == 1:\n",
    "                obs_tensor = obs_tensor.unsqueeze(0)\n",
    "                action_dim = 1\n",
    "            elif obs_tensor.dim() == 2:\n",
    "                obs_tensor = obs_tensor.unsqueeze(1)\n",
    "                action_dim = 2\n",
    "        \n",
    "        else:\n",
    "            if obs_tensor.dim() == 2:\n",
    "                action_dim = 1\n",
    "            elif obs_tensor.dim() == 3:\n",
    "                action_dim = 2  \n",
    "            \n",
    "        q_values, gru_out, next_rnn_hxs = self.q_network(obs_tensor, rnn_hxs, masks=masks)\n",
    "                \n",
    "        \n",
    "        # action = np.array([[q_values.argmax()]])\n",
    "        action = q_values.argmax(dim=action_dim).numpy()\n",
    "        if use_epsilon:\n",
    "            if len(action.shape) == 1:\n",
    "                for i in range(action.shape[0]):\n",
    "                    if random.random() < epsilon:\n",
    "                        action[i] = self.env.action_space.sample()\n",
    "            elif len(action.shape) == 2:\n",
    "                for i in range(action.shape[0]):\n",
    "                    for j in range(action.shape[1]):\n",
    "                        if random.random() < epsilon:\n",
    "                            action[i, j] = self.env.action_space.sample()\n",
    "            \n",
    "        if len(action.shape) == 1:\n",
    "            action = action[np.newaxis, :]\n",
    "\n",
    "        return action, q_values, next_rnn_hxs\n",
    "                \n",
    "        \n",
    "    def collect(self, num_steps):\n",
    "        \"\"\"Perform policy for n steps and add to memory buffer\n",
    "        \n",
    "        Note that we will add a total of num_steps * self.n_envs to the buffer\"\"\"\n",
    "        env = self.env\n",
    "        \n",
    "        for t in range(num_steps):\n",
    "            action, q_values, next_rnn_hxs = self.act(self.obs, self.rnn_hxs, masks=self.masks)\n",
    "            next_obs, reward, done, info = env.step(action)\n",
    "            \n",
    "            self.cur_episode_r += reward\n",
    "            self.cur_episode_t += 1\n",
    "            \n",
    "            # if done:\n",
    "            #     next_obs = env.reset()\n",
    "            #     next_rnn_hxs = self.q_network.get_rnn_hxs()\n",
    "                \n",
    "            #     if self.verbose >= 1:\n",
    "            #         print(f'Episode R: {self.cur_episode_r}, L: {self.cur_episode_t}')\n",
    "                \n",
    "            #     self.cur_episode_t = 0\n",
    "            #     self.cur_episode_r = 0\n",
    "\n",
    "            # Masks are used to reset hidden state when vectorized environmnts give dones\n",
    "            self.masks = torch.FloatTensor(\n",
    "                [[0.0] if done_ else [1.0] for done_ in done])\n",
    "\n",
    "            for i, done_ in enumerate(done):\n",
    "                if done_:\n",
    "                    if self.verbose == 2:\n",
    "                        print(f'Episode R: {self.cur_episode_r[i]}, L: {self.cur_episode_t[i]}')\n",
    "                        \n",
    "                    if self.writer is not None:\n",
    "                        self.writer.add_scalar('charts/episodic_return', self.cur_episode_r[i], self.global_step)\n",
    "                        self.writer.add_scalar('charts/episodic_length', self.cur_episode_t[i], self.global_step)\n",
    "                        self.writer.add_scalar('charts/epsilon', self.get_epsilon(), self.global_step)\n",
    "\n",
    "                    self.lengths.append(self.cur_episode_t[i])\n",
    "                    self.returns.append(self.cur_episode_r[i])\n",
    "                    \n",
    "                    self.cur_episode_r[i] = 0\n",
    "                    self.cur_episode_t[i] = 0\n",
    "                    \n",
    "\n",
    "            self.rb.add(self.obs, next_obs, action, reward, done, self.rnn_hxs.detach())\n",
    "            \n",
    "            self.obs = next_obs\n",
    "            self.rnn_hxs = next_rnn_hxs\n",
    "            \n",
    "            self.global_step += self.n_envs\n",
    "            \n",
    "            if self.handle_target_network and self.global_step > self.learning_starts and \\\n",
    "                self.global_step % self.target_network_frequency < self.n_envs:\n",
    "                for target_network_param, q_network_param in zip(self.target_network.parameters(), self.q_network.parameters()):\n",
    "                    target_network_param.data.copy_(\n",
    "                        self.tau * q_network_param.data + (1 - self.tau) * target_network_param.data\n",
    "                    )\n",
    "            \n",
    "            if self.global_step % 2000 < self.n_envs:\n",
    "                if self.verbose == 1:\n",
    "                    print(f'Mean episode length {np.mean(self.lengths)}, mean return {np.mean(self.returns)}')\n",
    "                self.lengths = []\n",
    "                self.returns = []\n",
    "\n",
    "                \n",
    "            \n",
    "    \n",
    "    def update(self):\n",
    "        \"\"\"Sample from buffer and perform Q-learning\"\"\"\n",
    "        \n",
    "        sample = self.rb.sample(self.batch_size//self.sequence_length)\n",
    "        states = sample['observations']\n",
    "        next_states = sample['next_observations']\n",
    "        hidden_states = sample['hidden_states']\n",
    "        next_hidden_states = sample['next_hidden_states']\n",
    "        actions = sample['actions']\n",
    "        rewards = sample['rewards']\n",
    "        dones = sample['dones']\n",
    "        next_dones = sample['next_dones']\n",
    "        \n",
    "        with torch.no_grad():\n",
    "            target_q, _, _ = self.target_network(next_states, next_hidden_states, next_dones)\n",
    "            target_max, _ = target_q.max(dim=2)\n",
    "            td_target = rewards + self.gamma * target_max * (1 - dones)\n",
    "        old_q, _, _ = self.q_network(states, hidden_states, dones)\n",
    "        old_val = old_q.gather(2, actions.long()).squeeze()\n",
    "\n",
    "        # loss = F.mse_loss(td_target[:, self.burn_in_length:], old_val[:, self.burn_in_length:])\n",
    "        weights = sample['weights']\n",
    "        elementwise_loss = F.smooth_l1_loss(td_target[:, self.burn_in_length:],\n",
    "                                            old_val[:, self.burn_in_length:], reduction='none')\n",
    "        loss = torch.mean(elementwise_loss * weights)\n",
    "                \n",
    "        if self.writer is not None and self.global_update_step % 10 == 0:\n",
    "            self.writer.add_scalar('losses/td_loss', loss, self.global_step)\n",
    "            self.writer.add_scalar('losses/q_values', old_val.mean().item(), self.global_step)\n",
    "            sps = int(self.global_step / (time.time() - self.start_time))\n",
    "            # print('SPS:', int(sps))\n",
    "            self.writer.add_scalar('charts/SPS', sps, self.global_step)\n",
    "\n",
    "        self.optimizer.zero_grad()\n",
    "        loss.backward()\n",
    "        self.optimizer.step()\n",
    "        \n",
    "        # PER: update priorities\n",
    "        td_priorities = elementwise_loss.detach().cpu().numpy() + 1e-6\n",
    "        self.rb.update_priorities(sample['seq_idxs'][:, self.burn_in_length:],\n",
    "                                  sample['env_idxs'], td_priorities)\n",
    "        \n",
    "        self.global_update_step += 1\n",
    "    \n",
    "\n",
    "    def train(self, n_updates):\n",
    "        if self.global_step < self.learning_starts:\n",
    "            self.collect((self.learning_starts - self.global_step) // self.n_envs + 1)\n",
    "        \n",
    "        for i in range(n_updates):\n",
    "            self.collect(self.train_frequency)\n",
    "            self.update()\n",
    "\n",
    "\n",
    "    def get_rnn_hxs(self):\n",
    "        return self.q_network.get_rnn_hxs(self.n_envs)\n",
    "    \n",
    "    def get_epsilon(self, use_epsilon=True):\n",
    "        if use_epsilon:\n",
    "            epsilon = linear_schedule(self.start_e, self.end_e, \n",
    "                        self.exploration_fraction*self.total_timesteps,\n",
    "                        self.global_step)\n",
    "        else:\n",
    "            epsilon = 0\n",
    "            \n",
    "        return epsilon"
   ]
  },
  {
   "cell_type": "code",
   "execution_count": 2,
   "id": "e347cd32-da0c-428e-bba7-5588e036a928",
   "metadata": {},
   "outputs": [],
   "source": [
    "env_kwargs = {\n",
    "        'num_objects': 0, 'rew_structure': 'goal',\n",
    "        'task_structure': 2, 'wall_colors': 4,\n",
    "        'num_rays': 12, 'fov': 1\n",
    "}\n",
    "\n",
    "agent = R2D2Agent(env_id='NavEnv-v0', env_kwargs=env_kwargs,\n",
    "                 verbose=1, buffer_size=5000, alpha=0.6, batch_size=256,\n",
    "                 burn_in_length=8, n_envs=4, dummy_env=True)"
   ]
  },
  {
   "cell_type": "code",
   "execution_count": 3,
   "id": "b367d6e0-efd0-4fcf-a10c-7d9d5599102d",
   "metadata": {},
   "outputs": [
    {
     "name": "stdout",
     "output_type": "stream",
     "text": [
      "Mean episode length 202.0, mean return 0.0\n",
      "Mean episode length 202.0, mean return 0.0\n",
      "Mean episode length 202.0, mean return 0.0\n",
      "Mean episode length 202.0, mean return 0.0\n",
      "Mean episode length 177.85714285714286, mean return 0.14285714285714285\n",
      "Mean episode length 202.0, mean return 0.0\n"
     ]
    }
   ],
   "source": [
    "agent.collect(3000)"
   ]
  },
  {
   "cell_type": "code",
   "execution_count": 417,
   "id": "0955941e-a8a3-47f6-a3d1-71a7dbbaa6e1",
   "metadata": {},
   "outputs": [
    {
     "name": "stdout",
     "output_type": "stream",
     "text": [
      "Mean episode length 202.0, mean return 0.0\n",
      "Mean episode length 202.0, mean return 0.0\n",
      "Mean episode length 202.0, mean return 0.0\n",
      "Mean episode length 202.0, mean return 0.0\n",
      "820 ms ± 28 ms per loop (mean ± std. dev. of 7 runs, 1 loop each)\n"
     ]
    }
   ],
   "source": [
    "%%timeit\n",
    "agent.collect(1000)"
   ]
  },
  {
   "cell_type": "code",
   "execution_count": 4,
   "id": "713496bd-9c4d-4404-b780-225000767141",
   "metadata": {},
   "outputs": [
    {
     "name": "stdout",
     "output_type": "stream",
     "text": [
      "Mean episode length 187.15384615384616, mean return 0.07692307692307693\n",
      "Mean episode length 202.0, mean return 0.0\n",
      "Mean episode length 187.23076923076923, mean return 0.07692307692307693\n",
      "4.53 ms ± 176 µs per loop (mean ± std. dev. of 7 runs, 100 loops each)\n"
     ]
    }
   ],
   "source": [
    "%%timeit\n",
    "agent.collect(2)"
   ]
  },
  {
   "cell_type": "code",
   "execution_count": 7,
   "id": "37601078-533c-4a5a-af7f-113ec5e1650f",
   "metadata": {},
   "outputs": [
    {
     "name": "stdout",
     "output_type": "stream",
     "text": [
      "Mean episode length 202.0, mean return 0.0\n",
      "Mean episode length 202.0, mean return 0.0\n",
      "Mean episode length 202.0, mean return 0.0\n",
      "3.7 ms ± 53.7 µs per loop (mean ± std. dev. of 7 runs, 100 loops each)\n"
     ]
    }
   ],
   "source": [
    "%%timeit\n",
    "agent.collect(2)"
   ]
  },
  {
   "cell_type": "code",
   "execution_count": 431,
   "id": "7a33ae4b-f84c-4b5d-918c-81e0c1d2df5e",
   "metadata": {},
   "outputs": [
    {
     "name": "stdout",
     "output_type": "stream",
     "text": [
      "Mean episode length 202.0, mean return 0.0\n",
      "Mean episode length 202.0, mean return 0.0\n",
      "Mean episode length 202.0, mean return 0.0\n",
      "2.02 ms ± 82 µs per loop (mean ± std. dev. of 7 runs, 100 loops each)\n"
     ]
    }
   ],
   "source": [
    "%%timeit\n",
    "agent.collect(2)"
   ]
  },
  {
   "cell_type": "code",
   "execution_count": 9,
   "id": "1629669b-7c46-4a41-a31d-1f3182fe1469",
   "metadata": {},
   "outputs": [
    {
     "name": "stdout",
     "output_type": "stream",
     "text": [
      "35.9 ms ± 1.08 ms per loop (mean ± std. dev. of 7 runs, 10 loops each)\n"
     ]
    }
   ],
   "source": [
    "%%timeit\n",
    "agent.update()"
   ]
  },
  {
   "cell_type": "code",
   "execution_count": 433,
   "id": "cbc807ed-2c31-4506-ae5d-acbf5d9deac4",
   "metadata": {},
   "outputs": [
    {
     "name": "stdout",
     "output_type": "stream",
     "text": [
      "34.1 ms ± 2.07 ms per loop (mean ± std. dev. of 7 runs, 10 loops each)\n"
     ]
    }
   ],
   "source": [
    "%%timeit\n",
    "agent.update()"
   ]
  },
  {
   "cell_type": "code",
   "execution_count": 5,
   "id": "402c6b64-b753-4e26-81b5-1aefb4985816",
   "metadata": {},
   "outputs": [
    {
     "name": "stdout",
     "output_type": "stream",
     "text": [
      "21.1 ms ± 918 µs per loop (mean ± std. dev. of 7 runs, 10 loops each)\n"
     ]
    }
   ],
   "source": [
    "%%timeit\n",
    "agent.update()"
   ]
  },
  {
   "cell_type": "code",
   "execution_count": 11,
   "id": "18303cc9-db1d-4959-8320-9943b22eb353",
   "metadata": {},
   "outputs": [
    {
     "name": "stdout",
     "output_type": "stream",
     "text": [
      "826 µs ± 12.9 µs per loop (mean ± std. dev. of 7 runs, 1,000 loops each)\n"
     ]
    }
   ],
   "source": [
    "%%timeit\n",
    "sample = agent.rb.sample(32)"
   ]
  },
  {
   "cell_type": "code",
   "execution_count": 7,
   "id": "fbfa8225-6f19-42ef-89e6-6b4928adb0db",
   "metadata": {},
   "outputs": [],
   "source": [
    "sample = agent.rb.sample(256//8)\n",
    "states = sample['observations']\n",
    "next_states = sample['next_observations']\n",
    "hidden_states = sample['hidden_states']\n",
    "next_hidden_states = sample['next_hidden_states']\n",
    "actions = sample['actions']\n",
    "rewards = sample['rewards']\n",
    "dones = sample['dones']\n",
    "next_dones = sample['next_dones']\n",
    "\n",
    "with torch.no_grad():\n",
    "    target_q, _, _ = agent.target_network(next_states, next_hidden_states, next_dones)\n",
    "    target_max, _ = target_q.max(dim=2)\n",
    "    td_target = rewards + agent.gamma * target_max * (1 - dones)\n",
    "old_q, _, _ = agent.q_network(states, hidden_states, dones)\n",
    "old_val = old_q.gather(2, actions.long()).squeeze()\n",
    "\n",
    "old_loss = F.mse_loss(td_target[:, agent.burn_in_length:], old_val[:, agent.burn_in_length:])\n",
    "weights = sample['weights']\n",
    "elementwise_loss = F.smooth_l1_loss(td_target[:, agent.burn_in_length:],\n",
    "                                    old_val[:, agent.burn_in_length:], reduction='none')\n",
    "loss = torch.mean(elementwise_loss * weights)\n"
   ]
  },
  {
   "cell_type": "code",
   "execution_count": 8,
   "id": "df01e18d-7c99-4bc9-9e20-d6ab3a6f0480",
   "metadata": {},
   "outputs": [
    {
     "data": {
      "text/plain": [
       "tensor([[0.0204],\n",
       "        [0.0204],\n",
       "        [0.0204],\n",
       "        [0.0204],\n",
       "        [0.0204],\n",
       "        [0.0204],\n",
       "        [0.1248],\n",
       "        [0.0204],\n",
       "        [0.0204],\n",
       "        [0.0204],\n",
       "        [0.0204],\n",
       "        [0.0204],\n",
       "        [0.0204],\n",
       "        [0.0204],\n",
       "        [0.0204],\n",
       "        [0.0204],\n",
       "        [0.0204],\n",
       "        [0.0204],\n",
       "        [0.0204],\n",
       "        [0.0204],\n",
       "        [0.0204],\n",
       "        [0.0204],\n",
       "        [0.0204],\n",
       "        [0.0204],\n",
       "        [0.0204],\n",
       "        [0.0204],\n",
       "        [0.0204],\n",
       "        [0.0204],\n",
       "        [0.0204],\n",
       "        [0.0204],\n",
       "        [0.0204],\n",
       "        [0.0204]])"
      ]
     },
     "execution_count": 8,
     "metadata": {},
     "output_type": "execute_result"
    }
   ],
   "source": [
    "weights"
   ]
  },
  {
   "cell_type": "code",
   "execution_count": 15,
   "id": "3bb18221-2737-45bb-90ee-22c8d75372e8",
   "metadata": {},
   "outputs": [
    {
     "name": "stdout",
     "output_type": "stream",
     "text": [
      "9.42 ms ± 254 µs per loop (mean ± std. dev. of 7 runs, 100 loops each)\n"
     ]
    }
   ],
   "source": [
    "%%timeit\n",
    "with torch.no_grad():\n",
    "    target_q, _, _ = agent.target_network(next_states, next_hidden_states, next_dones)\n",
    "    target_max, _ = target_q.max(dim=2)\n",
    "    td_target = rewards + agent.gamma * target_max * (1 - dones)\n",
    "old_q, _, _ = agent.q_network(states, hidden_states, dones)\n",
    "old_val = old_q.gather(2, actions.long()).squeeze()\n",
    "\n",
    "old_loss = F.mse_loss(td_target[:, agent.burn_in_length:], old_val[:, agent.burn_in_length:])\n",
    "weights = sample['weights']\n",
    "elementwise_loss = F.smooth_l1_loss(td_target[:, agent.burn_in_length:],\n",
    "                                    old_val[:, agent.burn_in_length:], reduction='none')\n",
    "loss = torch.mean(elementwise_loss * weights)\n"
   ]
  },
  {
   "cell_type": "code",
   "execution_count": 17,
   "id": "b1bf82f6-a358-46ff-9930-e88223fd8d22",
   "metadata": {},
   "outputs": [
    {
     "name": "stdout",
     "output_type": "stream",
     "text": [
      "15.6 ms ± 401 µs per loop (mean ± std. dev. of 7 runs, 100 loops each)\n"
     ]
    }
   ],
   "source": [
    "%%timeit\n",
    "with torch.no_grad():\n",
    "    target_q, _, _ = agent.target_network(next_states, next_hidden_states, next_dones)\n",
    "    target_max, _ = target_q.max(dim=2)\n",
    "    td_target = rewards + agent.gamma * target_max * (1 - dones)\n",
    "old_q, _, _ = agent.q_network(states, hidden_states, dones)\n",
    "old_val = old_q.gather(2, actions.long()).squeeze()\n",
    "\n",
    "old_loss = F.mse_loss(td_target[:, agent.burn_in_length:], old_val[:, agent.burn_in_length:])\n",
    "weights = sample['weights']\n",
    "elementwise_loss = F.smooth_l1_loss(td_target[:, agent.burn_in_length:],\n",
    "                                    old_val[:, agent.burn_in_length:], reduction='none')\n",
    "loss = torch.mean(elementwise_loss * weights)\n",
    "\n",
    "agent.optimizer.zero_grad()\n",
    "loss.backward()\n",
    "agent.optimizer.step()"
   ]
  },
  {
   "cell_type": "code",
   "execution_count": 32,
   "id": "62a62f25-2307-40e8-870d-dd9fdd6cbade",
   "metadata": {},
   "outputs": [
    {
     "name": "stdout",
     "output_type": "stream",
     "text": [
      "12 ms ± 258 µs per loop (mean ± std. dev. of 7 runs, 100 loops each)\n"
     ]
    }
   ],
   "source": [
    "%%timeit\n",
    "td_priorities = elementwise_loss.detach().cpu().numpy() + 1e-6\n",
    "agent.rb.update_priorities(sample['seq_idxs'][:, agent.burn_in_length:],\n",
    "                          sample['env_idxs'], td_priorities)\n"
   ]
  },
  {
   "cell_type": "code",
   "execution_count": 34,
   "id": "98ef7e66-87cb-4a68-81c9-125cc73f095e",
   "metadata": {},
   "outputs": [],
   "source": [
    "seq_idxs = sample['seq_idxs'][:, agent.burn_in_length:]\n",
    "env_idxs = sample['env_idxs']\n",
    "priorities = td_priorities\n",
    "rb = agent.rb"
   ]
  },
  {
   "cell_type": "code",
   "execution_count": 41,
   "id": "b25bcef4-1e69-431a-aa45-fae9e22f3981",
   "metadata": {},
   "outputs": [
    {
     "name": "stdout",
     "output_type": "stream",
     "text": [
      "144 µs ± 1.63 µs per loop (mean ± std. dev. of 7 runs, 10,000 loops each)\n"
     ]
    }
   ],
   "source": [
    "%%timeit\n",
    "n_batches = len(env_idxs)\n",
    "for i in range(n_batches):\n",
    "    update_priority_idxs = seq_idxs[i] + env_idxs[i] * rb.total_buffer_size\n",
    "    rb.td_priorities[update_priority_idxs] = priorities[i]\n"
   ]
  },
  {
   "cell_type": "code",
   "execution_count": 40,
   "id": "2da1adb0-a786-4152-86a3-6dd1f65ddada",
   "metadata": {},
   "outputs": [
    {
     "name": "stdout",
     "output_type": "stream",
     "text": [
      "318 µs ± 28.8 µs per loop (mean ± std. dev. of 7 runs, 1,000 loops each)\n"
     ]
    }
   ],
   "source": [
    "%%timeit\n",
    "n_batches = len(env_idxs)\n",
    "for i in range(n_batches):\n",
    "    update_priority_idxs = seq_idxs[i] + env_idxs[i] * rb.total_buffer_size\n",
    "    rb.td_priorities[update_priority_idxs] = priorities[i]\n",
    "\n",
    "    for j in range(len(update_priority_idxs)):\n",
    "        start = seq_idxs[i, j] + env_idxs[i]*rb.total_buffer_size\n"
   ]
  },
  {
   "cell_type": "code",
   "execution_count": 122,
   "id": "92d7abab-fb30-49e6-810f-be4312a0f6b5",
   "metadata": {},
   "outputs": [
    {
     "name": "stdout",
     "output_type": "stream",
     "text": [
      "11.1 ms ± 186 µs per loop (mean ± std. dev. of 7 runs, 100 loops each)\n"
     ]
    }
   ],
   "source": [
    "%%timeit\n",
    "valid_idxs = rb.get_valid_idxs()\n",
    "\n",
    "n_batches = len(env_idxs)\n",
    "for i in range(n_batches):\n",
    "    update_priority_idxs = seq_idxs[i] + env_idxs[i] * rb.total_buffer_size\n",
    "    rb.td_priorities[update_priority_idxs] = priorities[i]\n",
    "\n",
    "    for j in range(len(update_priority_idxs)):\n",
    "        start = seq_idxs[i, j] + env_idxs[i]*rb.total_buffer_size\n",
    "        \n",
    "        # check if the updated priority needs to be copied to buffer end segment\n",
    "        if seq_idxs[i, j] < rb.burn_in_length + rb.sequence_length:\n",
    "            copy_idx = start + rb.buffer_size\n",
    "            rb.td_priorities[copy_idx] = priorities[i, j]\n",
    "\n",
    "        if valid_idxs[seq_idxs[i, j]]:\n",
    "            # next update priority based on future td_steps\n",
    "            avg_td_priority = rb.td_priorities[start:start+rb.sequence_length].sum() / rb.sequence_length\n",
    "            rb.sum_tree[start] = avg_td_priority ** rb.alpha\n",
    "            rb.min_tree[start] = avg_td_priority ** rb.alpha\n"
   ]
  },
  {
   "cell_type": "code",
   "execution_count": 63,
   "id": "5d5dc188-483b-466e-9c64-ced94491b362",
   "metadata": {},
   "outputs": [
    {
     "name": "stdout",
     "output_type": "stream",
     "text": [
      "10.9 ms ± 219 µs per loop (mean ± std. dev. of 7 runs, 100 loops each)\n"
     ]
    }
   ],
   "source": [
    "%%timeit\n",
    "valid_idxs = rb.get_valid_idxs()\n",
    "\n",
    "n_batches = len(env_idxs)\n",
    "for i in range(n_batches):\n",
    "    update_priority_idxs = seq_idxs[i] + env_idxs[i] * rb.total_buffer_size\n",
    "    rb.td_priorities[update_priority_idxs] = priorities[i]\n",
    "\n",
    "\n",
    "for i, j in zip(seq_idxs):\n",
    "    start = seq_idxs[i, j] + env_idxs[i]*rb.total_buffer_size\n",
    "\n",
    "    avg_td_priority = rb.td_priorities[start:start+rb.sequence_length].sum() / rb.sequence_length\n",
    "    rb.sum_tree[start] = avg_td_priority ** rb.alpha\n",
    "    rb.min_tree[start] = avg_td_priority ** rb.alpha\n"
   ]
  },
  {
   "cell_type": "code",
   "execution_count": 80,
   "id": "b8c7687a-8dbb-44f6-9205-36799f8d1d11",
   "metadata": {},
   "outputs": [],
   "source": [
    "starts = seq_idxs + env_idxs.reshape(-1, 1) * rb.total_buffer_size\n",
    "\n"
   ]
  },
  {
   "cell_type": "code",
   "execution_count": 101,
   "id": "ada1e035-1bae-4fac-ad07-e6e7d8a35346",
   "metadata": {},
   "outputs": [
    {
     "name": "stdout",
     "output_type": "stream",
     "text": [
      "4.82 ms ± 45.1 µs per loop (mean ± std. dev. of 7 runs, 100 loops each)\n"
     ]
    }
   ],
   "source": [
    "%%timeit\n",
    "\n",
    "mesh = np.meshgrid(range(starts.shape[0]), range(starts.shape[1]))\n",
    "for i, j in zip(mesh[0].reshape(-1), mesh[1].reshape(-1)):\n",
    "    rb.sum_tree[starts[i, j]] = avg_td_priority ** rb.alpha"
   ]
  },
  {
   "cell_type": "code",
   "execution_count": 102,
   "id": "464a3319-78ed-4426-91ce-69e7224ec95f",
   "metadata": {},
   "outputs": [
    {
     "name": "stdout",
     "output_type": "stream",
     "text": [
      "17.6 µs ± 160 ns per loop (mean ± std. dev. of 7 runs, 100,000 loops each)\n"
     ]
    }
   ],
   "source": [
    "%%timeit\n",
    "rb.sum_tree[starts[i, j]] = avg_td_priority ** rb.alpha"
   ]
  },
  {
   "cell_type": "code",
   "execution_count": 105,
   "id": "fad1cd5a-4ee1-4c2b-b752-434d60d8c727",
   "metadata": {},
   "outputs": [],
   "source": [
    "p = rb.sum_tree.tree[cap:]"
   ]
  },
  {
   "cell_type": "code",
   "execution_count": 108,
   "id": "28a98f24-6fa9-440f-94e2-34ccb800e0e5",
   "metadata": {},
   "outputs": [
    {
     "name": "stdout",
     "output_type": "stream",
     "text": [
      "2.03 ms ± 94 µs per loop (mean ± std. dev. of 7 runs, 100 loops each)\n"
     ]
    }
   ],
   "source": [
    "%%timeit\n",
    "np.sum(p)"
   ]
  },
  {
   "cell_type": "code",
   "execution_count": 113,
   "id": "0ee8786b-7252-4770-9786-f9e9055f2aa7",
   "metadata": {},
   "outputs": [
    {
     "name": "stdout",
     "output_type": "stream",
     "text": [
      "2.77 ms ± 527 µs per loop (mean ± std. dev. of 7 runs, 100 loops each)\n"
     ]
    }
   ],
   "source": [
    "%%timeit\n",
    "p_cumsum = np.cumsum(p)"
   ]
  },
  {
   "cell_type": "code",
   "execution_count": 126,
   "id": "21a92a38-8972-4ed2-8ff7-6c662b28eae3",
   "metadata": {},
   "outputs": [
    {
     "name": "stdout",
     "output_type": "stream",
     "text": [
      "2.99 ms ± 55.3 µs per loop (mean ± std. dev. of 7 runs, 100 loops each)\n"
     ]
    }
   ],
   "source": [
    "%%timeit\n",
    "p_cum = np.cumsum(p)\n",
    "p_total = p_cum[-1]\n",
    "rands = np.random.random(5) * p_total\n",
    "idxs = (p_cum.reshape(-1, 1) > rands).argmax(axis=0)"
   ]
  },
  {
   "cell_type": "code",
   "execution_count": 127,
   "id": "24246d9b-0100-4c55-84f2-954028c625b4",
   "metadata": {},
   "outputs": [],
   "source": [
    "p_cum = np.cumsum(p)\n",
    "p_total = p_cum[-1]\n",
    "rands = np.random.random(5) * p_total\n",
    "idxs = (p_cum.reshape(-1, 1) > rands).argmax(axis=0)"
   ]
  },
  {
   "cell_type": "code",
   "execution_count": 129,
   "id": "3bff71cc-1b3d-4abe-a4eb-0c6ff892daef",
   "metadata": {},
   "outputs": [
    {
     "data": {
      "text/plain": [
       "array([2687, 2091, 1022, 3680, 3614], dtype=int64)"
      ]
     },
     "execution_count": 129,
     "metadata": {},
     "output_type": "execute_result"
    }
   ],
   "source": [
    "idxs % rb.total_buffer_size"
   ]
  },
  {
   "cell_type": "code",
   "execution_count": 130,
   "id": "ffd3bc9d-e37e-49d0-a306-02be3489592b",
   "metadata": {},
   "outputs": [
    {
     "data": {
      "text/plain": [
       "array([0, 0, 3, 3, 3], dtype=int64)"
      ]
     },
     "execution_count": 130,
     "metadata": {},
     "output_type": "execute_result"
    }
   ],
   "source": [
    "idxs // rb.total_buffer_size"
   ]
  },
  {
   "cell_type": "code",
   "execution_count": 131,
   "id": "8a5ae1d1-ab21-40b4-827f-a5d0bfecc5a7",
   "metadata": {},
   "outputs": [
    {
     "ename": "AttributeError",
     "evalue": "'SequenceReplayBuffer' object has no attribute 'buffer'",
     "output_type": "error",
     "traceback": [
      "\u001b[1;31m---------------------------------------------------------------------------\u001b[0m",
      "\u001b[1;31mAttributeError\u001b[0m                            Traceback (most recent call last)",
      "Input \u001b[1;32mIn [131]\u001b[0m, in \u001b[0;36m<cell line: 1>\u001b[1;34m()\u001b[0m\n\u001b[1;32m----> 1\u001b[0m \u001b[43mrb\u001b[49m\u001b[38;5;241;43m.\u001b[39;49m\u001b[38;5;21;43m__len__\u001b[39;49m\u001b[43m(\u001b[49m\u001b[43m)\u001b[49m\n",
      "Input \u001b[1;32mIn [4]\u001b[0m, in \u001b[0;36mSequenceReplayBuffer.__len__\u001b[1;34m(self)\u001b[0m\n\u001b[0;32m    292\u001b[0m \u001b[38;5;28;01mdef\u001b[39;00m \u001b[38;5;21m__len__\u001b[39m(\u001b[38;5;28mself\u001b[39m):\n\u001b[1;32m--> 293\u001b[0m     \u001b[38;5;28;01mreturn\u001b[39;00m \u001b[38;5;28mlen\u001b[39m(\u001b[38;5;28;43mself\u001b[39;49m\u001b[38;5;241;43m.\u001b[39;49m\u001b[43mbuffer\u001b[49m)\n",
      "\u001b[1;31mAttributeError\u001b[0m: 'SequenceReplayBuffer' object has no attribute 'buffer'"
     ]
    }
   ],
   "source": [
    "rb.__len__()"
   ]
  },
  {
   "cell_type": "code",
   "execution_count": 125,
   "id": "010019c6-e96b-4c0e-9eb1-60344fe545e9",
   "metadata": {},
   "outputs": [
    {
     "name": "stdout",
     "output_type": "stream",
     "text": [
      "142 ns ± 2.51 ns per loop (mean ± std. dev. of 7 runs, 10,000,000 loops each)\n"
     ]
    }
   ],
   "source": [
    "%%timeit\n",
    "min(5, 10)"
   ]
  },
  {
   "cell_type": "code",
   "execution_count": 85,
   "id": "7256193e-efd2-4d18-b5ce-f191e8fbd5c4",
   "metadata": {},
   "outputs": [
    {
     "name": "stdout",
     "output_type": "stream",
     "text": [
      "0 0\n",
      "1 1\n",
      "2 2\n",
      "3 3\n",
      "4 4\n",
      "5 5\n",
      "6 6\n",
      "7 7\n"
     ]
    }
   ],
   "source": [
    "for i, j in zip(range(starts.shape[0]), range(starts.shape[1])):\n",
    "    print(i, j)"
   ]
  },
  {
   "cell_type": "code",
   "execution_count": 60,
   "id": "f36dd7a8-b191-443c-948a-e7f467ef8653",
   "metadata": {},
   "outputs": [],
   "source": [
    "\n",
    "count = 0\n",
    "valid_idxs = rb.get_valid_idxs()\n",
    "n_batches = len(env_idxs)\n",
    "for i in range(n_batches):\n",
    "    update_priority_idxs = seq_idxs[i] + env_idxs[i] * rb.total_buffer_size\n",
    "    rb.td_priorities[update_priority_idxs] = priorities[i]\n",
    "\n",
    "    for j in range(len(update_priority_idxs)):\n",
    "        start = seq_idxs[i, j] + env_idxs[i]*rb.total_buffer_size\n",
    "        \n",
    "        # check if the updated priority needs to be copied to buffer end segment\n",
    "        if seq_idxs[i, j] < rb.burn_in_length + rb.sequence_length:\n",
    "            copy_idx = start + rb.buffer_size\n",
    "            rb.td_priorities[copy_idx] = priorities[i, j]\n",
    "\n",
    "        if valid_idxs[seq_idxs[i, j]]:\n",
    "            count += 1\n",
    "            # next update priority based on future td_steps\n",
    "            avg_td_priority = rb.td_priorities[start:start+rb.sequence_length].sum() / rb.sequence_length\n",
    "            rb.sum_tree[start] = avg_td_priority ** rb.alpha\n",
    "            rb.min_tree[start] = avg_td_priority ** rb.alpha"
   ]
  },
  {
   "cell_type": "code",
   "execution_count": 61,
   "id": "25e60021-d62c-47e3-a2c5-f88ab9b38c1b",
   "metadata": {},
   "outputs": [
    {
     "data": {
      "text/plain": [
       "256"
      ]
     },
     "execution_count": 61,
     "metadata": {},
     "output_type": "execute_result"
    }
   ],
   "source": [
    "count"
   ]
  },
  {
   "cell_type": "code",
   "execution_count": null,
   "id": "20a50d7c-84ed-44f1-b8fb-57a9951d3b68",
   "metadata": {},
   "outputs": [],
   "source": [
    "cap = rb.sum_tree.capacity"
   ]
  },
  {
   "cell_type": "code",
   "execution_count": 67,
   "id": "b8f8b851-6578-46fc-aebe-59cac8980fa1",
   "metadata": {},
   "outputs": [
    {
     "name": "stdout",
     "output_type": "stream",
     "text": [
      "74.6 ns ± 0.826 ns per loop (mean ± std. dev. of 7 runs, 10,000,000 loops each)\n"
     ]
    }
   ],
   "source": [
    "%%timeit\n",
    "random.random()"
   ]
  },
  {
   "cell_type": "code",
   "execution_count": 70,
   "id": "e14679cb-7008-4fbe-b018-c120f6a35c37",
   "metadata": {},
   "outputs": [
    {
     "name": "stdout",
     "output_type": "stream",
     "text": [
      "228 ns ± 6.35 ns per loop (mean ± std. dev. of 7 runs, 1,000,000 loops each)\n"
     ]
    }
   ],
   "source": [
    "%%timeit\n",
    "avg_td_priority ** rb.alpha"
   ]
  },
  {
   "cell_type": "code",
   "execution_count": 71,
   "id": "687fb184-7a64-4a48-9cce-d41ee873505b",
   "metadata": {},
   "outputs": [
    {
     "name": "stdout",
     "output_type": "stream",
     "text": [
      "6.71 µs ± 198 ns per loop (mean ± std. dev. of 7 runs, 100,000 loops each)\n"
     ]
    }
   ],
   "source": [
    "%%timeit\n",
    "rb.sum_tree[5] = avg_td_priority ** rb.alpha"
   ]
  },
  {
   "cell_type": "code",
   "execution_count": 52,
   "id": "a0157c7f-3825-45de-a344-fd1691da45f6",
   "metadata": {},
   "outputs": [
    {
     "name": "stdout",
     "output_type": "stream",
     "text": [
      "125 ns ± 1.47 ns per loop (mean ± std. dev. of 7 runs, 10,000,000 loops each)\n"
     ]
    }
   ],
   "source": [
    "%%timeit\n",
    "rb.sum_tree.tree[cap+5] = 1"
   ]
  },
  {
   "cell_type": "code",
   "execution_count": 42,
   "id": "04421e41-d763-402c-8413-4d135c5a1656",
   "metadata": {},
   "outputs": [
    {
     "name": "stdout",
     "output_type": "stream",
     "text": [
      "408 µs ± 20.8 µs per loop (mean ± std. dev. of 7 runs, 1,000 loops each)\n"
     ]
    }
   ],
   "source": [
    "%%timeit\n",
    "n_batches = len(env_idxs)\n",
    "for i in range(n_batches):\n",
    "    update_priority_idxs = seq_idxs[i] + env_idxs[i] * rb.total_buffer_size\n",
    "    rb.td_priorities[update_priority_idxs] = priorities[i]\n",
    "\n",
    "    for j in range(len(update_priority_idxs)):\n",
    "        start = seq_idxs[i, j] + env_idxs[i]*rb.total_buffer_size\n",
    "        \n",
    "        # check if the updated priority needs to be copied to buffer end segment\n",
    "        if seq_idxs[i, j] < rb.burn_in_length + rb.sequence_length:\n",
    "            copy_idx = start + rb.buffer_size\n",
    "            rb.td_priorities[copy_idx] = priorities[i, j]\n",
    "\n"
   ]
  },
  {
   "cell_type": "code",
   "execution_count": 37,
   "id": "2b7ebb13-2a5f-45c4-89ce-40c0f0f5bf33",
   "metadata": {},
   "outputs": [
    {
     "data": {
      "text/plain": [
       "array([19155, 19156, 19157, 19158, 19159, 19160, 19161, 19162])"
      ]
     },
     "execution_count": 37,
     "metadata": {},
     "output_type": "execute_result"
    }
   ],
   "source": [
    "update_priority_idxs"
   ]
  },
  {
   "cell_type": "code",
   "execution_count": 22,
   "id": "2099ba7a-587f-4658-9e32-ab544ac65c47",
   "metadata": {},
   "outputs": [
    {
     "name": "stdout",
     "output_type": "stream",
     "text": [
      "6.22 µs ± 137 ns per loop (mean ± std. dev. of 7 runs, 100,000 loops each)\n"
     ]
    }
   ],
   "source": [
    "%%timeit\n",
    "agent.rb.sum_tree[5] = 1"
   ]
  },
  {
   "cell_type": "code",
   "execution_count": 13,
   "id": "53d79abb-7e52-4540-bbde-09a881447e59",
   "metadata": {},
   "outputs": [
    {
     "data": {
      "text/plain": [
       "torch.Size([32, 16, 24])"
      ]
     },
     "execution_count": 13,
     "metadata": {},
     "output_type": "execute_result"
    }
   ],
   "source": [
    "states.shape"
   ]
  },
  {
   "cell_type": "code",
   "execution_count": 446,
   "id": "1d56ccdc-454a-43fd-a02a-37b1736ebe9e",
   "metadata": {},
   "outputs": [
    {
     "data": {
      "text/plain": [
       "tensor([0., 0., 0., 0., 0., 0., 0., 0., 0., 0., 0., 0., 1., 0., 0.])"
      ]
     },
     "execution_count": 446,
     "metadata": {},
     "output_type": "execute_result"
    }
   ],
   "source": [
    "nd = dones[-1, :-1]"
   ]
  },
  {
   "cell_type": "code",
   "execution_count": 281,
   "id": "1ad3d304-553a-4d8e-a100-ff7d1ecb496f",
   "metadata": {},
   "outputs": [],
   "source": [
    "update_seq_idxs = sample['seq_idxs'][:, agent.burn_in_length:]\n",
    "seq_idxs = update_seq_idxs\n",
    "\n",
    "priorities = elementwise_loss.detach().numpy()\n",
    "env_idxs = sample['env_idxs']\n",
    "\n",
    "\n",
    "n_batches = len(env_idxs)\n",
    "for i in range(n_batches):\n",
    "    update_priority_idxs = seq_idxs[i] + env_idxs[i] * agent.rb.total_buffer_size\n",
    "    agent.rb.td_priorities[update_priority_idxs] = priorities[i]\n",
    "    \n",
    "    for j in range(len(update_priority_idxs)):\n",
    "        start = seq_idxs[i, j] + env_idxs[i]*agent.rb.total_buffer_size\n",
    "        \n",
    "        # check if the updated priority needs to be copied to buffer end segment\n",
    "        if seq_idxs[i, j] < agent.rb.burn_in_length + agent.rb.sequence_length:\n",
    "            copy_idx = start + agent.rb.buffer_size\n",
    "            agent.rb.td_priorities[copy_idx] = priorities[i, j]\n",
    "        # next update priority based on future td_steps\n",
    "        avg_td_priority = agent.rb.td_priorities[start:start+agent.rb.sequence_length].sum() / agent.rb.sequence_length\n",
    "        agent.rb.sum_tree[start] = avg_td_priority ** agent.rb.alpha\n",
    "        agent.rb.min_tree[start] = avg_td_priority ** agent.rb.alpha\n",
    "    "
   ]
  }
 ],
 "metadata": {
  "kernelspec": {
   "display_name": "Python 3 (ipykernel)",
   "language": "python",
   "name": "python3"
  },
  "language_info": {
   "codemirror_mode": {
    "name": "ipython",
    "version": 3
   },
   "file_extension": ".py",
   "mimetype": "text/x-python",
   "name": "python",
   "nbconvert_exporter": "python",
   "pygments_lexer": "ipython3",
   "version": "3.9.12"
  }
 },
 "nbformat": 4,
 "nbformat_minor": 5
}
