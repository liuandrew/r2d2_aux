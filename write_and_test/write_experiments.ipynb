{
 "cells": [
  {
   "cell_type": "code",
   "execution_count": 1,
   "id": "a4cecfca-bef9-421a-9289-88bde0a64a5a",
   "metadata": {},
   "outputs": [],
   "source": [
    "import pickle\n",
    "import pandas as pd\n",
    "from datetime import datetime\n",
    "import os\n",
    "import numpy as np"
   ]
  },
  {
   "cell_type": "markdown",
   "id": "79780682-0a94-4de4-8da5-86503b17b7c9",
   "metadata": {},
   "source": [
    "# Basic CartPole sequence length testing"
   ]
  },
  {
   "cell_type": "code",
   "execution_count": 6,
   "id": "ec968088-7138-449b-87bb-d77b5f78eac0",
   "metadata": {},
   "outputs": [],
   "source": [
    "sequence_lengths = [2, 4, 8, 16]\n",
    "burn_in_lengths = [2, 4, 8]\n",
    "trials = 3\n",
    "\n",
    "for sequence_length in sequence_lengths:\n",
    "    for burn_in_length in burn_in_lengths:\n",
    "        for t in range(trials):\n",
    "            exp_name = f'cartpole_seq{sequence_length}bil{burn_in_length}_t{t}'\n",
    "            \n",
    "            config = {\n",
    "                'exp_name': exp_name,\n",
    "                'seed': t,\n",
    "                'sequence_length': sequence_length,\n",
    "                'burn_in_length': burn_in_length\n",
    "            }\n",
    "            \n",
    "            pickle.dump(config, open(f'../experiment_configs/{exp_name}', 'wb'))"
   ]
  },
  {
   "cell_type": "markdown",
   "id": "33c1b560-f8fb-4da6-8dee-040ee075888d",
   "metadata": {},
   "source": [
    "# NavEnv-v0 Hyperparameter Testing\n",
    "\n",
    "Running some experiments to see how new hyperparameters introduced by using the R2D2 algorithm affect things"
   ]
  },
  {
   "cell_type": "markdown",
   "id": "64cbc844-001b-4236-ae7c-4e2aa9ca0bdc",
   "metadata": {},
   "source": [
    "## Sequence Length and Burn in Length"
   ]
  },
  {
   "cell_type": "code",
   "execution_count": 18,
   "id": "2e54f9ba-b257-4454-9e17-61ecff63578c",
   "metadata": {},
   "outputs": [],
   "source": [
    "\n",
    "sequence_lengths = [2, 4, 8, 16, 32]\n",
    "burn_in_lengths = [4, 8, 16]\n",
    "trials = 3\n",
    "\n",
    "for seq in sequence_lengths:\n",
    "    for bil in burn_in_lengths:\n",
    "        for trial in range(trials):\n",
    "            exp_name = f'mwm_seq{seq}bil{bil}_t{trial}'\n",
    "            \n",
    "            config = {\n",
    "                'exp_name': exp_name,\n",
    "\n",
    "                'total_timesteps': 800000,\n",
    "                'buffer_size': 20000,\n",
    "                'batch_size': 256,\n",
    "                'sequence_length': seq,\n",
    "                'burn_in_length': bil,\n",
    "\n",
    "                'save_name': exp_name,\n",
    "                'save_dir': 'mwm_seqbil',\n",
    "                'checkpoint_interval': 4000,\n",
    "                'checkpoint_dir': 'mwm_seqbil',\n",
    "\n",
    "                'env_id': 'NavEnv-v0',\n",
    "                'env_kwargs': {\n",
    "                    'num_objects': 0, 'rew_structure': 'goal',\n",
    "                    'task_structure': 2, 'wall_colors': 4,\n",
    "                    'num_rays': 12, 'fov': 1\n",
    "                }\n",
    "            }\n",
    "\n",
    "            pickle.dump(config, open(f'../experiment_configs/{exp_name}', 'wb'))"
   ]
  },
  {
   "cell_type": "code",
   "execution_count": 2,
   "id": "8bf86b94-68b5-439a-bc62-43f467c18c4c",
   "metadata": {},
   "outputs": [],
   "source": [
    "\n",
    "sequence_lengths = [2, 4, 8, 16, 32]\n",
    "# burn_in_lengths = [4, 8, 16]\n",
    "burn_in_lengths = [0, 2]\n",
    "trials = 3\n",
    "\n",
    "for seq in sequence_lengths:\n",
    "    for bil in burn_in_lengths:\n",
    "        for trial in range(trials):\n",
    "            exp_name = f'mwm_seq{seq}bil{bil}_t{trial}'\n",
    "            \n",
    "            config = {\n",
    "                'exp_name': exp_name,\n",
    "\n",
    "                'total_timesteps': 800000,\n",
    "                'buffer_size': 20000,\n",
    "                'batch_size': 256,\n",
    "                'sequence_length': seq,\n",
    "                'burn_in_length': bil,\n",
    "\n",
    "                'save_name': exp_name,\n",
    "                'save_dir': 'mwm_seqbil',\n",
    "                'checkpoint_interval': 4000,\n",
    "                'checkpoint_dir': 'mwm_seqbil',\n",
    "\n",
    "                'env_id': 'NavEnv-v0',\n",
    "                'env_kwargs': {\n",
    "                    'num_objects': 0, 'rew_structure': 'goal',\n",
    "                    'task_structure': 2, 'wall_colors': 4,\n",
    "                    'num_rays': 12, 'fov': 1\n",
    "                }\n",
    "            }\n",
    "\n",
    "            pickle.dump(config, open(f'../experiment_configs/{exp_name}', 'wb'))"
   ]
  },
  {
   "cell_type": "markdown",
   "id": "9e11c1fe-74c0-4282-ae74-85718c54b9ff",
   "metadata": {},
   "source": [
    "## Batch size and Buffer size"
   ]
  },
  {
   "cell_type": "code",
   "execution_count": 5,
   "id": "642f4d9e-5f01-4bfc-a4dc-07e13a1da2f2",
   "metadata": {},
   "outputs": [],
   "source": [
    "buffer_sizes = [10000, 20000, 40000, 80000]\n",
    "trials = 3\n",
    "\n",
    "for buffer_size in buffer_sizes:\n",
    "    for trial in range(trials):\n",
    "        exp_name = f'mwm_buffer{buffer_size}_t{trial}'\n",
    "\n",
    "        config = {\n",
    "            'exp_name': exp_name,\n",
    "\n",
    "            'total_timesteps': 800000,\n",
    "            'buffer_size': buffer_size,\n",
    "            'batch_size': 256,\n",
    "            'sequence_length': 8,\n",
    "            'burn_in_length': 8,\n",
    "            'train_frequency': 10,\n",
    "\n",
    "            'save_name': exp_name,\n",
    "            'save_dir': 'mwm_seqbil',\n",
    "            'checkpoint_interval': 4000,\n",
    "            'checkpoint_dir': 'mwm_seqbil',\n",
    "\n",
    "            'env_id': 'NavEnv-v0',\n",
    "            'env_kwargs': {\n",
    "                'num_objects': 0, 'rew_structure': 'goal',\n",
    "                'task_structure': 2, 'wall_colors': 4,\n",
    "                'num_rays': 12, 'fov': 1\n",
    "            }\n",
    "        }\n",
    "\n",
    "        pickle.dump(config, open(f'../experiment_configs/{exp_name}', 'wb'))"
   ]
  },
  {
   "cell_type": "code",
   "execution_count": 6,
   "id": "dececba6-c115-4f26-9b8f-b704130999f1",
   "metadata": {},
   "outputs": [],
   "source": [
    "batch_sizes = [16, 32, 64, 128, 256, 512, 1024]\n",
    "trials = 3\n",
    "\n",
    "for batch_size in batch_sizes:\n",
    "    for trial in range(trials):\n",
    "        exp_name = f'mwm_batch{batch_size}_t{trial}'\n",
    "\n",
    "        config = {\n",
    "            'exp_name': exp_name,\n",
    "\n",
    "            'total_timesteps': 800000,\n",
    "            'buffer_size': 20000,\n",
    "            'batch_size': batch_size,\n",
    "            'sequence_length': 8,\n",
    "            'burn_in_length': 8,\n",
    "            'train_frequency': 10,\n",
    "\n",
    "            'save_name': exp_name,\n",
    "            'save_dir': 'mwm_seqbil',\n",
    "            'checkpoint_interval': 4000,\n",
    "            'checkpoint_dir': 'mwm_seqbil',\n",
    "\n",
    "            'env_id': 'NavEnv-v0',\n",
    "            'env_kwargs': {\n",
    "                'num_objects': 0, 'rew_structure': 'goal',\n",
    "                'task_structure': 2, 'wall_colors': 4,\n",
    "                'num_rays': 12, 'fov': 1\n",
    "            }\n",
    "        }\n",
    "\n",
    "        pickle.dump(config, open(f'../experiment_configs/{exp_name}', 'wb'))"
   ]
  },
  {
   "cell_type": "code",
   "execution_count": 4,
   "id": "ba63411c-1d24-455a-97c9-6f544ee931a6",
   "metadata": {},
   "outputs": [],
   "source": [
    "from pathlib import Path"
   ]
  },
  {
   "cell_type": "code",
   "execution_count": 14,
   "id": "f0879453-ca76-4494-bb5a-9e0757d2e447",
   "metadata": {},
   "outputs": [],
   "source": [
    "path = Path('../saved_checkpoints/mwm_seqbil/')/'mwm_seqbil_t0'"
   ]
  },
  {
   "cell_type": "code",
   "execution_count": 15,
   "id": "c7265602-5908-420b-b56e-ba3635cce097",
   "metadata": {},
   "outputs": [],
   "source": [
    "path.mkdir(exist_ok=True, parents=True)"
   ]
  }
 ],
 "metadata": {
  "kernelspec": {
   "display_name": "Python 3 (ipykernel)",
   "language": "python",
   "name": "python3"
  },
  "language_info": {
   "codemirror_mode": {
    "name": "ipython",
    "version": 3
   },
   "file_extension": ".py",
   "mimetype": "text/x-python",
   "name": "python",
   "nbconvert_exporter": "python",
   "pygments_lexer": "ipython3",
   "version": "3.9.12"
  }
 },
 "nbformat": 4,
 "nbformat_minor": 5
}
