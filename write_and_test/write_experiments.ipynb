{
 "cells": [
  {
   "cell_type": "code",
   "execution_count": 1,
   "id": "a4cecfca-bef9-421a-9289-88bde0a64a5a",
   "metadata": {},
   "outputs": [],
   "source": [
    "import pickle\n",
    "import pandas as pd\n",
    "from datetime import datetime\n",
    "import os\n",
    "import numpy as np"
   ]
  },
  {
   "cell_type": "markdown",
   "id": "79780682-0a94-4de4-8da5-86503b17b7c9",
   "metadata": {},
   "source": [
    "# Basic CartPole sequence length testing"
   ]
  },
  {
   "cell_type": "code",
   "execution_count": 6,
   "id": "ec968088-7138-449b-87bb-d77b5f78eac0",
   "metadata": {},
   "outputs": [],
   "source": [
    "sequence_lengths = [2, 4, 8, 16]\n",
    "burn_in_lengths = [2, 4, 8]\n",
    "trials = 3\n",
    "\n",
    "for sequence_length in sequence_lengths:\n",
    "    for burn_in_length in burn_in_lengths:\n",
    "        for t in range(trials):\n",
    "            exp_name = f'cartpole_seq{sequence_length}bil{burn_in_length}_t{t}'\n",
    "            \n",
    "            config = {\n",
    "                'exp_name': exp_name,\n",
    "                'seed': t,\n",
    "                'sequence_length': sequence_length,\n",
    "                'burn_in_length': burn_in_length\n",
    "            }\n",
    "            \n",
    "            pickle.dump(config, open(f'../experiment_configs/{exp_name}', 'wb'))"
   ]
  },
  {
   "cell_type": "markdown",
   "id": "33c1b560-f8fb-4da6-8dee-040ee075888d",
   "metadata": {},
   "source": [
    "# NavEnv-v0 Testing"
   ]
  },
  {
   "cell_type": "code",
   "execution_count": 5,
   "id": "2e54f9ba-b257-4454-9e17-61ecff63578c",
   "metadata": {},
   "outputs": [],
   "source": [
    "exp_name = f'mwm_base1_t0'\n",
    "\n",
    "config = {\n",
    "    'exp_name': exp_name,\n",
    "    'save_name': exp_name,\n",
    "    \n",
    "    'total_timesteps': 500000,\n",
    "    'buffer_size': 20000,\n",
    "    'batch_size': 256,\n",
    "    'sequence_length': 8,\n",
    "    'burn_in_length': 4,\n",
    "    \n",
    "    'env_id': 'NavEnv-v0',\n",
    "    'env_kwargs': {\n",
    "        'num_objects': 0, 'rew_structure': 'goal',\n",
    "        'task_structure': 2, 'wall_colors': 4,\n",
    "        'num_rays': 12, 'fov': 1\n",
    "    }\n",
    "}\n",
    "\n",
    "pickle.dump(config, open(f'../experiment_configs/{exp_name}', 'wb'))"
   ]
  }
 ],
 "metadata": {
  "kernelspec": {
   "display_name": "Python 3 (ipykernel)",
   "language": "python",
   "name": "python3"
  },
  "language_info": {
   "codemirror_mode": {
    "name": "ipython",
    "version": 3
   },
   "file_extension": ".py",
   "mimetype": "text/x-python",
   "name": "python",
   "nbconvert_exporter": "python",
   "pygments_lexer": "ipython3",
   "version": "3.9.12"
  }
 },
 "nbformat": 4,
 "nbformat_minor": 5
}
